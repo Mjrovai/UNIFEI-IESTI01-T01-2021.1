{
  "nbformat": 4,
  "nbformat_minor": 0,
  "metadata": {
    "colab": {
      "name": "TF_First_Neural_Network_v2.ipynb",
      "provenance": []
    },
    "kernelspec": {
      "display_name": "Python 3",
      "language": "python",
      "name": "python3"
    },
    "language_info": {
      "codemirror_mode": {
        "name": "ipython",
        "version": 3
      },
      "file_extension": ".py",
      "mimetype": "text/x-python",
      "name": "python",
      "nbconvert_exporter": "python",
      "pygments_lexer": "ipython3",
      "version": "3.6.9"
    }
  },
  "cells": [
    {
      "cell_type": "markdown",
      "metadata": {
        "id": "8LXOB7WZMEyN"
      },
      "source": [
        "# TF First Neural Network V2\n",
        "- Exploring EPOCHS using CallBacks"
      ]
    },
    {
      "cell_type": "markdown",
      "metadata": {
        "id": "O9_MLEnwMGLw"
      },
      "source": [
        "## Import Libraries"
      ]
    },
    {
      "cell_type": "code",
      "metadata": {
        "colab": {
          "base_uri": "https://localhost:8080/"
        },
        "id": "QCm3x_4F8bvg",
        "outputId": "f2b5e67b-c061-4c42-f9ca-6928c837d4fd"
      },
      "source": [
        "%tensorflow_version 2.x\n",
        "import tensorflow as tf\n",
        "import numpy as np\n",
        "\n",
        "print(tf.version.VERSION)"
      ],
      "execution_count": null,
      "outputs": [
        {
          "output_type": "stream",
          "text": [
            "2.4.1\n"
          ],
          "name": "stdout"
        }
      ]
    },
    {
      "cell_type": "markdown",
      "metadata": {
        "id": "TFwzjVOyMYj0"
      },
      "source": [
        "## Dataset"
      ]
    },
    {
      "cell_type": "code",
      "metadata": {
        "id": "o4i0p7efDX2M"
      },
      "source": [
        "# define some training data (xs as inputs and ys as outputs)\n",
        "\n",
        "xs = np.array([-1.0,  0.0, 1.0, 2.0, 3.0, 4.0], dtype=float) \n",
        "ys = np.array([-3.0, -1.0, 1.0, 3.0, 5.0, 7.0], dtype=float)"
      ],
      "execution_count": null,
      "outputs": []
    },
    {
      "cell_type": "markdown",
      "metadata": {
        "id": "GVMr79-_MiII"
      },
      "source": [
        "## Define Model (NN Arquitecture)"
      ]
    },
    {
      "cell_type": "code",
      "metadata": {
        "id": "CLqOZPfC8gfb"
      },
      "source": [
        "# define a neural network with one neuron\n",
        "# for more information on TF functions see: https://www.tensorflow.org/api_docs\n",
        "\n",
        "model = tf.keras.Sequential([tf.keras.layers.Dense(units=1, input_shape=[1])])"
      ],
      "execution_count": null,
      "outputs": []
    },
    {
      "cell_type": "markdown",
      "metadata": {
        "id": "SaqMbbf5Mos8"
      },
      "source": [
        "## Compile Model"
      ]
    },
    {
      "cell_type": "code",
      "metadata": {
        "id": "rUyEy3iMDKy3"
      },
      "source": [
        "# use stochastic gradient descent for optimization and\n",
        "# the mean squared error loss function\n",
        "\n",
        "model.compile(optimizer='sgd', loss='mean_squared_error')"
      ],
      "execution_count": null,
      "outputs": []
    },
    {
      "cell_type": "code",
      "metadata": {
        "colab": {
          "base_uri": "https://localhost:8080/"
        },
        "id": "B_iL7WpMNCWp",
        "outputId": "de90008e-7b68-4554-ea77-ce1860213750"
      },
      "source": [
        "model.summary()"
      ],
      "execution_count": null,
      "outputs": [
        {
          "output_type": "stream",
          "text": [
            "Model: \"sequential_2\"\n",
            "_________________________________________________________________\n",
            "Layer (type)                 Output Shape              Param #   \n",
            "=================================================================\n",
            "dense_2 (Dense)              (None, 1)                 2         \n",
            "=================================================================\n",
            "Total params: 2\n",
            "Trainable params: 2\n",
            "Non-trainable params: 0\n",
            "_________________________________________________________________\n"
          ],
          "name": "stdout"
        }
      ]
    },
    {
      "cell_type": "markdown",
      "metadata": {
        "id": "UsF5wyWpO3fP"
      },
      "source": [
        "Viewing initial weights (parameters)"
      ]
    },
    {
      "cell_type": "code",
      "metadata": {
        "colab": {
          "base_uri": "https://localhost:8080/"
        },
        "id": "foCw7XZhNU8i",
        "outputId": "31ec50e0-ff5f-44b4-ca6f-d2c86f7793e9"
      },
      "source": [
        "model.get_weights() # list of parameters "
      ],
      "execution_count": null,
      "outputs": [
        {
          "output_type": "execute_result",
          "data": {
            "text/plain": [
              "[array([[0.02784789]], dtype=float32), array([0.], dtype=float32)]"
            ]
          },
          "metadata": {
            "tags": []
          },
          "execution_count": 26
        }
      ]
    },
    {
      "cell_type": "code",
      "metadata": {
        "colab": {
          "base_uri": "https://localhost:8080/"
        },
        "id": "c7Z5OEcDOAEy",
        "outputId": "fc1ba25f-0eb2-49be-e607-22527c9d438f"
      },
      "source": [
        "print(\"wi = \", model.get_weights()[0])\n",
        "print(\"b  = \", model.get_weights()[1])"
      ],
      "execution_count": null,
      "outputs": [
        {
          "output_type": "stream",
          "text": [
            "wi =  [[0.02784789]]\n",
            "b  =  [0.]\n"
          ],
          "name": "stdout"
        }
      ]
    },
    {
      "cell_type": "markdown",
      "metadata": {
        "id": "RDHKYghlNBLh"
      },
      "source": [
        "## Training"
      ]
    },
    {
      "cell_type": "code",
      "metadata": {
        "id": "pEbM3UYJ_uCw"
      },
      "source": [
        "predictions = []\n",
        "class myCallback(tf.keras.callbacks.Callback):\n",
        "  def on_epoch_end(self, epoch, logs={}):\n",
        "    predictions.append(model.predict(xs))\n",
        "callbacks = myCallback()"
      ],
      "execution_count": null,
      "outputs": []
    },
    {
      "cell_type": "code",
      "metadata": {
        "id": "UorrgCYTETFn"
      },
      "source": [
        "# fit the model to the data (aka train the model)\n",
        "\n",
        "history = model.fit(xs, ys, epochs=500, callbacks=[callbacks], verbose=0)"
      ],
      "execution_count": null,
      "outputs": []
    },
    {
      "cell_type": "markdown",
      "metadata": {
        "id": "93itssi3PgsX"
      },
      "source": [
        "Inspect model"
      ]
    },
    {
      "cell_type": "code",
      "metadata": {
        "colab": {
          "base_uri": "https://localhost:8080/",
          "height": 295
        },
        "id": "vpdU7AZbT0YJ",
        "outputId": "19b1b308-8a64-4600-889a-1bf962fd6816"
      },
      "source": [
        "import matplotlib.pyplot as plt\n",
        "plt.plot(history.history['loss'])\n",
        "plt.title('model loss')\n",
        "plt.ylabel('loss')\n",
        "plt.xlabel('epoch')\n",
        "plt.legend(['train'], loc='upper right')\n",
        "plt.show()"
      ],
      "execution_count": null,
      "outputs": [
        {
          "output_type": "display_data",
          "data": {
            "image/png": "[encoded data removed]",
            "text/plain": [
              "<Figure size 432x288 with 1 Axes>"
            ]
          },
          "metadata": {
            "tags": [],
            "needs_background": "light"
          }
        }
      ]
    },
    {
      "cell_type": "code",
      "metadata": {
        "colab": {
          "base_uri": "https://localhost:8080/"
        },
        "id": "Knk6L2pzPjo_",
        "outputId": "dcabe117-bd92-4def-b446-0a7ead4f2073"
      },
      "source": [
        "print(\"wi = \", model.get_weights()[0])\n",
        "print(\"b  = \", model.get_weights()[1])"
      ],
      "execution_count": null,
      "outputs": [
        {
          "output_type": "stream",
          "text": [
            "wi =  [[1.9973328]]\n",
            "b  =  [-0.99173105]\n"
          ],
          "name": "stdout"
        }
      ]
    },
    {
      "cell_type": "markdown",
      "metadata": {
        "id": "_oli3anGPV4z"
      },
      "source": [
        "## Test model"
      ]
    },
    {
      "cell_type": "code",
      "metadata": {
        "colab": {
          "base_uri": "https://localhost:8080/"
        },
        "id": "nidfsvPCEWlE",
        "outputId": "ccd09810-8af7-4fb0-8f36-97e42a8be3d3"
      },
      "source": [
        "# Predict the output of a new data (Inference)\n",
        "\n",
        "print(model.predict([10.0]))"
      ],
      "execution_count": null,
      "outputs": [
        {
          "output_type": "stream",
          "text": [
            "[[18.981596]]\n"
          ],
          "name": "stdout"
        }
      ]
    },
    {
      "cell_type": "code",
      "metadata": {
        "id": "wsi1qdWpAuCY",
        "colab": {
          "base_uri": "https://localhost:8080/"
        },
        "outputId": "08aeee63-a1ed-411a-c6ff-cceb48b46b91"
      },
      "source": [
        "model.predict(xs).shape"
      ],
      "execution_count": null,
      "outputs": [
        {
          "output_type": "execute_result",
          "data": {
            "text/plain": [
              "(6, 1)"
            ]
          },
          "metadata": {
            "tags": []
          },
          "execution_count": 33
        }
      ]
    },
    {
      "cell_type": "code",
      "metadata": {
        "id": "z7_reKh8CQ8H",
        "colab": {
          "base_uri": "https://localhost:8080/"
        },
        "outputId": "d7bbacfa-0647-46e8-947d-675b9d739e4c"
      },
      "source": [
        "model.predict(xs)"
      ],
      "execution_count": null,
      "outputs": [
        {
          "output_type": "execute_result",
          "data": {
            "text/plain": [
              "array([[-2.9890637 ],\n",
              "       [-0.99173105],\n",
              "       [ 1.0056018 ],\n",
              "       [ 3.0029345 ],\n",
              "       [ 5.0002675 ],\n",
              "       [ 6.9976    ]], dtype=float32)"
            ]
          },
          "metadata": {
            "tags": []
          },
          "execution_count": 34
        }
      ]
    },
    {
      "cell_type": "code",
      "metadata": {
        "id": "WIDpWAouCaBC",
        "colab": {
          "base_uri": "https://localhost:8080/"
        },
        "outputId": "2235bf5d-f716-4c3d-91a0-667870c7a412"
      },
      "source": [
        "ys"
      ],
      "execution_count": null,
      "outputs": [
        {
          "output_type": "execute_result",
          "data": {
            "text/plain": [
              "array([-3., -1.,  1.,  3.,  5.,  7.])"
            ]
          },
          "metadata": {
            "tags": []
          },
          "execution_count": 35
        }
      ]
    },
    {
      "cell_type": "code",
      "metadata": {
        "id": "V1M4NgGIMrBV",
        "colab": {
          "base_uri": "https://localhost:8080/",
          "height": 295
        },
        "outputId": "7ebf5668-0d4a-414e-cc82-6908c9d1e2e9"
      },
      "source": [
        "plt.plot(xs, ys, color='red', marker='o', label='ys')\n",
        "plt.axis([-1,5,-5,8])\n",
        "plt.title('X match Y')\n",
        "plt.xlabel('xs (input data)')\n",
        "plt.ylabel('ys (output)')\n",
        "plt.legend(loc='upper left')\n",
        "plt.grid()"
      ],
      "execution_count": null,
      "outputs": [
        {
          "output_type": "display_data",
          "data": {
            "image/png": "[encoded data removed]",
            "text/plain": [
              "<Figure size 432x288 with 1 Axes>"
            ]
          },
          "metadata": {
            "tags": [],
            "needs_background": "light"
          }
        }
      ]
    },
    {
      "cell_type": "code",
      "metadata": {
        "id": "kebrP9CEBIfx",
        "colab": {
          "base_uri": "https://localhost:8080/"
        },
        "outputId": "00c39f3d-1b21-4627-948d-9259173e0f92"
      },
      "source": [
        "len(predictions)"
      ],
      "execution_count": null,
      "outputs": [
        {
          "output_type": "execute_result",
          "data": {
            "text/plain": [
              "500"
            ]
          },
          "metadata": {
            "tags": []
          },
          "execution_count": 18
        }
      ]
    },
    {
      "cell_type": "code",
      "metadata": {
        "id": "JqMGl465BfC9",
        "colab": {
          "base_uri": "https://localhost:8080/"
        },
        "outputId": "cf7b0ed9-a5a3-4cc3-c6d0-00b563687149"
      },
      "source": [
        "predictions[100]"
      ],
      "execution_count": null,
      "outputs": [
        {
          "output_type": "execute_result",
          "data": {
            "text/plain": [
              "array([[-2.3126507 ],\n",
              "       [-0.48029047],\n",
              "       [ 1.3520699 ],\n",
              "       [ 3.1844301 ],\n",
              "       [ 5.0167904 ],\n",
              "       [ 6.8491507 ]], dtype=float32)"
            ]
          },
          "metadata": {
            "tags": []
          },
          "execution_count": 21
        }
      ]
    },
    {
      "cell_type": "code",
      "metadata": {
        "id": "ERv44Ar_GigE",
        "colab": {
          "base_uri": "https://localhost:8080/",
          "height": 295
        },
        "outputId": "a35a8c2d-f636-40bf-bcbb-fbab6d2c791d"
      },
      "source": [
        "EPOCH = 5\n",
        "plt.plot(xs, ys, color='red', marker='o', label='ys')\n",
        "plt.plot(xs, predictions[EPOCH-1], color='blue', label='predictions')\n",
        "plt.axis([-1,5,-5,8])\n",
        "plt.title('Predictions')\n",
        "plt.xlabel('xs (input data)')\n",
        "plt.ylabel('ys (output)')\n",
        "plt.legend(loc='upper left')\n",
        "plt.grid()"
      ],
      "execution_count": null,
      "outputs": [
        {
          "output_type": "display_data",
          "data": {
            "image/png": "[encoded data removed]",
            "text/plain": [
              "<Figure size 432x288 with 1 Axes>"
            ]
          },
          "metadata": {
            "tags": [],
            "needs_background": "light"
          }
        }
      ]
    },
    {
      "cell_type": "code",
      "metadata": {
        "id": "-yRATIeOLP7v",
        "colab": {
          "base_uri": "https://localhost:8080/",
          "height": 350
        },
        "outputId": "ae6f3e81-b5b0-459c-a32e-c73672eb5c4f"
      },
      "source": [
        "EPOCHS = [1, 10, 25, 50, 100]\n",
        "plt.figure(figsize=(10,5))\n",
        "plt.plot(xs, ys, color='red', marker='o', label='ys')\n",
        "for EPOCH in EPOCHS:\n",
        "    plt.plot(xs, predictions[EPOCH-1], label = \"Epoch = \"+str(EPOCH))\n",
        "\n",
        "plt.axis([-1,5,-5,8])\n",
        "plt.title('Predictions')\n",
        "plt.xlabel('xs (input data)')\n",
        "plt.ylabel('ys (output)')\n",
        "plt.legend(loc='upper left')\n",
        "plt.grid()"
      ],
      "execution_count": null,
      "outputs": [
        {
          "output_type": "display_data",
          "data": {
            "image/png": "[encoded data removed]",
            "text/plain": [
              "<Figure size 720x360 with 1 Axes>"
            ]
          },
          "metadata": {
            "tags": [],
            "needs_background": "light"
          }
        }
      ]
    }
  ]
}