{
  "nbformat": 4,
  "nbformat_minor": 0,
  "metadata": {
    "accelerator": "GPU",
    "colab": {
      "name": "CNN_Cifar_10.ipynb",
      "provenance": []
    },
    "kernelspec": {
      "display_name": "Python 3",
      "language": "python",
      "name": "python3"
    },
    "language_info": {
      "codemirror_mode": {
        "name": "ipython",
        "version": 3
      },
      "file_extension": ".py",
      "mimetype": "text/x-python",
      "name": "python",
      "nbconvert_exporter": "python",
      "pygments_lexer": "ipython3",
      "version": "3.6.9"
    }
  },
  "cells": [
    {
      "cell_type": "markdown",
      "metadata": {
        "id": "iiVBUpuHXEtw"
      },
      "source": [
        "# CNN to classify Cifar-10 dataset (Images)\n",
        "\n"
      ]
    },
    {
      "cell_type": "markdown",
      "metadata": {
        "id": "Gt0KwMrt0I0n"
      },
      "source": [
        "So far, we saw how to build a Dense Neural Network (DNN) that classified images of digits (MNIST) or even fashion images (Fashion-MNIST). Here we will instead, recognize the 10 classes of CIFAR ('airplane', 'automobile', 'bird', 'cat', 'deer', 'dog', 'frog', 'horse', 'ship' and 'truck'). There are some key differences between these two image datasets that we need to take into account. \n",
        "\n",
        "First, while MNIST were 28x28 monochrome images (1 color channel), CIFAR is 32x32 color images (3 color channels).\n",
        "\n",
        "Second, MNIST images are simple, containing just the object centered in the image, with no background. Conversely, CIFAR ones are not centered and can have the object with a background, such as airplanes that might have a cloudy sky behind them! Those differences are the main reason to use a CNN instead of a DNN. "
      ]
    },
    {
      "cell_type": "markdown",
      "metadata": {
        "id": "_WnUJoAL1pc2"
      },
      "source": [
        "## Import Libraries"
      ]
    },
    {
      "cell_type": "code",
      "metadata": {
        "id": "6OQ_tVTaU3oo"
      },
      "source": [
        "import numpy as np\n",
        "import matplotlib.pyplot as plt\n",
        "import tensorflow as tf\n",
        "from tensorflow.keras import datasets, layers, models"
      ],
      "execution_count": 1,
      "outputs": []
    },
    {
      "cell_type": "markdown",
      "metadata": {
        "id": "sPogyxx5zt5J"
      },
      "source": [
        "## Import and Inspect Dataset"
      ]
    },
    {
      "cell_type": "markdown",
      "metadata": {
        "id": "MNoaUYniNr5M"
      },
      "source": [
        "Cifar-10 repository: https://www.cs.toronto.edu/~kriz/cifar.html\n",
        "\n",
        "\n",
        "\n"
      ]
    },
    {
      "cell_type": "code",
      "metadata": {
        "id": "jiwcGwmLJVIc",
        "colab": {
          "base_uri": "https://localhost:8080/"
        },
        "outputId": "021614ba-f70b-46e5-e76a-3844221b2be9"
      },
      "source": [
        "cifar10 = datasets.cifar10\n",
        "(train_images, train_labels), (test_images, test_labels) = cifar10.load_data()"
      ],
      "execution_count": 2,
      "outputs": [
        {
          "output_type": "stream",
          "text": [
            "Downloading data from https://www.cs.toronto.edu/~kriz/cifar-10-python.tar.gz\n",
            "170500096/170498071 [==============================] - 2s 0us/step\n"
          ],
          "name": "stdout"
        }
      ]
    },
    {
      "cell_type": "code",
      "metadata": {
        "id": "3x39c36sJ60N",
        "colab": {
          "base_uri": "https://localhost:8080/"
        },
        "outputId": "4b926e03-32d7-48d0-abc3-d7ed90520728"
      },
      "source": [
        "print(train_images.shape, train_labels.shape)\n",
        "print(test_images.shape, test_labels.shape)"
      ],
      "execution_count": 3,
      "outputs": [
        {
          "output_type": "stream",
          "text": [
            "(50000, 32, 32, 3) (50000, 1)\n",
            "(10000, 32, 32, 3) (10000, 1)\n"
          ],
          "name": "stdout"
        }
      ]
    },
    {
      "cell_type": "markdown",
      "metadata": {
        "id": "yzWNjl4JjiKU"
      },
      "source": [
        "- The image data shape is: `(#images, img_heigth, img_width, #channels)`, where channels are in RGB format (red, green, blue). \n",
        "- The labels shape is `(#images, label)`, where label goes from 0 to 9.\n"
      ]
    },
    {
      "cell_type": "code",
      "metadata": {
        "colab": {
          "base_uri": "https://localhost:8080/"
        },
        "id": "Vopv6HetVj8y",
        "outputId": "179380f2-8a7c-434c-bf96-239ecc904a5d"
      },
      "source": [
        "train_images[1]"
      ],
      "execution_count": 26,
      "outputs": [
        {
          "output_type": "execute_result",
          "data": {
            "text/plain": [
              "array([[[154, 177, 187],\n",
              "        [126, 137, 136],\n",
              "        [105, 104,  95],\n",
              "        ...,\n",
              "        [ 91,  95,  71],\n",
              "        [ 87,  90,  71],\n",
              "        [ 79,  81,  70]],\n",
              "\n",
              "       [[140, 160, 169],\n",
              "        [145, 153, 154],\n",
              "        [125, 125, 118],\n",
              "        ...,\n",
              "        [ 96,  99,  78],\n",
              "        [ 77,  80,  62],\n",
              "        [ 71,  73,  61]],\n",
              "\n",
              "       [[140, 155, 164],\n",
              "        [139, 146, 149],\n",
              "        [115, 115, 112],\n",
              "        ...,\n",
              "        [ 79,  82,  64],\n",
              "        [ 68,  70,  55],\n",
              "        [ 67,  69,  55]],\n",
              "\n",
              "       ...,\n",
              "\n",
              "       [[175, 167, 166],\n",
              "        [156, 154, 160],\n",
              "        [154, 160, 170],\n",
              "        ...,\n",
              "        [ 42,  34,  36],\n",
              "        [ 61,  53,  57],\n",
              "        [ 93,  83,  91]],\n",
              "\n",
              "       [[165, 154, 128],\n",
              "        [156, 152, 130],\n",
              "        [159, 161, 142],\n",
              "        ...,\n",
              "        [103,  93,  96],\n",
              "        [123, 114, 120],\n",
              "        [131, 121, 131]],\n",
              "\n",
              "       [[163, 148, 120],\n",
              "        [158, 148, 122],\n",
              "        [163, 156, 133],\n",
              "        ...,\n",
              "        [143, 133, 139],\n",
              "        [143, 134, 142],\n",
              "        [143, 133, 144]]], dtype=uint8)"
            ]
          },
          "metadata": {
            "tags": []
          },
          "execution_count": 26
        }
      ]
    },
    {
      "cell_type": "code",
      "metadata": {
        "id": "chqX49HIlW5c",
        "colab": {
          "base_uri": "https://localhost:8080/",
          "height": 266
        },
        "outputId": "35470845-ec73-429d-f183-0149bf4a9b6b"
      },
      "source": [
        "plt.imshow(train_images[1]);"
      ],
      "execution_count": 16,
      "outputs": [
        {
          "output_type": "display_data",
          "data": {
            "image/png": "[encoded data removed]",
            "text/plain": [
              "<Figure size 432x288 with 1 Axes>"
            ]
          },
          "metadata": {
            "tags": [],
            "needs_background": "light"
          }
        }
      ]
    },
    {
      "cell_type": "code",
      "metadata": {
        "id": "APDXWEtgKVfT",
        "colab": {
          "base_uri": "https://localhost:8080/"
        },
        "outputId": "57d312bb-1579-4c54-d33e-8779a1fdb006"
      },
      "source": [
        "train_labels[1][0]"
      ],
      "execution_count": 17,
      "outputs": [
        {
          "output_type": "execute_result",
          "data": {
            "text/plain": [
              "9"
            ]
          },
          "metadata": {
            "tags": []
          },
          "execution_count": 17
        }
      ]
    },
    {
      "cell_type": "markdown",
      "metadata": {
        "id": "TnUBI79QqL95"
      },
      "source": [
        "    The CIFAR labels happen to be arrays, which is why you need the extra index"
      ]
    },
    {
      "cell_type": "code",
      "metadata": {
        "id": "7oj0W6uIQxDm"
      },
      "source": [
        "class_names = ['airplane', 'automobile', 'bird', 'cat', 'deer', 'dog', 'frog', 'horse', 'ship', 'truck']"
      ],
      "execution_count": 10,
      "outputs": []
    },
    {
      "cell_type": "code",
      "metadata": {
        "colab": {
          "base_uri": "https://localhost:8080/"
        },
        "id": "nXehCF5qUg8j",
        "outputId": "fddd753f-fdb2-4a1f-86d2-42aa944ae87d"
      },
      "source": [
        "train_labels[1][0]"
      ],
      "execution_count": 20,
      "outputs": [
        {
          "output_type": "execute_result",
          "data": {
            "text/plain": [
              "9"
            ]
          },
          "metadata": {
            "tags": []
          },
          "execution_count": 20
        }
      ]
    },
    {
      "cell_type": "code",
      "metadata": {
        "id": "AMfskv-rpXv-",
        "colab": {
          "base_uri": "https://localhost:8080/",
          "height": 35
        },
        "outputId": "d6bd7533-c3b1-42a0-e1c0-67f6344a853b"
      },
      "source": [
        "idx = train_labels[1][0]\n",
        "class_names[idx]"
      ],
      "execution_count": 21,
      "outputs": [
        {
          "output_type": "execute_result",
          "data": {
            "application/vnd.google.colaboratory.intrinsic+json": {
              "type": "string"
            },
            "text/plain": [
              "'truck'"
            ]
          },
          "metadata": {
            "tags": []
          },
          "execution_count": 21
        }
      ]
    },
    {
      "cell_type": "code",
      "metadata": {
        "id": "tubjj9IeLLWp"
      },
      "source": [
        " def plot_train_img(img, size=1): \n",
        "    label = train_labels[img][0]\n",
        "    plt.figure(figsize=(size,size))\n",
        "    print(\"Label {} - {}\".format(label, class_names[label]))\n",
        "    plt.imshow(train_images[img])\n",
        "    plt.grid(False)\n",
        "    plt.axis('off')\n",
        "    plt.show()"
      ],
      "execution_count": 22,
      "outputs": []
    },
    {
      "cell_type": "code",
      "metadata": {
        "id": "sw_E_Jp4M1fK",
        "colab": {
          "base_uri": "https://localhost:8080/",
          "height": 102
        },
        "outputId": "f2445a4a-2350-4bc6-b4b3-0c8adef741a5"
      },
      "source": [
        "plot_train_img(6)"
      ],
      "execution_count": 25,
      "outputs": [
        {
          "output_type": "stream",
          "text": [
            "Label 2 - bird\n"
          ],
          "name": "stdout"
        },
        {
          "output_type": "display_data",
          "data": {
            "image/png": "[encoded data removed]",
            "text/plain": [
              "<Figure size 72x72 with 1 Axes>"
            ]
          },
          "metadata": {
            "tags": [],
            "needs_background": "light"
          }
        }
      ]
    },
    {
      "cell_type": "code",
      "metadata": {
        "id": "NIww0M0YqFe3"
      },
      "source": [
        "plt.figure(figsize=(10,10))\n",
        "for i in range(25):\n",
        "    plt.subplot(5,5,i+1)\n",
        "    plt.xticks([])\n",
        "    plt.yticks([])\n",
        "    plt.grid(False)\n",
        "    plt.imshow(train_images[i], cmap=plt.cm.binary)\n",
        "    plt.xlabel(class_names[train_labels[i][0]])\n",
        "plt.show()"
      ],
      "execution_count": null,
      "outputs": []
    },
    {
      "cell_type": "markdown",
      "metadata": {
        "id": "JyjP8DsPp-rj"
      },
      "source": [
        "Note that images are in color, not centered and with different backgrounds"
      ]
    },
    {
      "cell_type": "markdown",
      "metadata": {
        "id": "SuPx6Fpg2-ER"
      },
      "source": [
        "## Preprocessing dataset"
      ]
    },
    {
      "cell_type": "code",
      "metadata": {
        "id": "IDC5qAy9lxHI",
        "colab": {
          "base_uri": "https://localhost:8080/"
        },
        "outputId": "2dc109af-6bf7-4dab-9f64-1cc3011e773c"
      },
      "source": [
        "test_images.max()"
      ],
      "execution_count": 29,
      "outputs": [
        {
          "output_type": "execute_result",
          "data": {
            "text/plain": [
              "255"
            ]
          },
          "metadata": {
            "tags": []
          },
          "execution_count": 29
        }
      ]
    },
    {
      "cell_type": "code",
      "metadata": {
        "id": "zr1V-RwhJ0dC"
      },
      "source": [
        "# Normalize pixel values to be between 0 and 1\n",
        "train_images = train_images / 255.0\n",
        "test_images = test_images / 255.0"
      ],
      "execution_count": 30,
      "outputs": []
    },
    {
      "cell_type": "code",
      "metadata": {
        "colab": {
          "base_uri": "https://localhost:8080/"
        },
        "id": "Cx8cqGbeWHB2",
        "outputId": "495015d9-fda1-41d1-c368-9915f81377ab"
      },
      "source": [
        "test_images.max()"
      ],
      "execution_count": 31,
      "outputs": [
        {
          "output_type": "execute_result",
          "data": {
            "text/plain": [
              "1.0"
            ]
          },
          "metadata": {
            "tags": []
          },
          "execution_count": 31
        }
      ]
    },
    {
      "cell_type": "markdown",
      "metadata": {
        "id": "xsvJeVm6_3VB"
      },
      "source": [
        "## Create Model Arquitecture and Compile"
      ]
    },
    {
      "cell_type": "markdown",
      "metadata": {
        "id": "WF73ofMGqt3p"
      },
      "source": [
        "On Convolution layers, \n",
        "- strides is an integer or tuple/list of 2 integers, specifying the strides of the convolution along the height and width. Default (1,1).\n",
        "- padding: one of \"valid\" or \"same\" (case-insensitive). Default = 'valid'.\n",
        "  - \"valid\" means no padding.  \n",
        "  - \"same\" results in padding with zeros evenly\n",
        "to the left/right or up/down of the input such that output has the same\n"
      ]
    },
    {
      "cell_type": "code",
      "metadata": {
        "id": "law2hNzdVA16",
        "colab": {
          "base_uri": "https://localhost:8080/"
        },
        "outputId": "5448df95-9a97-462a-bfcd-762f1712201b"
      },
      "source": [
        "model = models.Sequential([\n",
        "       layers.Conv2D(32, (3,3), activation='relu', input_shape=(32, 32, 3)),\n",
        "       layers.MaxPooling2D(2, 2),\n",
        "       layers.Conv2D(64, (3,3), activation='relu'),\n",
        "       layers.MaxPooling2D(2,2),\n",
        "       layers.Flatten(),\n",
        "       layers.Dense(64, activation='relu'),\n",
        "       layers.Dense(10, activation='softmax'),\n",
        "])\n",
        "model.summary()"
      ],
      "execution_count": 32,
      "outputs": [
        {
          "output_type": "stream",
          "text": [
            "Model: \"sequential\"\n",
            "_________________________________________________________________\n",
            "Layer (type)                 Output Shape              Param #   \n",
            "=================================================================\n",
            "conv2d (Conv2D)              (None, 30, 30, 32)        896       \n",
            "_________________________________________________________________\n",
            "max_pooling2d (MaxPooling2D) (None, 15, 15, 32)        0         \n",
            "_________________________________________________________________\n",
            "conv2d_1 (Conv2D)            (None, 13, 13, 64)        18496     \n",
            "_________________________________________________________________\n",
            "max_pooling2d_1 (MaxPooling2 (None, 6, 6, 64)          0         \n",
            "_________________________________________________________________\n",
            "flatten (Flatten)            (None, 2304)              0         \n",
            "_________________________________________________________________\n",
            "dense (Dense)                (None, 64)                147520    \n",
            "_________________________________________________________________\n",
            "dense_1 (Dense)              (None, 10)                650       \n",
            "=================================================================\n",
            "Total params: 167,562\n",
            "Trainable params: 167,562\n",
            "Non-trainable params: 0\n",
            "_________________________________________________________________\n"
          ],
          "name": "stdout"
        }
      ]
    },
    {
      "cell_type": "code",
      "metadata": {
        "id": "Dxq2JU7dVIEX"
      },
      "source": [
        "LOSS = 'sparse_categorical_crossentropy'\n",
        "OPTIMIZER = 'adam'\n",
        "\n",
        "# Compile the model\n",
        "model.compile(optimizer=OPTIMIZER,\n",
        "              loss=LOSS,\n",
        "              metrics=['accuracy'])"
      ],
      "execution_count": 33,
      "outputs": []
    },
    {
      "cell_type": "markdown",
      "metadata": {
        "id": "utH8U6ud44cY"
      },
      "source": [
        "## Training"
      ]
    },
    {
      "cell_type": "markdown",
      "metadata": {
        "id": "PKeQmzKk4nZD"
      },
      "source": [
        "We can use the test dataset for validation during training, but the ideal is save it to be used after training to validate the final model. So, we will leave for TF to split a part of training data to use as epoch validation. "
      ]
    },
    {
      "cell_type": "code",
      "metadata": {
        "id": "SjAJ1xXz4pPE"
      },
      "source": [
        "NUM_EPOCHS = 20 #You can change this value if you like to experiment with it to get better accuracy"
      ],
      "execution_count": 35,
      "outputs": []
    },
    {
      "cell_type": "code",
      "metadata": {
        "id": "p1QKpQHFoVJI",
        "colab": {
          "base_uri": "https://localhost:8080/"
        },
        "outputId": "7f96d1a2-9238-45c4-c550-3cba58a4e628"
      },
      "source": [
        "# Fit the model\n",
        "history = model.fit(train_images, \n",
        "                    train_labels, \n",
        "                    epochs=NUM_EPOCHS, \n",
        "                    validation_split=0.1)\n",
        "                  "
      ],
      "execution_count": 36,
      "outputs": [
        {
          "output_type": "stream",
          "text": [
            "Epoch 1/20\n",
            "1407/1407 [==============================] - 36s 3ms/step - loss: 1.5289 - accuracy: 0.4482 - val_loss: 1.2653 - val_accuracy: 0.5504\n",
            "Epoch 2/20\n",
            "1407/1407 [==============================] - 4s 3ms/step - loss: 1.1780 - accuracy: 0.5875 - val_loss: 1.1063 - val_accuracy: 0.6118\n",
            "Epoch 3/20\n",
            "1407/1407 [==============================] - 4s 3ms/step - loss: 1.0402 - accuracy: 0.6376 - val_loss: 0.9980 - val_accuracy: 0.6598\n",
            "Epoch 4/20\n",
            "1407/1407 [==============================] - 4s 3ms/step - loss: 0.9583 - accuracy: 0.6653 - val_loss: 0.9676 - val_accuracy: 0.6650\n",
            "Epoch 5/20\n",
            "1407/1407 [==============================] - 4s 3ms/step - loss: 0.8975 - accuracy: 0.6890 - val_loss: 0.9062 - val_accuracy: 0.6942\n",
            "Epoch 6/20\n",
            "1407/1407 [==============================] - 4s 3ms/step - loss: 0.8379 - accuracy: 0.7080 - val_loss: 0.9557 - val_accuracy: 0.6746\n",
            "Epoch 7/20\n",
            "1407/1407 [==============================] - 4s 3ms/step - loss: 0.8013 - accuracy: 0.7234 - val_loss: 0.9108 - val_accuracy: 0.6884\n",
            "Epoch 8/20\n",
            "1407/1407 [==============================] - 4s 3ms/step - loss: 0.7533 - accuracy: 0.7381 - val_loss: 0.8718 - val_accuracy: 0.7088\n",
            "Epoch 9/20\n",
            "1407/1407 [==============================] - 4s 3ms/step - loss: 0.7161 - accuracy: 0.7528 - val_loss: 0.9035 - val_accuracy: 0.6956\n",
            "Epoch 10/20\n",
            "1407/1407 [==============================] - 4s 3ms/step - loss: 0.6824 - accuracy: 0.7636 - val_loss: 0.8968 - val_accuracy: 0.7018\n",
            "Epoch 11/20\n",
            "1407/1407 [==============================] - 5s 3ms/step - loss: 0.6475 - accuracy: 0.7752 - val_loss: 0.9303 - val_accuracy: 0.6996\n",
            "Epoch 12/20\n",
            "1407/1407 [==============================] - 4s 3ms/step - loss: 0.6218 - accuracy: 0.7834 - val_loss: 0.9176 - val_accuracy: 0.7020\n",
            "Epoch 13/20\n",
            "1407/1407 [==============================] - 4s 3ms/step - loss: 0.5915 - accuracy: 0.7955 - val_loss: 0.9086 - val_accuracy: 0.7050\n",
            "Epoch 14/20\n",
            "1407/1407 [==============================] - 4s 3ms/step - loss: 0.5626 - accuracy: 0.8047 - val_loss: 0.9472 - val_accuracy: 0.7036\n",
            "Epoch 15/20\n",
            "1407/1407 [==============================] - 4s 3ms/step - loss: 0.5444 - accuracy: 0.8098 - val_loss: 0.9887 - val_accuracy: 0.6960\n",
            "Epoch 16/20\n",
            "1407/1407 [==============================] - 4s 3ms/step - loss: 0.5163 - accuracy: 0.8212 - val_loss: 0.9729 - val_accuracy: 0.7026\n",
            "Epoch 17/20\n",
            "1407/1407 [==============================] - 4s 3ms/step - loss: 0.4931 - accuracy: 0.8273 - val_loss: 1.0039 - val_accuracy: 0.6962\n",
            "Epoch 18/20\n",
            "1407/1407 [==============================] - 4s 3ms/step - loss: 0.4746 - accuracy: 0.8338 - val_loss: 1.0627 - val_accuracy: 0.6844\n",
            "Epoch 19/20\n",
            "1407/1407 [==============================] - 4s 3ms/step - loss: 0.4534 - accuracy: 0.8399 - val_loss: 1.0926 - val_accuracy: 0.6912\n",
            "Epoch 20/20\n",
            "1407/1407 [==============================] - 4s 3ms/step - loss: 0.4323 - accuracy: 0.8476 - val_loss: 1.0864 - val_accuracy: 0.6970\n"
          ],
          "name": "stdout"
        }
      ]
    },
    {
      "cell_type": "code",
      "metadata": {
        "id": "o2VQKFylodzi",
        "colab": {
          "base_uri": "https://localhost:8080/",
          "height": 295
        },
        "outputId": "82917b65-6856-44f5-b233-9599a1353898"
      },
      "source": [
        "# summarize history for accuracy\n",
        "plt.plot(history.history['accuracy'])\n",
        "plt.plot(history.history['val_accuracy'])\n",
        "plt.title('model accuracy')\n",
        "plt.ylabel('accuracy')\n",
        "plt.xlabel('epoch')\n",
        "plt.legend(['train', 'validation'], loc='upper left')\n",
        "plt.xlim([0,NUM_EPOCHS])\n",
        "plt.ylim([0.4,1.0])\n",
        "plt.show()"
      ],
      "execution_count": 37,
      "outputs": [
        {
          "output_type": "display_data",
          "data": {
            "image/png": "[encoded data removed]",
            "text/plain": [
              "<Figure size 432x288 with 1 Axes>"
            ]
          },
          "metadata": {
            "tags": [],
            "needs_background": "light"
          }
        }
      ]
    },
    {
      "cell_type": "markdown",
      "metadata": {
        "id": "I9KzYRI05g_M"
      },
      "source": [
        "## Evaluate Model"
      ]
    },
    {
      "cell_type": "code",
      "metadata": {
        "id": "m3eLN-JVvduA",
        "colab": {
          "base_uri": "https://localhost:8080/"
        },
        "outputId": "fe4b08ed-56eb-40ef-a372-f8e6ebf71dbc"
      },
      "source": [
        "model.evaluate(test_images, test_labels)"
      ],
      "execution_count": 38,
      "outputs": [
        {
          "output_type": "stream",
          "text": [
            "313/313 [==============================] - 1s 2ms/step - loss: 1.1352 - accuracy: 0.6815\n"
          ],
          "name": "stdout"
        },
        {
          "output_type": "execute_result",
          "data": {
            "text/plain": [
              "[1.1352219581604004, 0.6815000176429749]"
            ]
          },
          "metadata": {
            "tags": []
          },
          "execution_count": 38
        }
      ]
    },
    {
      "cell_type": "markdown",
      "metadata": {
        "id": "GTW4IkOrwAAl"
      },
      "source": [
        "**Accuracy**\n",
        "- Train: 85%; \n",
        "- Validation: 70% \n",
        "- Test: 68%"
      ]
    },
    {
      "cell_type": "code",
      "metadata": {
        "id": "MD_r_qxxwF1M",
        "colab": {
          "base_uri": "https://localhost:8080/"
        },
        "outputId": "9c7e501e-5fbe-4ed7-fe76-f64956fc0178"
      },
      "source": [
        "predictions = np.argmax(model.predict(test_images), axis=-1)\n",
        "predictions.shape"
      ],
      "execution_count": 39,
      "outputs": [
        {
          "output_type": "execute_result",
          "data": {
            "text/plain": [
              "(10000,)"
            ]
          },
          "metadata": {
            "tags": []
          },
          "execution_count": 39
        }
      ]
    },
    {
      "cell_type": "code",
      "metadata": {
        "id": "NWEA_ALv51P3"
      },
      "source": [
        "from sklearn.metrics import classification_report,confusion_matrix"
      ],
      "execution_count": 40,
      "outputs": []
    },
    {
      "cell_type": "code",
      "metadata": {
        "id": "-hDUe5uq6PoX",
        "colab": {
          "base_uri": "https://localhost:8080/"
        },
        "outputId": "3447e1a2-1fd9-4720-d816-7167654cbb2d"
      },
      "source": [
        "print(classification_report(test_labels, predictions))"
      ],
      "execution_count": 41,
      "outputs": [
        {
          "output_type": "stream",
          "text": [
            "              precision    recall  f1-score   support\n",
            "\n",
            "           0       0.70      0.75      0.72      1000\n",
            "           1       0.76      0.83      0.79      1000\n",
            "           2       0.65      0.52      0.58      1000\n",
            "           3       0.55      0.41      0.47      1000\n",
            "           4       0.61      0.63      0.62      1000\n",
            "           5       0.60      0.58      0.59      1000\n",
            "           6       0.66      0.85      0.74      1000\n",
            "           7       0.71      0.75      0.73      1000\n",
            "           8       0.79      0.76      0.78      1000\n",
            "           9       0.75      0.74      0.74      1000\n",
            "\n",
            "    accuracy                           0.68     10000\n",
            "   macro avg       0.68      0.68      0.68     10000\n",
            "weighted avg       0.68      0.68      0.68     10000\n",
            "\n"
          ],
          "name": "stdout"
        }
      ]
    },
    {
      "cell_type": "code",
      "metadata": {
        "id": "fCwieAWB6yAh",
        "colab": {
          "base_uri": "https://localhost:8080/"
        },
        "outputId": "f670077e-ab95-44ea-9e8d-aaad2a0a7d5c"
      },
      "source": [
        "confusion_matrix(test_labels,predictions)"
      ],
      "execution_count": 42,
      "outputs": [
        {
          "output_type": "execute_result",
          "data": {
            "text/plain": [
              "array([[753,  18,  45,  13,  36,   9,  14,   9,  66,  37],\n",
              "       [ 27, 826,   5,   7,  12,   7,  13,   5,  25,  73],\n",
              "       [ 79,  10, 516,  56,  84,  69, 105,  52,   9,  20],\n",
              "       [ 34,  15,  51, 414,  90, 166, 113,  63,  22,  32],\n",
              "       [ 28,   9,  44,  48, 632,  56,  95,  68,  11,   9],\n",
              "       [ 14,   9,  54, 138,  44, 583,  52,  85,  11,  10],\n",
              "       [  3,   6,  31,  33,  39,  17, 846,  10,  10,   5],\n",
              "       [ 25,   9,  20,  28,  65,  51,  17, 748,  11,  26],\n",
              "       [ 87,  54,  17,  13,  14,   5,  13,   6, 760,  31],\n",
              "       [ 32, 135,   7,   8,  13,  11,  11,  10,  36, 737]])"
            ]
          },
          "metadata": {
            "tags": []
          },
          "execution_count": 42
        }
      ]
    },
    {
      "cell_type": "code",
      "metadata": {
        "id": "l3QJQ3ER7Btb",
        "colab": {
          "base_uri": "https://localhost:8080/",
          "height": 483
        },
        "outputId": "4c3057fe-ed9c-4e3f-d36e-c358592ee442"
      },
      "source": [
        "import seaborn as sns\n",
        "plt.figure(figsize=(15,8))\n",
        "sns.heatmap(confusion_matrix(test_labels,predictions), cmap='Blues', annot=True, fmt='g');"
      ],
      "execution_count": 43,
      "outputs": [
        {
          "output_type": "display_data",
          "data": {
            "image/png": "[encoded data removed]",
            "text/plain": [
              "<Figure size 1080x576 with 2 Axes>"
            ]
          },
          "metadata": {
            "tags": [],
            "needs_background": "light"
          }
        }
      ]
    },
    {
      "cell_type": "code",
      "metadata": {
        "id": "puj7qdF6s3s3",
        "colab": {
          "base_uri": "https://localhost:8080/"
        },
        "outputId": "a8337ad1-ddb0-41fa-956f-337ab0fbd776"
      },
      "source": [
        "class_names"
      ],
      "execution_count": 44,
      "outputs": [
        {
          "output_type": "execute_result",
          "data": {
            "text/plain": [
              "['airplane',\n",
              " 'automobile',\n",
              " 'bird',\n",
              " 'cat',\n",
              " 'deer',\n",
              " 'dog',\n",
              " 'frog',\n",
              " 'horse',\n",
              " 'ship',\n",
              " 'truck']"
            ]
          },
          "metadata": {
            "tags": []
          },
          "execution_count": 44
        }
      ]
    },
    {
      "cell_type": "markdown",
      "metadata": {
        "id": "nhL-fPKh7ryx"
      },
      "source": [
        "## Testing Model (Predicting)"
      ]
    },
    {
      "cell_type": "code",
      "metadata": {
        "id": "f8q8RbCU-i5g",
        "colab": {
          "base_uri": "https://localhost:8080/",
          "height": 266
        },
        "outputId": "5ec61147-13e8-4534-ebdf-ddc51ddb9c3c"
      },
      "source": [
        "plt.imshow(test_images[15]);"
      ],
      "execution_count": 45,
      "outputs": [
        {
          "output_type": "display_data",
          "data": {
            "image/png": "[encoded data removed]",
            "text/plain": [
              "<Figure size 432x288 with 1 Axes>"
            ]
          },
          "metadata": {
            "tags": [],
            "needs_background": "light"
          }
        }
      ]
    },
    {
      "cell_type": "code",
      "metadata": {
        "id": "2GDFWkXG_H6Y",
        "colab": {
          "base_uri": "https://localhost:8080/"
        },
        "outputId": "e32d7505-944a-40ed-8a18-b26cd2a68709"
      },
      "source": [
        "test_labels[15][0]"
      ],
      "execution_count": 46,
      "outputs": [
        {
          "output_type": "execute_result",
          "data": {
            "text/plain": [
              "8"
            ]
          },
          "metadata": {
            "tags": []
          },
          "execution_count": 46
        }
      ]
    },
    {
      "cell_type": "code",
      "metadata": {
        "id": "4LshDRY7-8Iq",
        "colab": {
          "base_uri": "https://localhost:8080/",
          "height": 35
        },
        "outputId": "0c722891-3004-48ca-9f11-b6b24e659b7e"
      },
      "source": [
        "class_names[8]"
      ],
      "execution_count": 47,
      "outputs": [
        {
          "output_type": "execute_result",
          "data": {
            "application/vnd.google.colaboratory.intrinsic+json": {
              "type": "string"
            },
            "text/plain": [
              "'ship'"
            ]
          },
          "metadata": {
            "tags": []
          },
          "execution_count": 47
        }
      ]
    },
    {
      "cell_type": "code",
      "metadata": {
        "id": "eE6NF_wV-YfZ",
        "colab": {
          "base_uri": "https://localhost:8080/"
        },
        "outputId": "f54780b7-c6c3-46c6-9e28-fc4e4ce3d7b2"
      },
      "source": [
        "test_images[15].shape"
      ],
      "execution_count": 48,
      "outputs": [
        {
          "output_type": "execute_result",
          "data": {
            "text/plain": [
              "(32, 32, 3)"
            ]
          },
          "metadata": {
            "tags": []
          },
          "execution_count": 48
        }
      ]
    },
    {
      "cell_type": "markdown",
      "metadata": {
        "id": "7UGml1PgAYxS"
      },
      "source": [
        "The input Tensor shape should be: (num_images, width, height, color_channels)"
      ]
    },
    {
      "cell_type": "code",
      "metadata": {
        "id": "D-bF-5tY_-RT",
        "colab": {
          "base_uri": "https://localhost:8080/"
        },
        "outputId": "07e0afca-c086-4cda-8f92-916fe04bd425"
      },
      "source": [
        "my_image = test_images[15]\n",
        "my_image = my_image.reshape(1,32,32,3)\n",
        "my_image.shape"
      ],
      "execution_count": 49,
      "outputs": [
        {
          "output_type": "execute_result",
          "data": {
            "text/plain": [
              "(1, 32, 32, 3)"
            ]
          },
          "metadata": {
            "tags": []
          },
          "execution_count": 49
        }
      ]
    },
    {
      "cell_type": "code",
      "metadata": {
        "id": "mGUt18nZ_WN8",
        "colab": {
          "base_uri": "https://localhost:8080/",
          "height": 35
        },
        "outputId": "6d18c9b7-c486-4e55-db71-30638abbc711"
      },
      "source": [
        "img_pred = np.argmax(model.predict(my_image))\n",
        "class_names[img_pred]"
      ],
      "execution_count": 50,
      "outputs": [
        {
          "output_type": "execute_result",
          "data": {
            "application/vnd.google.colaboratory.intrinsic+json": {
              "type": "string"
            },
            "text/plain": [
              "'frog'"
            ]
          },
          "metadata": {
            "tags": []
          },
          "execution_count": 50
        }
      ]
    },
    {
      "cell_type": "code",
      "metadata": {
        "id": "kojDXuqRBodN"
      },
      "source": [
        "def img_pred(img, size=4):\n",
        "    label = test_labels[img][0]\n",
        "    my_image = test_images[img]\n",
        "    plt.figure(figsize=(size,size))\n",
        "    plt.imshow(my_image)\n",
        "    my_image = my_image.reshape(1,32,32,3)\n",
        "    img_pred = np.argmax(model.predict(my_image))\n",
        "    pred_label = class_names[img_pred]\n",
        "    print(\" Label {} <=> Pred: {}\".format(class_names[label], pred_label))\n",
        "    plt.grid(False)\n",
        "    plt.axis('off')\n",
        "    plt.show()"
      ],
      "execution_count": 51,
      "outputs": []
    },
    {
      "cell_type": "code",
      "metadata": {
        "id": "E11rQVtPCg5x",
        "colab": {
          "base_uri": "https://localhost:8080/",
          "height": 157
        },
        "outputId": "d8582210-ce2a-4d70-cfe8-ef00af351ec8"
      },
      "source": [
        "img_pred(15, 2)"
      ],
      "execution_count": 53,
      "outputs": [
        {
          "output_type": "stream",
          "text": [
            " Label ship <=> Pred: frog\n"
          ],
          "name": "stdout"
        },
        {
          "output_type": "display_data",
          "data": {
            "image/png": "[encoded data removed]",
            "text/plain": [
              "<Figure size 144x144 with 1 Axes>"
            ]
          },
          "metadata": {
            "tags": [],
            "needs_background": "light"
          }
        }
      ]
    },
    {
      "cell_type": "code",
      "metadata": {
        "id": "HuCNz7aOfbTU",
        "colab": {
          "base_uri": "https://localhost:8080/",
          "height": 265
        },
        "outputId": "b29566af-50fb-4eee-9b7d-1dbde92d8f0c"
      },
      "source": [
        "img_pred(20)"
      ],
      "execution_count": 54,
      "outputs": [
        {
          "output_type": "stream",
          "text": [
            " Label horse <=> Pred: horse\n"
          ],
          "name": "stdout"
        },
        {
          "output_type": "display_data",
          "data": {
            "image/png": "[encoded data removed]",
            "text/plain": [
              "<Figure size 288x288 with 1 Axes>"
            ]
          },
          "metadata": {
            "tags": [],
            "needs_background": "light"
          }
        }
      ]
    },
    {
      "cell_type": "code",
      "metadata": {
        "id": "cswIMpUbfjWT",
        "colab": {
          "base_uri": "https://localhost:8080/",
          "height": 102
        },
        "outputId": "2e712f06-b011-4c20-982b-eae18182f133"
      },
      "source": [
        "img_pred(0, 1)"
      ],
      "execution_count": 57,
      "outputs": [
        {
          "output_type": "stream",
          "text": [
            " Label cat <=> Pred: cat\n"
          ],
          "name": "stdout"
        },
        {
          "output_type": "display_data",
          "data": {
            "image/png": "[encoded data removed]",
            "text/plain": [
              "<Figure size 72x72 with 1 Axes>"
            ]
          },
          "metadata": {
            "tags": [],
            "needs_background": "light"
          }
        }
      ]
    },
    {
      "cell_type": "code",
      "metadata": {
        "id": "Vqzcgjh9fotR",
        "colab": {
          "base_uri": "https://localhost:8080/",
          "height": 265
        },
        "outputId": "fa166dcb-89ed-46a8-d11a-82cc10236277"
      },
      "source": [
        "img_pred(2)"
      ],
      "execution_count": 58,
      "outputs": [
        {
          "output_type": "stream",
          "text": [
            " Label ship <=> Pred: automobile\n"
          ],
          "name": "stdout"
        },
        {
          "output_type": "display_data",
          "data": {
            "image/png": "[encoded data removed]",
            "text/plain": [
              "<Figure size 288x288 with 1 Axes>"
            ]
          },
          "metadata": {
            "tags": [],
            "needs_background": "light"
          }
        }
      ]
    },
    {
      "cell_type": "code",
      "metadata": {
        "id": "6d8CLZP5fwei",
        "colab": {
          "base_uri": "https://localhost:8080/",
          "height": 265
        },
        "outputId": "01ebc474-8a9c-40c7-fda6-3dee6ed8b0ac"
      },
      "source": [
        "img_pred(3)"
      ],
      "execution_count": 59,
      "outputs": [
        {
          "output_type": "stream",
          "text": [
            " Label airplane <=> Pred: ship\n"
          ],
          "name": "stdout"
        },
        {
          "output_type": "display_data",
          "data": {
            "image/png": "[encoded data removed]",
            "text/plain": [
              "<Figure size 288x288 with 1 Axes>"
            ]
          },
          "metadata": {
            "tags": [],
            "needs_background": "light"
          }
        }
      ]
    },
    {
      "cell_type": "code",
      "metadata": {
        "id": "lvNdviObf1oE",
        "colab": {
          "base_uri": "https://localhost:8080/",
          "height": 102
        },
        "outputId": "8f72a874-4961-461f-d365-0e73e3af2fc2"
      },
      "source": [
        "img_pred(5,1)"
      ],
      "execution_count": 60,
      "outputs": [
        {
          "output_type": "stream",
          "text": [
            " Label frog <=> Pred: frog\n"
          ],
          "name": "stdout"
        },
        {
          "output_type": "display_data",
          "data": {
            "image/png": "[encoded data removed]",
            "text/plain": [
              "<Figure size 72x72 with 1 Axes>"
            ]
          },
          "metadata": {
            "tags": [],
            "needs_background": "light"
          }
        }
      ]
    },
    {
      "cell_type": "markdown",
      "metadata": {
        "id": "BhnnOt7bgXGg"
      },
      "source": [
        "## Saving the model"
      ]
    },
    {
      "cell_type": "code",
      "metadata": {
        "id": "ty0qLh9ngk2-",
        "colab": {
          "base_uri": "https://localhost:8080/"
        },
        "outputId": "0c51d9e6-606b-4df1-92ec-4451ec1f5502"
      },
      "source": [
        "!pwd # Linux command, shows where we are in CoLab's folders"
      ],
      "execution_count": 61,
      "outputs": [
        {
          "output_type": "stream",
          "text": [
            "/content\n"
          ],
          "name": "stdout"
        }
      ]
    },
    {
      "cell_type": "code",
      "metadata": {
        "id": "2vN8z8vpgaup"
      },
      "source": [
        "model.save('cifar_10_model.h5')"
      ],
      "execution_count": 62,
      "outputs": []
    },
    {
      "cell_type": "markdown",
      "metadata": {
        "id": "wdEONve0j0ht"
      },
      "source": [
        "Use [Netron](https://netron.app) to visualize the model, hyperparameters, tensor shapes, etc. Netron is a viewer for neural network, deep learning and machine learning models (See [GitHub](https://github.com/lutzroeder/netron) for instructions about instalation in your desktop). "
      ]
    },
    {
      "cell_type": "code",
      "metadata": {
        "id": "VXFf4YNnkMVc"
      },
      "source": [
        ""
      ],
      "execution_count": null,
      "outputs": []
    }
  ]
}