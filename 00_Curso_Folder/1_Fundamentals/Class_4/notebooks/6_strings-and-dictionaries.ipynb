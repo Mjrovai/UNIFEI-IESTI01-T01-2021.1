{
 "cells": [
  {
   "cell_type": "markdown",
   "metadata": {
    "papermill": {
     "duration": 0.051002,
     "end_time": "2020-10-01T01:24:36.300896",
     "exception": false,
     "start_time": "2020-10-01T01:24:36.249894",
     "status": "completed"
    },
    "tags": []
   },
   "source": [
    "# Python4DS Quick Review - 6\n",
    "Based on Kaggle Python Course\n",
    "- This lesson will be a double-shot of essential Python types: **strings** and **dictionaries**."
   ]
  },
  {
   "cell_type": "markdown",
   "metadata": {
    "papermill": {
     "duration": 0.045709,
     "end_time": "2020-10-01T01:24:36.395481",
     "exception": false,
     "start_time": "2020-10-01T01:24:36.349772",
     "status": "completed"
    },
    "tags": []
   },
   "source": [
    "# Strings"
   ]
  },
  {
   "cell_type": "markdown",
   "metadata": {
    "papermill": {
     "duration": 0.048417,
     "end_time": "2020-10-01T01:24:36.493188",
     "exception": false,
     "start_time": "2020-10-01T01:24:36.444771",
     "status": "completed"
    },
    "tags": []
   },
   "source": [
    "One place where the Python language really shines is in the manipulation of strings.\n",
    "This section will cover some of Python's built-in string methods and formatting operations.\n",
    "\n",
    "Such string manipulation patterns come up often in the context of data science work, and is one big perk of Python in this context.\n",
    "\n",
    "## String syntax\n",
    "\n",
    "You've already seen plenty of strings in examples during the previous lessons, but just to recap, strings in Python can be defined using either single or double quotations. They are functionally equivalent."
   ]
  },
  {
   "cell_type": "code",
   "execution_count": 1,
   "metadata": {
    "ExecuteTime": {
     "end_time": "2021-04-11T15:18:51.267439Z",
     "start_time": "2021-04-11T15:18:51.256841Z"
    },
    "execution": {
     "iopub.execute_input": "2020-10-01T01:24:36.604288Z",
     "iopub.status.busy": "2020-10-01T01:24:36.603034Z",
     "iopub.status.idle": "2020-10-01T01:24:36.610202Z",
     "shell.execute_reply": "2020-10-01T01:24:36.610895Z"
    },
    "papermill": {
     "duration": 0.067815,
     "end_time": "2020-10-01T01:24:36.611144",
     "exception": false,
     "start_time": "2020-10-01T01:24:36.543329",
     "status": "completed"
    },
    "tags": []
   },
   "outputs": [
    {
     "data": {
      "text/plain": [
       "True"
      ]
     },
     "execution_count": 1,
     "metadata": {},
     "output_type": "execute_result"
    }
   ],
   "source": [
    "x = 'Pluto is a planet'\n",
    "y = \"Pluto is a planet\"\n",
    "x == y"
   ]
  },
  {
   "cell_type": "markdown",
   "metadata": {
    "papermill": {
     "duration": 0.049042,
     "end_time": "2020-10-01T01:24:36.711207",
     "exception": false,
     "start_time": "2020-10-01T01:24:36.662165",
     "status": "completed"
    },
    "tags": []
   },
   "source": [
    "Double quotes are convenient if your string contains a single quote character (e.g. representing an apostrophe).\n",
    "\n",
    "Similarly, it's easy to create a string that contains double-quotes if you wrap it in single quotes:"
   ]
  },
  {
   "cell_type": "code",
   "execution_count": 2,
   "metadata": {
    "ExecuteTime": {
     "end_time": "2021-04-11T15:19:21.024918Z",
     "start_time": "2021-04-11T15:19:21.021508Z"
    },
    "execution": {
     "iopub.execute_input": "2020-10-01T01:24:36.819956Z",
     "iopub.status.busy": "2020-10-01T01:24:36.818948Z",
     "iopub.status.idle": "2020-10-01T01:24:36.823337Z",
     "shell.execute_reply": "2020-10-01T01:24:36.823967Z"
    },
    "papermill": {
     "duration": 0.059812,
     "end_time": "2020-10-01T01:24:36.824162",
     "exception": false,
     "start_time": "2020-10-01T01:24:36.764350",
     "status": "completed"
    },
    "tags": []
   },
   "outputs": [
    {
     "name": "stdout",
     "output_type": "stream",
     "text": [
      "Pluto's a planet!\n",
      "My dog is named \"Pluto\"\n"
     ]
    }
   ],
   "source": [
    "print(\"Pluto's a planet!\")\n",
    "print('My dog is named \"Pluto\"')"
   ]
  },
  {
   "cell_type": "markdown",
   "metadata": {
    "papermill": {
     "duration": 0.048957,
     "end_time": "2020-10-01T01:24:36.920529",
     "exception": false,
     "start_time": "2020-10-01T01:24:36.871572",
     "status": "completed"
    },
    "tags": []
   },
   "source": [
    "If we try to put a single quote character inside a single-quoted string, Python gets confused:"
   ]
  },
  {
   "cell_type": "code",
   "execution_count": 3,
   "metadata": {
    "ExecuteTime": {
     "end_time": "2021-04-11T15:19:41.820157Z",
     "start_time": "2021-04-11T15:19:41.816037Z"
    },
    "execution": {
     "iopub.execute_input": "2020-10-01T01:24:37.019934Z",
     "iopub.status.busy": "2020-10-01T01:24:37.019069Z",
     "iopub.status.idle": "2020-10-01T01:24:37.023802Z",
     "shell.execute_reply": "2020-10-01T01:24:37.024401Z"
    },
    "papermill": {
     "duration": 0.057094,
     "end_time": "2020-10-01T01:24:37.024594",
     "exception": false,
     "start_time": "2020-10-01T01:24:36.967500",
     "status": "completed"
    },
    "tags": [
     "raises-exception"
    ]
   },
   "outputs": [
    {
     "ename": "SyntaxError",
     "evalue": "invalid syntax (<ipython-input-3-a43631749f52>, line 1)",
     "output_type": "error",
     "traceback": [
      "\u001b[0;36m  File \u001b[0;32m\"<ipython-input-3-a43631749f52>\"\u001b[0;36m, line \u001b[0;32m1\u001b[0m\n\u001b[0;31m    'Pluto's a planet!'\u001b[0m\n\u001b[0m           ^\u001b[0m\n\u001b[0;31mSyntaxError\u001b[0m\u001b[0;31m:\u001b[0m invalid syntax\n"
     ]
    }
   ],
   "source": [
    "'Pluto's a planet!'"
   ]
  },
  {
   "cell_type": "markdown",
   "metadata": {
    "papermill": {
     "duration": 0.048343,
     "end_time": "2020-10-01T01:24:37.121580",
     "exception": false,
     "start_time": "2020-10-01T01:24:37.073237",
     "status": "completed"
    },
    "tags": []
   },
   "source": [
    "We can fix this by \"escaping\" the single quote with a backslash. "
   ]
  },
  {
   "cell_type": "code",
   "execution_count": 4,
   "metadata": {
    "ExecuteTime": {
     "end_time": "2021-04-11T15:20:03.117952Z",
     "start_time": "2021-04-11T15:20:03.113915Z"
    },
    "execution": {
     "iopub.execute_input": "2020-10-01T01:24:37.226324Z",
     "iopub.status.busy": "2020-10-01T01:24:37.225188Z",
     "iopub.status.idle": "2020-10-01T01:24:37.230488Z",
     "shell.execute_reply": "2020-10-01T01:24:37.229718Z"
    },
    "papermill": {
     "duration": 0.061372,
     "end_time": "2020-10-01T01:24:37.230627",
     "exception": false,
     "start_time": "2020-10-01T01:24:37.169255",
     "status": "completed"
    },
    "tags": []
   },
   "outputs": [
    {
     "data": {
      "text/plain": [
       "\"Pluto's a planet!\""
      ]
     },
     "execution_count": 4,
     "metadata": {},
     "output_type": "execute_result"
    }
   ],
   "source": [
    "'Pluto\\'s a planet!'"
   ]
  },
  {
   "cell_type": "markdown",
   "metadata": {
    "papermill": {
     "duration": 0.047648,
     "end_time": "2020-10-01T01:24:37.330371",
     "exception": false,
     "start_time": "2020-10-01T01:24:37.282723",
     "status": "completed"
    },
    "tags": []
   },
   "source": [
    "The table below summarizes some important uses of the backslash character.\n",
    "\n",
    "| What you type... | What you get | example | `print(example)`|\n",
    "|---|---|---|---|\n",
    "| `\\'`         | `'`            | `'What\\'s up?'`            | `What's up?`            |  \n",
    "| `\\\"`         | `\"`            | `\"That's \\\"cool\\\"\"`        | `That's \"cool\"`         |  \n",
    "| `\\\\`         | `\\`            |  `\"Look, a mountain: /\\\\\"` |  `Look, a mountain: /\\` |\n",
    "| `\\n`         |                |   `\"1 2\\n3 4\"`             |   `1 2`                 |\n",
    "|              |                |                            |   `3 4`                 |"
   ]
  },
  {
   "cell_type": "markdown",
   "metadata": {
    "papermill": {
     "duration": 0.048168,
     "end_time": "2020-10-01T01:24:37.426730",
     "exception": false,
     "start_time": "2020-10-01T01:24:37.378562",
     "status": "completed"
    },
    "tags": []
   },
   "source": [
    "The last sequence, `\\n`, represents the *newline character*. It causes Python to start a new line."
   ]
  },
  {
   "cell_type": "code",
   "execution_count": 5,
   "metadata": {
    "ExecuteTime": {
     "end_time": "2021-04-11T15:33:34.951244Z",
     "start_time": "2021-04-11T15:33:34.947384Z"
    },
    "execution": {
     "iopub.execute_input": "2020-10-01T01:24:37.528311Z",
     "iopub.status.busy": "2020-10-01T01:24:37.527350Z",
     "iopub.status.idle": "2020-10-01T01:24:37.531580Z",
     "shell.execute_reply": "2020-10-01T01:24:37.530942Z"
    },
    "papermill": {
     "duration": 0.057274,
     "end_time": "2020-10-01T01:24:37.531724",
     "exception": false,
     "start_time": "2020-10-01T01:24:37.474450",
     "status": "completed"
    },
    "tags": []
   },
   "outputs": [
    {
     "name": "stdout",
     "output_type": "stream",
     "text": [
      "hello\n",
      "world\n"
     ]
    }
   ],
   "source": [
    "hello = \"hello\\nworld\"\n",
    "print(hello)"
   ]
  },
  {
   "cell_type": "markdown",
   "metadata": {
    "papermill": {
     "duration": 0.04879,
     "end_time": "2020-10-01T01:24:37.628836",
     "exception": false,
     "start_time": "2020-10-01T01:24:37.580046",
     "status": "completed"
    },
    "tags": []
   },
   "source": [
    "In addition, Python's triple quote syntax for strings lets us include newlines literally (i.e. by just hitting 'Enter' on our keyboard, rather than using the special '\\n' sequence). We've already seen this in the docstrings we use to document our functions, but we can use them anywhere we want to define a string."
   ]
  },
  {
   "cell_type": "code",
   "execution_count": 6,
   "metadata": {
    "ExecuteTime": {
     "end_time": "2021-04-11T15:34:07.827123Z",
     "start_time": "2021-04-11T15:34:07.821566Z"
    },
    "execution": {
     "iopub.execute_input": "2020-10-01T01:24:37.762654Z",
     "iopub.status.busy": "2020-10-01T01:24:37.761214Z",
     "iopub.status.idle": "2020-10-01T01:24:37.780657Z",
     "shell.execute_reply": "2020-10-01T01:24:37.781639Z"
    },
    "papermill": {
     "duration": 0.103687,
     "end_time": "2020-10-01T01:24:37.781882",
     "exception": false,
     "start_time": "2020-10-01T01:24:37.678195",
     "status": "completed"
    },
    "tags": []
   },
   "outputs": [
    {
     "name": "stdout",
     "output_type": "stream",
     "text": [
      "hello\n",
      "world\n"
     ]
    },
    {
     "data": {
      "text/plain": [
       "True"
      ]
     },
     "execution_count": 6,
     "metadata": {},
     "output_type": "execute_result"
    }
   ],
   "source": [
    "triplequoted_hello = \"\"\"hello\n",
    "world\"\"\"\n",
    "print(triplequoted_hello)\n",
    "triplequoted_hello == hello"
   ]
  },
  {
   "cell_type": "markdown",
   "metadata": {
    "papermill": {
     "duration": 0.051686,
     "end_time": "2020-10-01T01:24:37.885900",
     "exception": false,
     "start_time": "2020-10-01T01:24:37.834214",
     "status": "completed"
    },
    "tags": []
   },
   "source": [
    "The `print()` function automatically adds a newline character unless we specify a value for the keyword argument `end` other than the default value of `'\\n'`:"
   ]
  },
  {
   "cell_type": "code",
   "execution_count": 7,
   "metadata": {
    "ExecuteTime": {
     "end_time": "2021-04-11T15:34:39.935069Z",
     "start_time": "2021-04-11T15:34:39.930169Z"
    },
    "execution": {
     "iopub.execute_input": "2020-10-01T01:24:38.001794Z",
     "iopub.status.busy": "2020-10-01T01:24:38.000766Z",
     "iopub.status.idle": "2020-10-01T01:24:38.004367Z",
     "shell.execute_reply": "2020-10-01T01:24:38.005187Z"
    },
    "papermill": {
     "duration": 0.065193,
     "end_time": "2020-10-01T01:24:38.005391",
     "exception": false,
     "start_time": "2020-10-01T01:24:37.940198",
     "status": "completed"
    },
    "tags": []
   },
   "outputs": [
    {
     "name": "stdout",
     "output_type": "stream",
     "text": [
      "hello\n",
      "world\n",
      "hellopluto"
     ]
    }
   ],
   "source": [
    "print(\"hello\")\n",
    "print(\"world\")\n",
    "print(\"hello\", end='')\n",
    "print(\"pluto\", end='')"
   ]
  },
  {
   "cell_type": "markdown",
   "metadata": {
    "papermill": {
     "duration": 0.051566,
     "end_time": "2020-10-01T01:24:38.115880",
     "exception": false,
     "start_time": "2020-10-01T01:24:38.064314",
     "status": "completed"
    },
    "tags": []
   },
   "source": [
    "## Strings are sequences\n",
    "\n",
    "Strings can be thought of as sequences of characters. Almost everything we've seen that we can do to a list, we can also do to a string."
   ]
  },
  {
   "cell_type": "code",
   "execution_count": 8,
   "metadata": {
    "ExecuteTime": {
     "end_time": "2021-04-11T15:34:59.728259Z",
     "start_time": "2021-04-11T15:34:59.724617Z"
    },
    "execution": {
     "iopub.execute_input": "2020-10-01T01:24:38.234512Z",
     "iopub.status.busy": "2020-10-01T01:24:38.233367Z",
     "iopub.status.idle": "2020-10-01T01:24:38.238332Z",
     "shell.execute_reply": "2020-10-01T01:24:38.237627Z"
    },
    "papermill": {
     "duration": 0.069146,
     "end_time": "2020-10-01T01:24:38.238463",
     "exception": false,
     "start_time": "2020-10-01T01:24:38.169317",
     "status": "completed"
    },
    "tags": []
   },
   "outputs": [
    {
     "data": {
      "text/plain": [
       "'P'"
      ]
     },
     "execution_count": 8,
     "metadata": {},
     "output_type": "execute_result"
    }
   ],
   "source": [
    "# Indexing\n",
    "planet = 'Pluto'\n",
    "planet[0]"
   ]
  },
  {
   "cell_type": "code",
   "execution_count": 9,
   "metadata": {
    "ExecuteTime": {
     "end_time": "2021-04-11T15:35:10.883874Z",
     "start_time": "2021-04-11T15:35:10.873753Z"
    },
    "execution": {
     "iopub.execute_input": "2020-10-01T01:24:38.349535Z",
     "iopub.status.busy": "2020-10-01T01:24:38.348547Z",
     "iopub.status.idle": "2020-10-01T01:24:38.355066Z",
     "shell.execute_reply": "2020-10-01T01:24:38.354237Z"
    },
    "papermill": {
     "duration": 0.064724,
     "end_time": "2020-10-01T01:24:38.355273",
     "exception": false,
     "start_time": "2020-10-01T01:24:38.290549",
     "status": "completed"
    },
    "tags": []
   },
   "outputs": [
    {
     "data": {
      "text/plain": [
       "'uto'"
      ]
     },
     "execution_count": 9,
     "metadata": {},
     "output_type": "execute_result"
    }
   ],
   "source": [
    "# Slicing\n",
    "planet[-3:]"
   ]
  },
  {
   "cell_type": "code",
   "execution_count": 10,
   "metadata": {
    "ExecuteTime": {
     "end_time": "2021-04-11T15:35:19.447824Z",
     "start_time": "2021-04-11T15:35:19.444182Z"
    },
    "execution": {
     "iopub.execute_input": "2020-10-01T01:24:38.463925Z",
     "iopub.status.busy": "2020-10-01T01:24:38.463107Z",
     "iopub.status.idle": "2020-10-01T01:24:38.467793Z",
     "shell.execute_reply": "2020-10-01T01:24:38.467141Z"
    },
    "papermill": {
     "duration": 0.060639,
     "end_time": "2020-10-01T01:24:38.467924",
     "exception": false,
     "start_time": "2020-10-01T01:24:38.407285",
     "status": "completed"
    },
    "tags": []
   },
   "outputs": [
    {
     "data": {
      "text/plain": [
       "5"
      ]
     },
     "execution_count": 10,
     "metadata": {},
     "output_type": "execute_result"
    }
   ],
   "source": [
    "# How long is this string?\n",
    "len(planet)"
   ]
  },
  {
   "cell_type": "code",
   "execution_count": 11,
   "metadata": {
    "ExecuteTime": {
     "end_time": "2021-04-11T15:35:29.091831Z",
     "start_time": "2021-04-11T15:35:29.087083Z"
    },
    "execution": {
     "iopub.execute_input": "2020-10-01T01:24:38.577476Z",
     "iopub.status.busy": "2020-10-01T01:24:38.576407Z",
     "iopub.status.idle": "2020-10-01T01:24:38.581558Z",
     "shell.execute_reply": "2020-10-01T01:24:38.580745Z"
    },
    "papermill": {
     "duration": 0.062199,
     "end_time": "2020-10-01T01:24:38.581700",
     "exception": false,
     "start_time": "2020-10-01T01:24:38.519501",
     "status": "completed"
    },
    "tags": []
   },
   "outputs": [
    {
     "data": {
      "text/plain": [
       "['P! ', 'l! ', 'u! ', 't! ', 'o! ']"
      ]
     },
     "execution_count": 11,
     "metadata": {},
     "output_type": "execute_result"
    }
   ],
   "source": [
    "# Yes, we can even loop over them\n",
    "[char+'! ' for char in planet]"
   ]
  },
  {
   "cell_type": "markdown",
   "metadata": {
    "papermill": {
     "duration": 0.054699,
     "end_time": "2020-10-01T01:24:38.691961",
     "exception": false,
     "start_time": "2020-10-01T01:24:38.637262",
     "status": "completed"
    },
    "tags": []
   },
   "source": [
    "But a major way in which they differ from lists is that they are *immutable*. We can't modify them."
   ]
  },
  {
   "cell_type": "code",
   "execution_count": 12,
   "metadata": {
    "ExecuteTime": {
     "end_time": "2021-04-11T15:35:39.629601Z",
     "start_time": "2021-04-11T15:35:39.435401Z"
    },
    "execution": {
     "iopub.execute_input": "2020-10-01T01:24:38.806073Z",
     "iopub.status.busy": "2020-10-01T01:24:38.805168Z",
     "iopub.status.idle": "2020-10-01T01:24:38.842061Z",
     "shell.execute_reply": "2020-10-01T01:24:38.841284Z"
    },
    "papermill": {
     "duration": 0.093798,
     "end_time": "2020-10-01T01:24:38.842215",
     "exception": false,
     "start_time": "2020-10-01T01:24:38.748417",
     "status": "completed"
    },
    "tags": [
     "raises-exception"
    ]
   },
   "outputs": [
    {
     "ename": "TypeError",
     "evalue": "'str' object does not support item assignment",
     "output_type": "error",
     "traceback": [
      "\u001b[0;31m-----------------------------------------------------------------------\u001b[0m",
      "\u001b[0;31mTypeError\u001b[0m                             Traceback (most recent call last)",
      "\u001b[0;32m<ipython-input-12-6ca42463b9f9>\u001b[0m in \u001b[0;36m<module>\u001b[0;34m\u001b[0m\n\u001b[0;32m----> 1\u001b[0;31m \u001b[0mplanet\u001b[0m\u001b[0;34m[\u001b[0m\u001b[0;36m0\u001b[0m\u001b[0;34m]\u001b[0m \u001b[0;34m=\u001b[0m \u001b[0;34m'B'\u001b[0m\u001b[0;34m\u001b[0m\u001b[0;34m\u001b[0m\u001b[0m\n\u001b[0m\u001b[1;32m      2\u001b[0m \u001b[0;31m# planet.append doesn't work either\u001b[0m\u001b[0;34m\u001b[0m\u001b[0;34m\u001b[0m\u001b[0;34m\u001b[0m\u001b[0m\n",
      "\u001b[0;31mTypeError\u001b[0m: 'str' object does not support item assignment"
     ]
    }
   ],
   "source": [
    "planet[0] = 'B'\n",
    "# planet.append doesn't work either"
   ]
  },
  {
   "cell_type": "markdown",
   "metadata": {
    "papermill": {
     "duration": 0.051916,
     "end_time": "2020-10-01T01:24:38.946415",
     "exception": false,
     "start_time": "2020-10-01T01:24:38.894499",
     "status": "completed"
    },
    "tags": []
   },
   "source": [
    "## String methods\n",
    "\n",
    "Like `list`, the type `str` has lots of very useful methods. I'll show just a few examples here."
   ]
  },
  {
   "cell_type": "code",
   "execution_count": 13,
   "metadata": {
    "ExecuteTime": {
     "end_time": "2021-04-11T15:36:03.785325Z",
     "start_time": "2021-04-11T15:36:03.780823Z"
    },
    "execution": {
     "iopub.execute_input": "2020-10-01T01:24:39.060127Z",
     "iopub.status.busy": "2020-10-01T01:24:39.059193Z",
     "iopub.status.idle": "2020-10-01T01:24:39.063993Z",
     "shell.execute_reply": "2020-10-01T01:24:39.063406Z"
    },
    "papermill": {
     "duration": 0.065219,
     "end_time": "2020-10-01T01:24:39.064137",
     "exception": false,
     "start_time": "2020-10-01T01:24:38.998918",
     "status": "completed"
    },
    "tags": []
   },
   "outputs": [
    {
     "data": {
      "text/plain": [
       "'PLUTO IS A PLANET!'"
      ]
     },
     "execution_count": 13,
     "metadata": {},
     "output_type": "execute_result"
    }
   ],
   "source": [
    "# ALL CAPS\n",
    "claim = \"Pluto is a planet!\"\n",
    "claim.upper()"
   ]
  },
  {
   "cell_type": "code",
   "execution_count": 14,
   "metadata": {
    "ExecuteTime": {
     "end_time": "2021-04-11T15:36:08.043824Z",
     "start_time": "2021-04-11T15:36:08.039337Z"
    },
    "execution": {
     "iopub.execute_input": "2020-10-01T01:24:39.178369Z",
     "iopub.status.busy": "2020-10-01T01:24:39.177280Z",
     "iopub.status.idle": "2020-10-01T01:24:39.182002Z",
     "shell.execute_reply": "2020-10-01T01:24:39.181278Z"
    },
    "papermill": {
     "duration": 0.064162,
     "end_time": "2020-10-01T01:24:39.182152",
     "exception": false,
     "start_time": "2020-10-01T01:24:39.117990",
     "status": "completed"
    },
    "tags": []
   },
   "outputs": [
    {
     "data": {
      "text/plain": [
       "'pluto is a planet!'"
      ]
     },
     "execution_count": 14,
     "metadata": {},
     "output_type": "execute_result"
    }
   ],
   "source": [
    "# all lowercase\n",
    "claim.lower()"
   ]
  },
  {
   "cell_type": "code",
   "execution_count": 15,
   "metadata": {
    "ExecuteTime": {
     "end_time": "2021-04-11T15:36:21.121046Z",
     "start_time": "2021-04-11T15:36:21.116595Z"
    },
    "execution": {
     "iopub.execute_input": "2020-10-01T01:24:39.297885Z",
     "iopub.status.busy": "2020-10-01T01:24:39.296809Z",
     "iopub.status.idle": "2020-10-01T01:24:39.302497Z",
     "shell.execute_reply": "2020-10-01T01:24:39.301830Z"
    },
    "papermill": {
     "duration": 0.065823,
     "end_time": "2020-10-01T01:24:39.302630",
     "exception": false,
     "start_time": "2020-10-01T01:24:39.236807",
     "status": "completed"
    },
    "tags": []
   },
   "outputs": [
    {
     "data": {
      "text/plain": [
       "11"
      ]
     },
     "execution_count": 15,
     "metadata": {},
     "output_type": "execute_result"
    }
   ],
   "source": [
    "# Searching for the first index of a substring\n",
    "claim.index('plan')"
   ]
  },
  {
   "cell_type": "code",
   "execution_count": 16,
   "metadata": {
    "ExecuteTime": {
     "end_time": "2021-04-11T15:36:49.213052Z",
     "start_time": "2021-04-11T15:36:49.209601Z"
    },
    "execution": {
     "iopub.execute_input": "2020-10-01T01:24:39.429863Z",
     "iopub.status.busy": "2020-10-01T01:24:39.428693Z",
     "iopub.status.idle": "2020-10-01T01:24:39.432900Z",
     "shell.execute_reply": "2020-10-01T01:24:39.433484Z"
    },
    "papermill": {
     "duration": 0.070363,
     "end_time": "2020-10-01T01:24:39.433656",
     "exception": false,
     "start_time": "2020-10-01T01:24:39.363293",
     "status": "completed"
    },
    "tags": []
   },
   "outputs": [
    {
     "data": {
      "text/plain": [
       "True"
      ]
     },
     "execution_count": 16,
     "metadata": {},
     "output_type": "execute_result"
    }
   ],
   "source": [
    "claim.startswith(planet)"
   ]
  },
  {
   "cell_type": "code",
   "execution_count": 17,
   "metadata": {
    "ExecuteTime": {
     "end_time": "2021-04-11T15:37:16.204330Z",
     "start_time": "2021-04-11T15:37:16.200341Z"
    },
    "execution": {
     "iopub.execute_input": "2020-10-01T01:24:39.549943Z",
     "iopub.status.busy": "2020-10-01T01:24:39.549025Z",
     "iopub.status.idle": "2020-10-01T01:24:39.553786Z",
     "shell.execute_reply": "2020-10-01T01:24:39.553174Z"
    },
    "papermill": {
     "duration": 0.065594,
     "end_time": "2020-10-01T01:24:39.553927",
     "exception": false,
     "start_time": "2020-10-01T01:24:39.488333",
     "status": "completed"
    },
    "tags": []
   },
   "outputs": [
    {
     "data": {
      "text/plain": [
       "False"
      ]
     },
     "execution_count": 17,
     "metadata": {},
     "output_type": "execute_result"
    }
   ],
   "source": [
    "claim.endswith('dwarf planet')"
   ]
  },
  {
   "cell_type": "markdown",
   "metadata": {
    "papermill": {
     "duration": 0.055322,
     "end_time": "2020-10-01T01:24:39.665352",
     "exception": false,
     "start_time": "2020-10-01T01:24:39.610030",
     "status": "completed"
    },
    "tags": []
   },
   "source": [
    "### Going between strings and lists: `.split()` and `.join()`\n",
    "\n",
    "`str.split()` turns a string into a list of smaller strings, breaking on whitespace by default. This is super useful for taking you from one big string to a list of words."
   ]
  },
  {
   "cell_type": "code",
   "execution_count": 18,
   "metadata": {
    "ExecuteTime": {
     "end_time": "2021-04-11T15:37:39.129852Z",
     "start_time": "2021-04-11T15:37:39.125645Z"
    },
    "execution": {
     "iopub.execute_input": "2020-10-01T01:24:39.781487Z",
     "iopub.status.busy": "2020-10-01T01:24:39.780333Z",
     "iopub.status.idle": "2020-10-01T01:24:39.784928Z",
     "shell.execute_reply": "2020-10-01T01:24:39.784169Z"
    },
    "papermill": {
     "duration": 0.064865,
     "end_time": "2020-10-01T01:24:39.785057",
     "exception": false,
     "start_time": "2020-10-01T01:24:39.720192",
     "status": "completed"
    },
    "tags": []
   },
   "outputs": [
    {
     "data": {
      "text/plain": [
       "['Pluto', 'is', 'a', 'planet!']"
      ]
     },
     "execution_count": 18,
     "metadata": {},
     "output_type": "execute_result"
    }
   ],
   "source": [
    "words = claim.split()\n",
    "words"
   ]
  },
  {
   "cell_type": "markdown",
   "metadata": {
    "papermill": {
     "duration": 0.054615,
     "end_time": "2020-10-01T01:24:39.895159",
     "exception": false,
     "start_time": "2020-10-01T01:24:39.840544",
     "status": "completed"
    },
    "tags": []
   },
   "source": [
    "Occasionally you'll want to split on something other than whitespace:"
   ]
  },
  {
   "cell_type": "code",
   "execution_count": 31,
   "metadata": {
    "ExecuteTime": {
     "end_time": "2021-04-11T15:44:07.856343Z",
     "start_time": "2021-04-11T15:44:07.851866Z"
    },
    "execution": {
     "iopub.execute_input": "2020-10-01T01:24:40.012005Z",
     "iopub.status.busy": "2020-10-01T01:24:40.010837Z",
     "iopub.status.idle": "2020-10-01T01:24:40.014747Z",
     "shell.execute_reply": "2020-10-01T01:24:40.014073Z"
    },
    "papermill": {
     "duration": 0.064679,
     "end_time": "2020-10-01T01:24:40.014874",
     "exception": false,
     "start_time": "2020-10-01T01:24:39.950195",
     "status": "completed"
    },
    "tags": []
   },
   "outputs": [
    {
     "name": "stdout",
     "output_type": "stream",
     "text": [
      "\n",
      " Year: \t1956\n",
      " Month: 01\n",
      " Day: \t31\n"
     ]
    }
   ],
   "source": [
    "datestr = '1956-01-31'\n",
    "year, month, day = datestr.split('-')\n",
    "print(\"\\n Year: \\t{}\\n Month: {}\\n Day: \\t{}\".format(year, month, day))"
   ]
  },
  {
   "cell_type": "markdown",
   "metadata": {},
   "source": [
    "Try to undestand what we have done with [`.format`](https://www.w3schools.com/python/ref_string_format.asp), `\\n` and `\\t` on above print statement \n",
    "<br>\n",
    "> Note the hyperlink with `.format`. It will send you to [Python Tutorial - w3schools.com](https://www.w3schools.com/python/default.asp) "
   ]
  },
  {
   "cell_type": "markdown",
   "metadata": {
    "papermill": {
     "duration": 0.056617,
     "end_time": "2020-10-01T01:24:40.128682",
     "exception": false,
     "start_time": "2020-10-01T01:24:40.072065",
     "status": "completed"
    },
    "tags": []
   },
   "source": [
    "`str.join()` takes us in the other direction, sewing a list of strings up into one long string, using the string it was called on as a separator."
   ]
  },
  {
   "cell_type": "code",
   "execution_count": 32,
   "metadata": {
    "ExecuteTime": {
     "end_time": "2021-04-11T15:49:55.704891Z",
     "start_time": "2021-04-11T15:49:55.700014Z"
    },
    "execution": {
     "iopub.execute_input": "2020-10-01T01:24:40.252051Z",
     "iopub.status.busy": "2020-10-01T01:24:40.250936Z",
     "iopub.status.idle": "2020-10-01T01:24:40.255850Z",
     "shell.execute_reply": "2020-10-01T01:24:40.255067Z"
    },
    "papermill": {
     "duration": 0.06724,
     "end_time": "2020-10-01T01:24:40.255974",
     "exception": false,
     "start_time": "2020-10-01T01:24:40.188734",
     "status": "completed"
    },
    "tags": []
   },
   "outputs": [
    {
     "data": {
      "text/plain": [
       "'01/31/1956'"
      ]
     },
     "execution_count": 32,
     "metadata": {},
     "output_type": "execute_result"
    }
   ],
   "source": [
    "'/'.join([month, day, year])"
   ]
  },
  {
   "cell_type": "code",
   "execution_count": 33,
   "metadata": {
    "ExecuteTime": {
     "end_time": "2021-04-11T20:56:35.867835Z",
     "start_time": "2021-04-11T20:56:35.849299Z"
    },
    "execution": {
     "iopub.execute_input": "2020-10-01T01:24:40.395965Z",
     "iopub.status.busy": "2020-10-01T01:24:40.394902Z",
     "iopub.status.idle": "2020-10-01T01:24:40.400363Z",
     "shell.execute_reply": "2020-10-01T01:24:40.399558Z"
    },
    "papermill": {
     "duration": 0.086849,
     "end_time": "2020-10-01T01:24:40.400499",
     "exception": false,
     "start_time": "2020-10-01T01:24:40.313650",
     "status": "completed"
    },
    "tags": []
   },
   "outputs": [
    {
     "data": {
      "text/plain": [
       "'PLUTO 👏 IS 👏 A 👏 PLANET!'"
      ]
     },
     "execution_count": 33,
     "metadata": {},
     "output_type": "execute_result"
    }
   ],
   "source": [
    "# Yes, we can put unicode characters right in our string literals :)\n",
    "' 👏 '.join([word.upper() for word in words])"
   ]
  },
  {
   "cell_type": "markdown",
   "metadata": {
    "papermill": {
     "duration": 0.063634,
     "end_time": "2020-10-01T01:24:40.532199",
     "exception": false,
     "start_time": "2020-10-01T01:24:40.468565",
     "status": "completed"
    },
    "tags": []
   },
   "source": [
    "### Building strings with `.format()`\n",
    "\n",
    "Python lets us concatenate strings with the `+` operator."
   ]
  },
  {
   "cell_type": "code",
   "execution_count": 22,
   "metadata": {
    "execution": {
     "iopub.execute_input": "2020-10-01T01:24:40.655458Z",
     "iopub.status.busy": "2020-10-01T01:24:40.654562Z",
     "iopub.status.idle": "2020-10-01T01:24:40.659170Z",
     "shell.execute_reply": "2020-10-01T01:24:40.658410Z"
    },
    "papermill": {
     "duration": 0.067642,
     "end_time": "2020-10-01T01:24:40.659297",
     "exception": false,
     "start_time": "2020-10-01T01:24:40.591655",
     "status": "completed"
    },
    "tags": []
   },
   "outputs": [
    {
     "data": {
      "text/plain": [
       "'Pluto, we miss you.'"
      ]
     },
     "execution_count": 22,
     "metadata": {},
     "output_type": "execute_result"
    }
   ],
   "source": [
    "planet + ', we miss you.'"
   ]
  },
  {
   "cell_type": "markdown",
   "metadata": {
    "papermill": {
     "duration": 0.058559,
     "end_time": "2020-10-01T01:24:40.776174",
     "exception": false,
     "start_time": "2020-10-01T01:24:40.717615",
     "status": "completed"
    },
    "tags": []
   },
   "source": [
    "If we want to throw in any non-string objects, we have to be careful to call `str()` on them first"
   ]
  },
  {
   "cell_type": "code",
   "execution_count": 23,
   "metadata": {
    "execution": {
     "iopub.execute_input": "2020-10-01T01:24:40.901365Z",
     "iopub.status.busy": "2020-10-01T01:24:40.897556Z",
     "iopub.status.idle": "2020-10-01T01:24:40.911169Z",
     "shell.execute_reply": "2020-10-01T01:24:40.910501Z"
    },
    "papermill": {
     "duration": 0.076262,
     "end_time": "2020-10-01T01:24:40.911299",
     "exception": false,
     "start_time": "2020-10-01T01:24:40.835037",
     "status": "completed"
    },
    "tags": [
     "raises-exception"
    ]
   },
   "outputs": [
    {
     "ename": "TypeError",
     "evalue": "can only concatenate str (not \"int\") to str",
     "output_type": "error",
     "traceback": [
      "\u001b[0;31m---------------------------------------------------------------------------\u001b[0m",
      "\u001b[0;31mTypeError\u001b[0m                                 Traceback (most recent call last)",
      "\u001b[0;32m<ipython-input-23-73295f9638cc>\u001b[0m in \u001b[0;36m<module>\u001b[0;34m\u001b[0m\n\u001b[1;32m      1\u001b[0m \u001b[0mposition\u001b[0m \u001b[0;34m=\u001b[0m \u001b[0;36m9\u001b[0m\u001b[0;34m\u001b[0m\u001b[0;34m\u001b[0m\u001b[0m\n\u001b[0;32m----> 2\u001b[0;31m \u001b[0mplanet\u001b[0m \u001b[0;34m+\u001b[0m \u001b[0;34m\", you'll always be the \"\u001b[0m \u001b[0;34m+\u001b[0m \u001b[0mposition\u001b[0m \u001b[0;34m+\u001b[0m \u001b[0;34m\"th planet to me.\"\u001b[0m\u001b[0;34m\u001b[0m\u001b[0;34m\u001b[0m\u001b[0m\n\u001b[0m",
      "\u001b[0;31mTypeError\u001b[0m: can only concatenate str (not \"int\") to str"
     ]
    }
   ],
   "source": [
    "position = 9\n",
    "planet + \", you'll always be the \" + position + \"th planet to me.\""
   ]
  },
  {
   "cell_type": "code",
   "execution_count": 24,
   "metadata": {
    "execution": {
     "iopub.execute_input": "2020-10-01T01:24:41.033747Z",
     "iopub.status.busy": "2020-10-01T01:24:41.032788Z",
     "iopub.status.idle": "2020-10-01T01:24:41.038252Z",
     "shell.execute_reply": "2020-10-01T01:24:41.037495Z"
    },
    "papermill": {
     "duration": 0.069047,
     "end_time": "2020-10-01T01:24:41.038377",
     "exception": false,
     "start_time": "2020-10-01T01:24:40.969330",
     "status": "completed"
    },
    "tags": []
   },
   "outputs": [
    {
     "data": {
      "text/plain": [
       "\"Pluto, you'll always be the 9th planet to me.\""
      ]
     },
     "execution_count": 24,
     "metadata": {},
     "output_type": "execute_result"
    }
   ],
   "source": [
    "planet + \", you'll always be the \" + str(position) + \"th planet to me.\""
   ]
  },
  {
   "cell_type": "markdown",
   "metadata": {
    "papermill": {
     "duration": 0.06045,
     "end_time": "2020-10-01T01:24:41.209362",
     "exception": false,
     "start_time": "2020-10-01T01:24:41.148912",
     "status": "completed"
    },
    "tags": []
   },
   "source": [
    "This is getting hard to read and annoying to type. `str.format()` to the rescue."
   ]
  },
  {
   "cell_type": "code",
   "execution_count": 25,
   "metadata": {
    "execution": {
     "iopub.execute_input": "2020-10-01T01:24:41.334853Z",
     "iopub.status.busy": "2020-10-01T01:24:41.333972Z",
     "iopub.status.idle": "2020-10-01T01:24:41.339271Z",
     "shell.execute_reply": "2020-10-01T01:24:41.338348Z"
    },
    "papermill": {
     "duration": 0.069866,
     "end_time": "2020-10-01T01:24:41.339429",
     "exception": false,
     "start_time": "2020-10-01T01:24:41.269563",
     "status": "completed"
    },
    "tags": []
   },
   "outputs": [
    {
     "data": {
      "text/plain": [
       "\"Pluto, you'll always be the 9th planet to me.\""
      ]
     },
     "execution_count": 25,
     "metadata": {},
     "output_type": "execute_result"
    }
   ],
   "source": [
    "\"{}, you'll always be the {}th planet to me.\".format(planet, position)"
   ]
  },
  {
   "cell_type": "markdown",
   "metadata": {
    "papermill": {
     "duration": 0.058798,
     "end_time": "2020-10-01T01:24:41.461382",
     "exception": false,
     "start_time": "2020-10-01T01:24:41.402584",
     "status": "completed"
    },
    "tags": []
   },
   "source": [
    "So much cleaner! We call `.format()` on a \"format string\", where the Python values we want to insert are represented with `{}` placeholders.\n",
    "\n",
    "Notice how we didn't even have to call `str()` to convert `position` from an int. `format()` takes care of that for us.\n",
    "\n",
    "If that was all that `format()` did, it would still be incredibly useful. But as it turns out, it can do a *lot* more. Here's just a taste:"
   ]
  },
  {
   "cell_type": "code",
   "execution_count": 34,
   "metadata": {
    "ExecuteTime": {
     "end_time": "2021-04-11T21:27:07.590497Z",
     "start_time": "2021-04-11T21:27:07.569884Z"
    },
    "execution": {
     "iopub.execute_input": "2020-10-01T01:24:41.587365Z",
     "iopub.status.busy": "2020-10-01T01:24:41.586385Z",
     "iopub.status.idle": "2020-10-01T01:24:41.591111Z",
     "shell.execute_reply": "2020-10-01T01:24:41.591996Z"
    },
    "papermill": {
     "duration": 0.071738,
     "end_time": "2020-10-01T01:24:41.592255",
     "exception": false,
     "start_time": "2020-10-01T01:24:41.520517",
     "status": "completed"
    },
    "tags": []
   },
   "outputs": [
    {
     "data": {
      "text/plain": [
       "\"Pluto weighs about 1.3e+22 kilograms (0.218% of Earth's mass). It is home to 52,910,390 Plutonians.\""
      ]
     },
     "execution_count": 34,
     "metadata": {},
     "output_type": "execute_result"
    }
   ],
   "source": [
    "pluto_mass = 1.303 * 10**22\n",
    "earth_mass = 5.9722 * 10**24\n",
    "population = 52910390\n",
    "\n",
    "#         2 decimal points   3 decimal points, format as percent     separate with commas\n",
    "\"{} weighs about {:.2} kilograms ({:.3%} of Earth's mass). It is home to {:,} Plutonians.\".format(\n",
    "    planet, pluto_mass, pluto_mass / earth_mass, population,\n",
    ")"
   ]
  },
  {
   "cell_type": "code",
   "execution_count": 35,
   "metadata": {
    "ExecuteTime": {
     "end_time": "2021-04-11T21:28:11.758806Z",
     "start_time": "2021-04-11T21:28:11.755242Z"
    },
    "execution": {
     "iopub.execute_input": "2020-10-01T01:24:41.720660Z",
     "iopub.status.busy": "2020-10-01T01:24:41.719756Z",
     "iopub.status.idle": "2020-10-01T01:24:41.724773Z",
     "shell.execute_reply": "2020-10-01T01:24:41.723055Z"
    },
    "papermill": {
     "duration": 0.070398,
     "end_time": "2020-10-01T01:24:41.724921",
     "exception": false,
     "start_time": "2020-10-01T01:24:41.654523",
     "status": "completed"
    },
    "tags": []
   },
   "outputs": [
    {
     "name": "stdout",
     "output_type": "stream",
     "text": [
      "Pluto's a planet.\n",
      "No, it's a dwarf planet.\n",
      "planet!\n",
      "dwarf planet!\n"
     ]
    }
   ],
   "source": [
    "# Referring to format() arguments by index, starting from 0\n",
    "s = \"\"\"Pluto's a {0}.\n",
    "No, it's a {1}.\n",
    "{0}!\n",
    "{1}!\"\"\".format('planet', 'dwarf planet')\n",
    "print(s)"
   ]
  },
  {
   "cell_type": "markdown",
   "metadata": {
    "papermill": {
     "duration": 0.059505,
     "end_time": "2020-10-01T01:24:41.844834",
     "exception": false,
     "start_time": "2020-10-01T01:24:41.785329",
     "status": "completed"
    },
    "tags": []
   },
   "source": [
    "You could probably write a short book just on `str.format`, so I'll stop here, and point you to [pyformat.info](https://pyformat.info/) and [the official docs](https://docs.python.org/3/library/string.html#formatstrings) for further reading."
   ]
  },
  {
   "cell_type": "markdown",
   "metadata": {
    "papermill": {
     "duration": 0.0592,
     "end_time": "2020-10-01T01:24:41.967614",
     "exception": false,
     "start_time": "2020-10-01T01:24:41.908414",
     "status": "completed"
    },
    "tags": []
   },
   "source": [
    "# Dictionaries\n",
    "\n",
    "Dictionaries are a built-in Python data structure for mapping keys to values."
   ]
  },
  {
   "cell_type": "code",
   "execution_count": 36,
   "metadata": {
    "ExecuteTime": {
     "end_time": "2021-04-11T21:29:29.920976Z",
     "start_time": "2021-04-11T21:29:29.915907Z"
    },
    "execution": {
     "iopub.execute_input": "2020-10-01T01:24:42.095509Z",
     "iopub.status.busy": "2020-10-01T01:24:42.094543Z",
     "iopub.status.idle": "2020-10-01T01:24:42.097686Z",
     "shell.execute_reply": "2020-10-01T01:24:42.096922Z"
    },
    "papermill": {
     "duration": 0.070533,
     "end_time": "2020-10-01T01:24:42.097813",
     "exception": false,
     "start_time": "2020-10-01T01:24:42.027280",
     "status": "completed"
    },
    "tags": []
   },
   "outputs": [],
   "source": [
    "numbers = {'one':1, 'two':2, 'three':3}"
   ]
  },
  {
   "cell_type": "markdown",
   "metadata": {
    "papermill": {
     "duration": 0.059645,
     "end_time": "2020-10-01T01:24:42.217448",
     "exception": false,
     "start_time": "2020-10-01T01:24:42.157803",
     "status": "completed"
    },
    "tags": []
   },
   "source": [
    "In this case `'one'`, `'two'`, and `'three'` are the **keys**, and 1, 2 and 3 are their corresponding values.\n",
    "\n",
    "Values are accessed via square bracket syntax similar to indexing into lists and strings."
   ]
  },
  {
   "cell_type": "code",
   "execution_count": 37,
   "metadata": {
    "ExecuteTime": {
     "end_time": "2021-04-11T21:29:40.162467Z",
     "start_time": "2021-04-11T21:29:40.157819Z"
    },
    "execution": {
     "iopub.execute_input": "2020-10-01T01:24:42.346823Z",
     "iopub.status.busy": "2020-10-01T01:24:42.345546Z",
     "iopub.status.idle": "2020-10-01T01:24:42.350849Z",
     "shell.execute_reply": "2020-10-01T01:24:42.350233Z"
    },
    "papermill": {
     "duration": 0.071954,
     "end_time": "2020-10-01T01:24:42.350987",
     "exception": false,
     "start_time": "2020-10-01T01:24:42.279033",
     "status": "completed"
    },
    "tags": []
   },
   "outputs": [
    {
     "data": {
      "text/plain": [
       "1"
      ]
     },
     "execution_count": 37,
     "metadata": {},
     "output_type": "execute_result"
    }
   ],
   "source": [
    "numbers['one']"
   ]
  },
  {
   "cell_type": "markdown",
   "metadata": {
    "papermill": {
     "duration": 0.060387,
     "end_time": "2020-10-01T01:24:42.476585",
     "exception": false,
     "start_time": "2020-10-01T01:24:42.416198",
     "status": "completed"
    },
    "tags": []
   },
   "source": [
    "We can use the same syntax to add another key, value pair"
   ]
  },
  {
   "cell_type": "code",
   "execution_count": 38,
   "metadata": {
    "ExecuteTime": {
     "end_time": "2021-04-11T21:30:16.560158Z",
     "start_time": "2021-04-11T21:30:16.553862Z"
    },
    "execution": {
     "iopub.execute_input": "2020-10-01T01:24:42.607787Z",
     "iopub.status.busy": "2020-10-01T01:24:42.606926Z",
     "iopub.status.idle": "2020-10-01T01:24:42.611695Z",
     "shell.execute_reply": "2020-10-01T01:24:42.610917Z"
    },
    "papermill": {
     "duration": 0.072761,
     "end_time": "2020-10-01T01:24:42.611823",
     "exception": false,
     "start_time": "2020-10-01T01:24:42.539062",
     "status": "completed"
    },
    "tags": []
   },
   "outputs": [
    {
     "data": {
      "text/plain": [
       "{'one': 1, 'two': 2, 'three': 3, 'eleven': 11}"
      ]
     },
     "execution_count": 38,
     "metadata": {},
     "output_type": "execute_result"
    }
   ],
   "source": [
    "numbers['eleven'] = 11\n",
    "numbers"
   ]
  },
  {
   "cell_type": "markdown",
   "metadata": {
    "papermill": {
     "duration": 0.061608,
     "end_time": "2020-10-01T01:24:42.734218",
     "exception": false,
     "start_time": "2020-10-01T01:24:42.672610",
     "status": "completed"
    },
    "tags": []
   },
   "source": [
    "Or to change the value associated with an existing key"
   ]
  },
  {
   "cell_type": "code",
   "execution_count": 39,
   "metadata": {
    "ExecuteTime": {
     "end_time": "2021-04-11T21:30:22.725977Z",
     "start_time": "2021-04-11T21:30:22.718098Z"
    },
    "execution": {
     "iopub.execute_input": "2020-10-01T01:24:42.865029Z",
     "iopub.status.busy": "2020-10-01T01:24:42.864021Z",
     "iopub.status.idle": "2020-10-01T01:24:42.868993Z",
     "shell.execute_reply": "2020-10-01T01:24:42.868228Z"
    },
    "papermill": {
     "duration": 0.07173,
     "end_time": "2020-10-01T01:24:42.869146",
     "exception": false,
     "start_time": "2020-10-01T01:24:42.797416",
     "status": "completed"
    },
    "tags": []
   },
   "outputs": [
    {
     "data": {
      "text/plain": [
       "{'one': 'Pluto', 'two': 2, 'three': 3, 'eleven': 11}"
      ]
     },
     "execution_count": 39,
     "metadata": {},
     "output_type": "execute_result"
    }
   ],
   "source": [
    "numbers['one'] = 'Pluto'\n",
    "numbers"
   ]
  },
  {
   "cell_type": "markdown",
   "metadata": {
    "papermill": {
     "duration": 0.065459,
     "end_time": "2020-10-01T01:24:43.003983",
     "exception": false,
     "start_time": "2020-10-01T01:24:42.938524",
     "status": "completed"
    },
    "tags": []
   },
   "source": [
    "Python has *dictionary comprehensions* with a syntax similar to the list comprehensions we saw in the previous tutorial."
   ]
  },
  {
   "cell_type": "code",
   "execution_count": 40,
   "metadata": {
    "ExecuteTime": {
     "end_time": "2021-04-11T21:30:47.854153Z",
     "start_time": "2021-04-11T21:30:47.843760Z"
    },
    "execution": {
     "iopub.execute_input": "2020-10-01T01:24:43.152017Z",
     "iopub.status.busy": "2020-10-01T01:24:43.150905Z",
     "iopub.status.idle": "2020-10-01T01:24:43.156183Z",
     "shell.execute_reply": "2020-10-01T01:24:43.155570Z"
    },
    "papermill": {
     "duration": 0.081922,
     "end_time": "2020-10-01T01:24:43.156318",
     "exception": false,
     "start_time": "2020-10-01T01:24:43.074396",
     "status": "completed"
    },
    "tags": []
   },
   "outputs": [
    {
     "data": {
      "text/plain": [
       "{'Mercury': 'M',\n",
       " 'Venus': 'V',\n",
       " 'Earth': 'E',\n",
       " 'Mars': 'M',\n",
       " 'Jupiter': 'J',\n",
       " 'Saturn': 'S',\n",
       " 'Uranus': 'U',\n",
       " 'Neptune': 'N'}"
      ]
     },
     "execution_count": 40,
     "metadata": {},
     "output_type": "execute_result"
    }
   ],
   "source": [
    "planets = ['Mercury', 'Venus', 'Earth', 'Mars', 'Jupiter', 'Saturn', 'Uranus', 'Neptune']\n",
    "planet_to_initial = {planet: planet[0] for planet in planets}\n",
    "planet_to_initial"
   ]
  },
  {
   "cell_type": "markdown",
   "metadata": {
    "papermill": {
     "duration": 0.064464,
     "end_time": "2020-10-01T01:24:43.283404",
     "exception": false,
     "start_time": "2020-10-01T01:24:43.218940",
     "status": "completed"
    },
    "tags": []
   },
   "source": [
    "The `in` operator tells us whether something is a key in the dictionary"
   ]
  },
  {
   "cell_type": "code",
   "execution_count": 41,
   "metadata": {
    "ExecuteTime": {
     "end_time": "2021-04-11T21:31:11.960168Z",
     "start_time": "2021-04-11T21:31:11.955891Z"
    },
    "execution": {
     "iopub.execute_input": "2020-10-01T01:24:43.418468Z",
     "iopub.status.busy": "2020-10-01T01:24:43.417380Z",
     "iopub.status.idle": "2020-10-01T01:24:43.422687Z",
     "shell.execute_reply": "2020-10-01T01:24:43.421960Z"
    },
    "papermill": {
     "duration": 0.07731,
     "end_time": "2020-10-01T01:24:43.422813",
     "exception": false,
     "start_time": "2020-10-01T01:24:43.345503",
     "status": "completed"
    },
    "tags": []
   },
   "outputs": [
    {
     "data": {
      "text/plain": [
       "True"
      ]
     },
     "execution_count": 41,
     "metadata": {},
     "output_type": "execute_result"
    }
   ],
   "source": [
    "'Saturn' in planet_to_initial"
   ]
  },
  {
   "cell_type": "code",
   "execution_count": 42,
   "metadata": {
    "ExecuteTime": {
     "end_time": "2021-04-11T21:31:14.908421Z",
     "start_time": "2021-04-11T21:31:14.904673Z"
    },
    "execution": {
     "iopub.execute_input": "2020-10-01T01:24:43.561454Z",
     "iopub.status.busy": "2020-10-01T01:24:43.560371Z",
     "iopub.status.idle": "2020-10-01T01:24:43.565468Z",
     "shell.execute_reply": "2020-10-01T01:24:43.564840Z"
    },
    "papermill": {
     "duration": 0.078845,
     "end_time": "2020-10-01T01:24:43.565619",
     "exception": false,
     "start_time": "2020-10-01T01:24:43.486774",
     "status": "completed"
    },
    "tags": []
   },
   "outputs": [
    {
     "data": {
      "text/plain": [
       "False"
      ]
     },
     "execution_count": 42,
     "metadata": {},
     "output_type": "execute_result"
    }
   ],
   "source": [
    "'Betelgeuse' in planet_to_initial"
   ]
  },
  {
   "cell_type": "markdown",
   "metadata": {
    "papermill": {
     "duration": 0.063389,
     "end_time": "2020-10-01T01:24:43.693429",
     "exception": false,
     "start_time": "2020-10-01T01:24:43.630040",
     "status": "completed"
    },
    "tags": []
   },
   "source": [
    "A for loop over a dictionary will loop over its keys"
   ]
  },
  {
   "cell_type": "code",
   "execution_count": 35,
   "metadata": {
    "execution": {
     "iopub.execute_input": "2020-10-01T01:24:43.830069Z",
     "iopub.status.busy": "2020-10-01T01:24:43.829117Z",
     "iopub.status.idle": "2020-10-01T01:24:43.833420Z",
     "shell.execute_reply": "2020-10-01T01:24:43.832727Z"
    },
    "papermill": {
     "duration": 0.075809,
     "end_time": "2020-10-01T01:24:43.833552",
     "exception": false,
     "start_time": "2020-10-01T01:24:43.757743",
     "status": "completed"
    },
    "tags": []
   },
   "outputs": [
    {
     "name": "stdout",
     "output_type": "stream",
     "text": [
      "one = Pluto\n",
      "two = 2\n",
      "three = 3\n",
      "eleven = 11\n"
     ]
    }
   ],
   "source": [
    "for k in numbers:\n",
    "    print(\"{} = {}\".format(k, numbers[k]))"
   ]
  },
  {
   "cell_type": "markdown",
   "metadata": {
    "papermill": {
     "duration": 0.063728,
     "end_time": "2020-10-01T01:24:43.961642",
     "exception": false,
     "start_time": "2020-10-01T01:24:43.897914",
     "status": "completed"
    },
    "tags": []
   },
   "source": [
    "We can access a collection of all the keys or all the values with `dict.keys()` and `dict.values()`, respectively."
   ]
  },
  {
   "cell_type": "code",
   "execution_count": 36,
   "metadata": {
    "execution": {
     "iopub.execute_input": "2020-10-01T01:24:44.097253Z",
     "iopub.status.busy": "2020-10-01T01:24:44.096417Z",
     "iopub.status.idle": "2020-10-01T01:24:44.101647Z",
     "shell.execute_reply": "2020-10-01T01:24:44.100994Z"
    },
    "papermill": {
     "duration": 0.075936,
     "end_time": "2020-10-01T01:24:44.101779",
     "exception": false,
     "start_time": "2020-10-01T01:24:44.025843",
     "status": "completed"
    },
    "tags": []
   },
   "outputs": [
    {
     "data": {
      "text/plain": [
       "'E J M M N S U V'"
      ]
     },
     "execution_count": 36,
     "metadata": {},
     "output_type": "execute_result"
    }
   ],
   "source": [
    "# Get all the initials, sort them alphabetically, and put them in a space-separated string.\n",
    "' '.join(sorted(planet_to_initial.values()))"
   ]
  },
  {
   "cell_type": "markdown",
   "metadata": {
    "papermill": {
     "duration": 0.067588,
     "end_time": "2020-10-01T01:24:44.233276",
     "exception": false,
     "start_time": "2020-10-01T01:24:44.165688",
     "status": "completed"
    },
    "tags": []
   },
   "source": [
    "The very useful `dict.items()` method lets us iterate over the keys and values of a dictionary simultaneously. (In Python jargon, an **item** refers to a key, value pair)"
   ]
  },
  {
   "cell_type": "code",
   "execution_count": 43,
   "metadata": {
    "ExecuteTime": {
     "end_time": "2021-04-11T21:34:02.601478Z",
     "start_time": "2021-04-11T21:34:02.593266Z"
    }
   },
   "outputs": [
    {
     "data": {
      "text/plain": [
       "dict_items([('Mercury', 'M'), ('Venus', 'V'), ('Earth', 'E'), ('Mars', 'M'), ('Jupiter', 'J'), ('Saturn', 'S'), ('Uranus', 'U'), ('Neptune', 'N')])"
      ]
     },
     "execution_count": 43,
     "metadata": {},
     "output_type": "execute_result"
    }
   ],
   "source": [
    "planet_to_initial.items()"
   ]
  },
  {
   "cell_type": "code",
   "execution_count": 50,
   "metadata": {
    "ExecuteTime": {
     "end_time": "2021-04-11T21:36:14.252036Z",
     "start_time": "2021-04-11T21:36:14.247170Z"
    },
    "execution": {
     "iopub.execute_input": "2020-10-01T01:24:44.370614Z",
     "iopub.status.busy": "2020-10-01T01:24:44.369742Z",
     "iopub.status.idle": "2020-10-01T01:24:44.375386Z",
     "shell.execute_reply": "2020-10-01T01:24:44.374272Z"
    },
    "papermill": {
     "duration": 0.077311,
     "end_time": "2020-10-01T01:24:44.375566",
     "exception": false,
     "start_time": "2020-10-01T01:24:44.298255",
     "status": "completed"
    },
    "tags": []
   },
   "outputs": [
    {
     "name": "stdout",
     "output_type": "stream",
     "text": [
      "Mercury begins with \"M\"\n",
      "  Venus begins with \"V\"\n",
      "  Earth begins with \"E\"\n",
      "   Mars begins with \"M\"\n",
      "Jupiter begins with \"J\"\n",
      " Saturn begins with \"S\"\n",
      " Uranus begins with \"U\"\n",
      "Neptune begins with \"N\"\n"
     ]
    }
   ],
   "source": [
    "for planet, initial in planet_to_initial.items():\n",
    "    print(\"{} begins with \\\"{}\\\"\".format(planet.rjust(7), initial))"
   ]
  },
  {
   "cell_type": "markdown",
   "metadata": {
    "papermill": {
     "duration": 0.06432,
     "end_time": "2020-10-01T01:24:44.507122",
     "exception": false,
     "start_time": "2020-10-01T01:24:44.442802",
     "status": "completed"
    },
    "tags": []
   },
   "source": [
    "To read a full inventory of dictionaries' methods, click the \"output\" button below to read the full help page, or check out the [official online documentation](https://docs.python.org/3/library/stdtypes.html#dict)."
   ]
  },
  {
   "cell_type": "code",
   "execution_count": 52,
   "metadata": {
    "ExecuteTime": {
     "end_time": "2021-04-11T21:37:04.915373Z",
     "start_time": "2021-04-11T21:37:04.851124Z"
    },
    "_kg_hide-output": true,
    "execution": {
     "iopub.execute_input": "2020-10-01T01:24:44.650920Z",
     "iopub.status.busy": "2020-10-01T01:24:44.645934Z",
     "iopub.status.idle": "2020-10-01T01:24:44.657431Z",
     "shell.execute_reply": "2020-10-01T01:24:44.656502Z"
    },
    "papermill": {
     "duration": 0.085726,
     "end_time": "2020-10-01T01:24:44.657641",
     "exception": false,
     "start_time": "2020-10-01T01:24:44.571915",
     "status": "completed"
    },
    "scrolled": true,
    "tags": []
   },
   "outputs": [
    {
     "name": "stdout",
     "output_type": "stream",
     "text": [
      "Help on class dict in module builtins:\n",
      "\n",
      "class dict(object)\n",
      " |  dict() -> new empty dictionary\n",
      " |  dict(mapping) -> new dictionary initialized from a mapping object's\n",
      " |      (key, value) pairs\n",
      " |  dict(iterable) -> new dictionary initialized as if via:\n",
      " |      d = {}\n",
      " |      for k, v in iterable:\n",
      " |          d[k] = v\n",
      " |  dict(**kwargs) -> new dictionary initialized with the name=value pairs\n",
      " |      in the keyword argument list.  For example:  dict(one=1, two=2)\n",
      " |  \n",
      " |  Methods defined here:\n",
      " |  \n",
      " |  __contains__(self, key, /)\n",
      " |      True if the dictionary has the specified key, else False.\n",
      " |  \n",
      " |  __delitem__(self, key, /)\n",
      " |      Delete self[key].\n",
      " |  \n",
      " |  __eq__(self, value, /)\n",
      " |      Return self==value.\n",
      " |  \n",
      " |  __ge__(self, value, /)\n",
      " |      Return self>=value.\n",
      " |  \n",
      " |  __getattribute__(self, name, /)\n",
      " |      Return getattr(self, name).\n",
      " |  \n",
      " |  __getitem__(...)\n",
      " |      x.__getitem__(y) <==> x[y]\n",
      " |  \n",
      " |  __gt__(self, value, /)\n",
      " |      Return self>value.\n",
      " |  \n",
      " |  __init__(self, /, *args, **kwargs)\n",
      " |      Initialize self.  See help(type(self)) for accurate signature.\n",
      " |  \n",
      " |  __iter__(self, /)\n",
      " |      Implement iter(self).\n",
      " |  \n",
      " |  __le__(self, value, /)\n",
      " |      Return self<=value.\n",
      " |  \n",
      " |  __len__(self, /)\n",
      " |      Return len(self).\n",
      " |  \n",
      " |  __lt__(self, value, /)\n",
      " |      Return self<value.\n",
      " |  \n",
      " |  __ne__(self, value, /)\n",
      " |      Return self!=value.\n",
      " |  \n",
      " |  __repr__(self, /)\n",
      " |      Return repr(self).\n",
      " |  \n",
      " |  __setitem__(self, key, value, /)\n",
      " |      Set self[key] to value.\n",
      " |  \n",
      " |  __sizeof__(...)\n",
      " |      D.__sizeof__() -> size of D in memory, in bytes\n",
      " |  \n",
      " |  clear(...)\n",
      " |      D.clear() -> None.  Remove all items from D.\n",
      " |  \n",
      " |  copy(...)\n",
      " |      D.copy() -> a shallow copy of D\n",
      " |  \n",
      " |  get(self, key, default=None, /)\n",
      " |      Return the value for key if key is in the dictionary, else default.\n",
      " |  \n",
      " |  items(...)\n",
      " |      D.items() -> a set-like object providing a view on D's items\n",
      " |  \n",
      " |  keys(...)\n",
      " |      D.keys() -> a set-like object providing a view on D's keys\n",
      " |  \n",
      " |  pop(...)\n",
      " |      D.pop(k[,d]) -> v, remove specified key and return the corresponding value.\n",
      " |      If key is not found, d is returned if given, otherwise KeyError is raised\n",
      " |  \n",
      " |  popitem(...)\n",
      " |      D.popitem() -> (k, v), remove and return some (key, value) pair as a\n",
      " |      2-tuple; but raise KeyError if D is empty.\n",
      " |  \n",
      " |  setdefault(self, key, default=None, /)\n",
      " |      Insert key with a value of default if key is not in the dictionary.\n",
      " |      \n",
      " |      Return the value for key if key is in the dictionary, else default.\n",
      " |  \n",
      " |  update(...)\n",
      " |      D.update([E, ]**F) -> None.  Update D from dict/iterable E and F.\n",
      " |      If E is present and has a .keys() method, then does:  for k in E: D[k] = E[k]\n",
      " |      If E is present and lacks a .keys() method, then does:  for k, v in E: D[k] = v\n",
      " |      In either case, this is followed by: for k in F:  D[k] = F[k]\n",
      " |  \n",
      " |  values(...)\n",
      " |      D.values() -> an object providing a view on D's values\n",
      " |  \n",
      " |  ----------------------------------------------------------------------\n",
      " |  Class methods defined here:\n",
      " |  \n",
      " |  fromkeys(iterable, value=None, /) from builtins.type\n",
      " |      Create a new dictionary with keys from iterable and values set to value.\n",
      " |  \n",
      " |  ----------------------------------------------------------------------\n",
      " |  Static methods defined here:\n",
      " |  \n",
      " |  __new__(*args, **kwargs) from builtins.type\n",
      " |      Create and return a new object.  See help(type) for accurate signature.\n",
      " |  \n",
      " |  ----------------------------------------------------------------------\n",
      " |  Data and other attributes defined here:\n",
      " |  \n",
      " |  __hash__ = None\n",
      "\n"
     ]
    }
   ],
   "source": [
    "help(dict)"
   ]
  },
  {
   "cell_type": "markdown",
   "metadata": {},
   "source": [
    "# Exercises"
   ]
  },
  {
   "cell_type": "markdown",
   "metadata": {},
   "source": [
    "## 0. \n",
    "\n",
    "Let's start with a string lightning round to warm up. What are the lengths of the strings below?\n",
    "\n",
    "For each of the five strings below, predict what `len()` would return when passed that string (before you use it to confirm your answer). Explain why you got that result. "
   ]
  },
  {
   "cell_type": "code",
   "execution_count": null,
   "metadata": {
    "ExecuteTime": {
     "end_time": "2021-04-12T14:38:56.244217Z",
     "start_time": "2021-04-12T14:38:56.046085Z"
    }
   },
   "outputs": [],
   "source": [
    "a = \"\"\n",
    "length = ____"
   ]
  },
  {
   "cell_type": "code",
   "execution_count": null,
   "metadata": {},
   "outputs": [],
   "source": [
    "b = \"it's ok\"\n",
    "length = ____"
   ]
  },
  {
   "cell_type": "code",
   "execution_count": null,
   "metadata": {},
   "outputs": [],
   "source": [
    "c = 'it\\'s ok'\n",
    "length = ____"
   ]
  },
  {
   "cell_type": "code",
   "execution_count": null,
   "metadata": {},
   "outputs": [],
   "source": [
    "d = \"\"\"hey\"\"\"\n",
    "length = ____"
   ]
  },
  {
   "cell_type": "code",
   "execution_count": null,
   "metadata": {},
   "outputs": [],
   "source": [
    "e = '\\n'\n",
    "length = ____"
   ]
  },
  {
   "cell_type": "markdown",
   "metadata": {},
   "source": [
    "## 1.\n",
    "\n",
    "There is a saying that \"Data scientists spend 80% of their time cleaning data, and 20% of their time complaining about cleaning data.\" Let's see if you can write a function to help clean US zip code data. Given a string, it should return whether or not that string represents a valid zip code. For our purposes, a valid zip code is any string consisting of exactly 5 digits.\n",
    "\n",
    "HINT: `str` has a method that will be useful here. Use `help(str)` to review a list of string methods."
   ]
  },
  {
   "cell_type": "code",
   "execution_count": null,
   "metadata": {},
   "outputs": [],
   "source": [
    "def is_valid_zip(zip_code):\n",
    "    \"\"\"Returns whether the input string is a valid (5 digit) zip code\n",
    "    \"\"\"\n",
    "    pass"
   ]
  },
  {
   "cell_type": "markdown",
   "metadata": {},
   "source": [
    "## 2.\n",
    "\n",
    "A researcher has gathered thousands of news articles. But she wants to focus her attention on articles including a specific word. Complete the function below to help her filter her list of articles.\n",
    "\n",
    "Your function should meet the following criteria:\n",
    "\n",
    "- Do not include documents where the keyword string shows up only as a part of a larger word. For example, if she were looking for the keyword “closed”, you would not include the string “enclosed.” \n",
    "- She does not want you to distinguish upper case from lower case letters. So the phrase “Closed the case.” would be included when the keyword is “closed”\n",
    "- Do not let periods or commas affect what is matched. “It is closed.” would be included when the keyword is “closed”. But you can assume there are no other types of punctuation."
   ]
  },
  {
   "cell_type": "code",
   "execution_count": null,
   "metadata": {},
   "outputs": [],
   "source": [
    "def word_search(doc_list, keyword):\n",
    "    \"\"\"\n",
    "    Takes a list of documents (each document is a string) and a keyword. \n",
    "    Returns list of the index values into the original list for all documents \n",
    "    containing the keyword.\n",
    "\n",
    "    Example:\n",
    "    doc_list = [\"The Learn Python Challenge Casino.\", \"They bought a car\", \"Casinoville\"]\n",
    "    >>> word_search(doc_list, 'casino')\n",
    "    >>> [0]\n",
    "    \"\"\"\n",
    "    pass\n"
   ]
  },
  {
   "cell_type": "markdown",
   "metadata": {},
   "source": [
    "## 3.\n",
    "\n",
    "Now the researcher wants to supply multiple keywords to search for. Complete the function below to help her.\n",
    "\n",
    "(You're encouraged to use the `word_search` function you just wrote when implementing this function. Reusing code in this way makes your programs more robust and readable - and it saves typing!)"
   ]
  },
  {
   "cell_type": "code",
   "execution_count": null,
   "metadata": {},
   "outputs": [],
   "source": [
    "def multi_word_search(doc_list, keywords):\n",
    "    \"\"\"\n",
    "    Takes list of documents (each document is a string) and a list of keywords.  \n",
    "    Returns a dictionary where each key is a keyword, and the value is a list of indices\n",
    "    (from doc_list) of the documents containing that keyword\n",
    "\n",
    "    >>> doc_list = [\"The Learn Python Challenge Casino.\", \"They bought a car and a casino\", \"Casinoville\"]\n",
    "    >>> keywords = ['casino', 'they']\n",
    "    >>> multi_word_search(doc_list, keywords)\n",
    "    {'casino': [0, 1], 'they': [1]}\n",
    "    \"\"\"\n",
    "    pass\n"
   ]
  },
  {
   "cell_type": "code",
   "execution_count": null,
   "metadata": {},
   "outputs": [],
   "source": []
  }
 ],
 "metadata": {
  "anaconda-cloud": {},
  "hide_input": false,
  "kernelspec": {
   "display_name": "Tf2_Py37",
   "language": "python",
   "name": "tf2_py37"
  },
  "language_info": {
   "codemirror_mode": {
    "name": "ipython",
    "version": 3
   },
   "file_extension": ".py",
   "mimetype": "text/x-python",
   "name": "python",
   "nbconvert_exporter": "python",
   "pygments_lexer": "ipython3",
   "version": "3.7.7"
  },
  "learntools_metadata": {
   "lesson_index": 5,
   "type": "tutorial"
  },
  "nbTranslate": {
   "displayLangs": [
    "*"
   ],
   "hotkey": "alt-t",
   "langInMainMenu": true,
   "sourceLang": "en",
   "targetLang": "fr",
   "useGoogleTranslate": true
  },
  "papermill": {
   "duration": 15.15004,
   "end_time": "2020-10-01T01:24:46.082932",
   "environment_variables": {},
   "exception": null,
   "input_path": "__notebook__.ipynb",
   "output_path": "__notebook__.ipynb",
   "parameters": {},
   "start_time": "2020-10-01T01:24:30.932892",
   "version": "2.1.0"
  },
  "toc": {
   "base_numbering": 1,
   "nav_menu": {},
   "number_sections": true,
   "sideBar": true,
   "skip_h1_title": true,
   "title_cell": "Table of Contents",
   "title_sidebar": "Contents",
   "toc_cell": false,
   "toc_position": {},
   "toc_section_display": true,
   "toc_window_display": true
  },
  "varInspector": {
   "cols": {
    "lenName": 16,
    "lenType": 16,
    "lenVar": 40
   },
   "kernels_config": {
    "python": {
     "delete_cmd_postfix": "",
     "delete_cmd_prefix": "del ",
     "library": "var_list.py",
     "varRefreshCmd": "print(var_dic_list())"
    },
    "r": {
     "delete_cmd_postfix": ") ",
     "delete_cmd_prefix": "rm(",
     "library": "var_list.r",
     "varRefreshCmd": "cat(var_dic_list()) "
    }
   },
   "types_to_exclude": [
    "module",
    "function",
    "builtin_function_or_method",
    "instance",
    "_Feature"
   ],
   "window_display": false
  }
 },
 "nbformat": 4,
 "nbformat_minor": 2
}
