{
 "cells": [
  {
   "cell_type": "markdown",
   "metadata": {},
   "source": [
    "# Python4DS Quick Review - 4\n",
    "Based on Kaggle Python Course"
   ]
  },
  {
   "cell_type": "markdown",
   "metadata": {
    "papermill": {
     "duration": 0.030014,
     "end_time": "2020-10-01T01:24:30.865487",
     "exception": false,
     "start_time": "2020-10-01T01:24:30.835473",
     "status": "completed"
    },
    "tags": []
   },
   "source": [
    "# Lists\n",
    "\n",
    "Lists in Python represent ordered sequences of values. Here is an example of how to create them:"
   ]
  },
  {
   "cell_type": "code",
   "execution_count": 3,
   "metadata": {
    "ExecuteTime": {
     "end_time": "2021-04-09T20:25:19.208213Z",
     "start_time": "2021-04-09T20:25:19.205028Z"
    },
    "execution": {
     "iopub.execute_input": "2020-10-01T01:24:30.926166Z",
     "iopub.status.busy": "2020-10-01T01:24:30.925720Z",
     "iopub.status.idle": "2020-10-01T01:24:30.928884Z",
     "shell.execute_reply": "2020-10-01T01:24:30.928498Z"
    },
    "papermill": {
     "duration": 0.035127,
     "end_time": "2020-10-01T01:24:30.928959",
     "exception": false,
     "start_time": "2020-10-01T01:24:30.893832",
     "status": "completed"
    },
    "tags": []
   },
   "outputs": [],
   "source": [
    "primes = [2, 3, 5, 7]"
   ]
  },
  {
   "cell_type": "markdown",
   "metadata": {
    "papermill": {
     "duration": 0.028267,
     "end_time": "2020-10-01T01:24:30.986119",
     "exception": false,
     "start_time": "2020-10-01T01:24:30.957852",
     "status": "completed"
    },
    "tags": []
   },
   "source": [
    "We can put other types of things in lists:"
   ]
  },
  {
   "cell_type": "code",
   "execution_count": 4,
   "metadata": {
    "ExecuteTime": {
     "end_time": "2021-04-09T20:25:21.108997Z",
     "start_time": "2021-04-09T20:25:21.103947Z"
    },
    "execution": {
     "iopub.execute_input": "2020-10-01T01:24:31.047672Z",
     "iopub.status.busy": "2020-10-01T01:24:31.047013Z",
     "iopub.status.idle": "2020-10-01T01:24:31.049613Z",
     "shell.execute_reply": "2020-10-01T01:24:31.049164Z"
    },
    "papermill": {
     "duration": 0.035131,
     "end_time": "2020-10-01T01:24:31.049683",
     "exception": false,
     "start_time": "2020-10-01T01:24:31.014552",
     "status": "completed"
    },
    "tags": []
   },
   "outputs": [],
   "source": [
    "planets = ['Mercury', 'Venus', 'Earth', 'Mars', 'Jupiter', 'Saturn', 'Uranus', 'Neptune']"
   ]
  },
  {
   "cell_type": "markdown",
   "metadata": {},
   "source": [
    ">Poor Pluto! Now, only a dwarf planet, that is a planetary-mass object that is neither a true planet nor a natural satellite. See more about [planets.](https://en.wikipedia.org/wiki/Planet)"
   ]
  },
  {
   "cell_type": "markdown",
   "metadata": {
    "papermill": {
     "duration": 0.043196,
     "end_time": "2020-10-01T01:24:31.136268",
     "exception": false,
     "start_time": "2020-10-01T01:24:31.093072",
     "status": "completed"
    },
    "tags": []
   },
   "source": [
    "We can even make a list of lists:"
   ]
  },
  {
   "cell_type": "code",
   "execution_count": 5,
   "metadata": {
    "ExecuteTime": {
     "end_time": "2021-04-09T20:25:24.717808Z",
     "start_time": "2021-04-09T20:25:24.714574Z"
    },
    "execution": {
     "iopub.execute_input": "2020-10-01T01:24:31.227468Z",
     "iopub.status.busy": "2020-10-01T01:24:31.227001Z",
     "iopub.status.idle": "2020-10-01T01:24:31.229146Z",
     "shell.execute_reply": "2020-10-01T01:24:31.228809Z"
    },
    "papermill": {
     "duration": 0.049124,
     "end_time": "2020-10-01T01:24:31.229215",
     "exception": false,
     "start_time": "2020-10-01T01:24:31.180091",
     "status": "completed"
    },
    "tags": []
   },
   "outputs": [],
   "source": [
    "hands = [\n",
    "    ['J', 'Q', 'K'],\n",
    "    ['2', '2', '2'],\n",
    "    ['6', 'A', 'K'],  # (Comma after the last element is optional)\n",
    "]\n",
    "\n",
    "# (I could also have written this on one line, but it can get hard to read)\n",
    "hands = [['J', 'Q', 'K'], ['2', '2', '2'], ['6', 'A', 'K']]"
   ]
  },
  {
   "cell_type": "markdown",
   "metadata": {
    "papermill": {
     "duration": 0.028519,
     "end_time": "2020-10-01T01:24:31.286266",
     "exception": false,
     "start_time": "2020-10-01T01:24:31.257747",
     "status": "completed"
    },
    "tags": []
   },
   "source": [
    "A list can contain a mix of different types of variables:"
   ]
  },
  {
   "cell_type": "code",
   "execution_count": 6,
   "metadata": {
    "ExecuteTime": {
     "end_time": "2021-04-09T20:25:28.311991Z",
     "start_time": "2021-04-09T20:25:28.309438Z"
    },
    "execution": {
     "iopub.execute_input": "2020-10-01T01:24:31.345862Z",
     "iopub.status.busy": "2020-10-01T01:24:31.345460Z",
     "iopub.status.idle": "2020-10-01T01:24:31.347821Z",
     "shell.execute_reply": "2020-10-01T01:24:31.347494Z"
    },
    "papermill": {
     "duration": 0.033273,
     "end_time": "2020-10-01T01:24:31.347886",
     "exception": false,
     "start_time": "2020-10-01T01:24:31.314613",
     "status": "completed"
    },
    "tags": []
   },
   "outputs": [],
   "source": [
    "things = [32, 'raindrops on roses', help]"
   ]
  },
  {
   "cell_type": "markdown",
   "metadata": {
    "papermill": {
     "duration": 0.028849,
     "end_time": "2020-10-01T01:24:31.405749",
     "exception": false,
     "start_time": "2020-10-01T01:24:31.376900",
     "status": "completed"
    },
    "tags": []
   },
   "source": [
    "## Indexing\n",
    "\n",
    "You can access individual list elements with square brackets.\n",
    "\n",
    "Which planet is closest to the sun? Python uses *zero-based* indexing, so the first element has index 0."
   ]
  },
  {
   "cell_type": "code",
   "execution_count": 7,
   "metadata": {
    "ExecuteTime": {
     "end_time": "2021-04-09T20:25:31.247937Z",
     "start_time": "2021-04-09T20:25:31.237112Z"
    },
    "execution": {
     "iopub.execute_input": "2020-10-01T01:24:31.467832Z",
     "iopub.status.busy": "2020-10-01T01:24:31.467298Z",
     "iopub.status.idle": "2020-10-01T01:24:31.471484Z",
     "shell.execute_reply": "2020-10-01T01:24:31.471853Z"
    },
    "papermill": {
     "duration": 0.037553,
     "end_time": "2020-10-01T01:24:31.471947",
     "exception": false,
     "start_time": "2020-10-01T01:24:31.434394",
     "status": "completed"
    },
    "tags": []
   },
   "outputs": [
    {
     "data": {
      "text/plain": [
       "'Mercury'"
      ]
     },
     "execution_count": 7,
     "metadata": {},
     "output_type": "execute_result"
    }
   ],
   "source": [
    "planets[0]"
   ]
  },
  {
   "cell_type": "markdown",
   "metadata": {
    "papermill": {
     "duration": 0.029556,
     "end_time": "2020-10-01T01:24:31.531677",
     "exception": false,
     "start_time": "2020-10-01T01:24:31.502121",
     "status": "completed"
    },
    "tags": []
   },
   "source": [
    "What's the next closest planet?"
   ]
  },
  {
   "cell_type": "code",
   "execution_count": 8,
   "metadata": {
    "ExecuteTime": {
     "end_time": "2021-04-09T20:25:32.974256Z",
     "start_time": "2021-04-09T20:25:32.969377Z"
    },
    "execution": {
     "iopub.execute_input": "2020-10-01T01:24:31.607386Z",
     "iopub.status.busy": "2020-10-01T01:24:31.606793Z",
     "iopub.status.idle": "2020-10-01T01:24:31.609565Z",
     "shell.execute_reply": "2020-10-01T01:24:31.609898Z"
    },
    "papermill": {
     "duration": 0.049513,
     "end_time": "2020-10-01T01:24:31.609987",
     "exception": false,
     "start_time": "2020-10-01T01:24:31.560474",
     "status": "completed"
    },
    "tags": []
   },
   "outputs": [
    {
     "data": {
      "text/plain": [
       "'Venus'"
      ]
     },
     "execution_count": 8,
     "metadata": {},
     "output_type": "execute_result"
    }
   ],
   "source": [
    "planets[1]"
   ]
  },
  {
   "cell_type": "markdown",
   "metadata": {
    "papermill": {
     "duration": 0.030585,
     "end_time": "2020-10-01T01:24:31.670029",
     "exception": false,
     "start_time": "2020-10-01T01:24:31.639444",
     "status": "completed"
    },
    "tags": []
   },
   "source": [
    "Which planet is *furthest* from the sun?\n",
    "\n",
    "Elements at the end of the list can be accessed with negative numbers, starting from -1:"
   ]
  },
  {
   "cell_type": "code",
   "execution_count": 9,
   "metadata": {
    "ExecuteTime": {
     "end_time": "2021-04-09T20:25:36.962576Z",
     "start_time": "2021-04-09T20:25:36.958172Z"
    },
    "execution": {
     "iopub.execute_input": "2020-10-01T01:24:31.733195Z",
     "iopub.status.busy": "2020-10-01T01:24:31.732768Z",
     "iopub.status.idle": "2020-10-01T01:24:31.736463Z",
     "shell.execute_reply": "2020-10-01T01:24:31.735997Z"
    },
    "papermill": {
     "duration": 0.03705,
     "end_time": "2020-10-01T01:24:31.736532",
     "exception": false,
     "start_time": "2020-10-01T01:24:31.699482",
     "status": "completed"
    },
    "tags": []
   },
   "outputs": [
    {
     "data": {
      "text/plain": [
       "'Neptune'"
      ]
     },
     "execution_count": 9,
     "metadata": {},
     "output_type": "execute_result"
    }
   ],
   "source": [
    "planets[-1]"
   ]
  },
  {
   "cell_type": "code",
   "execution_count": 10,
   "metadata": {
    "ExecuteTime": {
     "end_time": "2021-04-09T20:25:39.106229Z",
     "start_time": "2021-04-09T20:25:39.102216Z"
    },
    "execution": {
     "iopub.execute_input": "2020-10-01T01:24:31.798808Z",
     "iopub.status.busy": "2020-10-01T01:24:31.798247Z",
     "iopub.status.idle": "2020-10-01T01:24:31.802175Z",
     "shell.execute_reply": "2020-10-01T01:24:31.801771Z"
    },
    "papermill": {
     "duration": 0.036384,
     "end_time": "2020-10-01T01:24:31.802241",
     "exception": false,
     "start_time": "2020-10-01T01:24:31.765857",
     "status": "completed"
    },
    "tags": []
   },
   "outputs": [
    {
     "data": {
      "text/plain": [
       "'Uranus'"
      ]
     },
     "execution_count": 10,
     "metadata": {},
     "output_type": "execute_result"
    }
   ],
   "source": [
    "planets[-2]"
   ]
  },
  {
   "cell_type": "markdown",
   "metadata": {
    "papermill": {
     "duration": 0.029438,
     "end_time": "2020-10-01T01:24:31.861235",
     "exception": false,
     "start_time": "2020-10-01T01:24:31.831797",
     "status": "completed"
    },
    "tags": []
   },
   "source": [
    "## Slicing\n",
    "\n",
    "What are the first three planets? We can answer this question using *slicing*:"
   ]
  },
  {
   "cell_type": "code",
   "execution_count": 11,
   "metadata": {
    "ExecuteTime": {
     "end_time": "2021-04-09T20:25:42.658414Z",
     "start_time": "2021-04-09T20:25:42.654455Z"
    },
    "execution": {
     "iopub.execute_input": "2020-10-01T01:24:31.924129Z",
     "iopub.status.busy": "2020-10-01T01:24:31.923725Z",
     "iopub.status.idle": "2020-10-01T01:24:31.928003Z",
     "shell.execute_reply": "2020-10-01T01:24:31.927638Z"
    },
    "papermill": {
     "duration": 0.037059,
     "end_time": "2020-10-01T01:24:31.928085",
     "exception": false,
     "start_time": "2020-10-01T01:24:31.891026",
     "status": "completed"
    },
    "tags": []
   },
   "outputs": [
    {
     "data": {
      "text/plain": [
       "['Mercury', 'Venus', 'Earth']"
      ]
     },
     "execution_count": 11,
     "metadata": {},
     "output_type": "execute_result"
    }
   ],
   "source": [
    "planets[0:3]"
   ]
  },
  {
   "cell_type": "markdown",
   "metadata": {
    "papermill": {
     "duration": 0.029819,
     "end_time": "2020-10-01T01:24:31.988322",
     "exception": false,
     "start_time": "2020-10-01T01:24:31.958503",
     "status": "completed"
    },
    "tags": []
   },
   "source": [
    "`planets[0:3]` is our way of asking for the elements of `planets` starting from index 0 and continuing up to *but not including* index 3.\n",
    "\n",
    "The starting and ending indices are both optional. If I leave out the start index, it's assumed to be 0. So I could rewrite the expression above as:"
   ]
  },
  {
   "cell_type": "code",
   "execution_count": 12,
   "metadata": {
    "ExecuteTime": {
     "end_time": "2021-04-09T20:25:46.931659Z",
     "start_time": "2021-04-09T20:25:46.927346Z"
    },
    "execution": {
     "iopub.execute_input": "2020-10-01T01:24:32.052562Z",
     "iopub.status.busy": "2020-10-01T01:24:32.052040Z",
     "iopub.status.idle": "2020-10-01T01:24:32.055731Z",
     "shell.execute_reply": "2020-10-01T01:24:32.055165Z"
    },
    "papermill": {
     "duration": 0.037303,
     "end_time": "2020-10-01T01:24:32.055821",
     "exception": false,
     "start_time": "2020-10-01T01:24:32.018518",
     "status": "completed"
    },
    "tags": []
   },
   "outputs": [
    {
     "data": {
      "text/plain": [
       "['Mercury', 'Venus', 'Earth']"
      ]
     },
     "execution_count": 12,
     "metadata": {},
     "output_type": "execute_result"
    }
   ],
   "source": [
    "planets[:3]"
   ]
  },
  {
   "cell_type": "markdown",
   "metadata": {
    "papermill": {
     "duration": 0.045652,
     "end_time": "2020-10-01T01:24:32.147796",
     "exception": false,
     "start_time": "2020-10-01T01:24:32.102144",
     "status": "completed"
    },
    "tags": []
   },
   "source": [
    "If I leave out the end index, it's assumed to be the length of the list."
   ]
  },
  {
   "cell_type": "code",
   "execution_count": 13,
   "metadata": {
    "ExecuteTime": {
     "end_time": "2021-04-09T20:25:51.034414Z",
     "start_time": "2021-04-09T20:25:51.029548Z"
    },
    "execution": {
     "iopub.execute_input": "2020-10-01T01:24:32.243396Z",
     "iopub.status.busy": "2020-10-01T01:24:32.242666Z",
     "iopub.status.idle": "2020-10-01T01:24:32.245895Z",
     "shell.execute_reply": "2020-10-01T01:24:32.246229Z"
    },
    "papermill": {
     "duration": 0.052776,
     "end_time": "2020-10-01T01:24:32.246357",
     "exception": false,
     "start_time": "2020-10-01T01:24:32.193581",
     "status": "completed"
    },
    "tags": []
   },
   "outputs": [
    {
     "data": {
      "text/plain": [
       "['Mars', 'Jupiter', 'Saturn', 'Uranus', 'Neptune']"
      ]
     },
     "execution_count": 13,
     "metadata": {},
     "output_type": "execute_result"
    }
   ],
   "source": [
    "planets[3:]"
   ]
  },
  {
   "cell_type": "markdown",
   "metadata": {
    "papermill": {
     "duration": 0.030835,
     "end_time": "2020-10-01T01:24:32.308435",
     "exception": false,
     "start_time": "2020-10-01T01:24:32.277600",
     "status": "completed"
    },
    "tags": []
   },
   "source": [
    "i.e. the expression above means \"give me all the planets from index 3 onward\".\n",
    "\n",
    "We can also use negative indices when slicing:"
   ]
  },
  {
   "cell_type": "code",
   "execution_count": 14,
   "metadata": {
    "ExecuteTime": {
     "end_time": "2021-04-09T20:25:54.212110Z",
     "start_time": "2021-04-09T20:25:54.208052Z"
    },
    "execution": {
     "iopub.execute_input": "2020-10-01T01:24:32.373749Z",
     "iopub.status.busy": "2020-10-01T01:24:32.373021Z",
     "iopub.status.idle": "2020-10-01T01:24:32.376474Z",
     "shell.execute_reply": "2020-10-01T01:24:32.376095Z"
    },
    "papermill": {
     "duration": 0.036928,
     "end_time": "2020-10-01T01:24:32.376552",
     "exception": false,
     "start_time": "2020-10-01T01:24:32.339624",
     "status": "completed"
    },
    "tags": []
   },
   "outputs": [
    {
     "data": {
      "text/plain": [
       "['Venus', 'Earth', 'Mars', 'Jupiter', 'Saturn', 'Uranus']"
      ]
     },
     "execution_count": 14,
     "metadata": {},
     "output_type": "execute_result"
    }
   ],
   "source": [
    "# All the planets except the first and last\n",
    "planets[1:-1]"
   ]
  },
  {
   "cell_type": "code",
   "execution_count": 15,
   "metadata": {
    "ExecuteTime": {
     "end_time": "2021-04-09T20:25:54.953672Z",
     "start_time": "2021-04-09T20:25:54.949905Z"
    },
    "execution": {
     "iopub.execute_input": "2020-10-01T01:24:32.442890Z",
     "iopub.status.busy": "2020-10-01T01:24:32.442385Z",
     "iopub.status.idle": "2020-10-01T01:24:32.445661Z",
     "shell.execute_reply": "2020-10-01T01:24:32.445245Z"
    },
    "papermill": {
     "duration": 0.037007,
     "end_time": "2020-10-01T01:24:32.445735",
     "exception": false,
     "start_time": "2020-10-01T01:24:32.408728",
     "status": "completed"
    },
    "tags": []
   },
   "outputs": [
    {
     "data": {
      "text/plain": [
       "['Saturn', 'Uranus', 'Neptune']"
      ]
     },
     "execution_count": 15,
     "metadata": {},
     "output_type": "execute_result"
    }
   ],
   "source": [
    "# The last 3 planets\n",
    "planets[-3:]"
   ]
  },
  {
   "cell_type": "markdown",
   "metadata": {
    "papermill": {
     "duration": 0.03081,
     "end_time": "2020-10-01T01:24:32.507601",
     "exception": false,
     "start_time": "2020-10-01T01:24:32.476791",
     "status": "completed"
    },
    "tags": []
   },
   "source": [
    "## Changing lists\n",
    "\n",
    "Lists are \"mutable\", meaning they can be modified \"in place\".\n",
    "\n",
    "One way to modify a list is to assign to an index or slice expression.\n",
    "\n",
    "For example, let's say we want to rename Mars:"
   ]
  },
  {
   "cell_type": "code",
   "execution_count": 21,
   "metadata": {
    "ExecuteTime": {
     "end_time": "2021-04-09T20:27:59.326097Z",
     "start_time": "2021-04-09T20:27:59.321719Z"
    },
    "execution": {
     "iopub.execute_input": "2020-10-01T01:24:32.576904Z",
     "iopub.status.busy": "2020-10-01T01:24:32.576227Z",
     "iopub.status.idle": "2020-10-01T01:24:32.579724Z",
     "shell.execute_reply": "2020-10-01T01:24:32.579259Z"
    },
    "papermill": {
     "duration": 0.039365,
     "end_time": "2020-10-01T01:24:32.579799",
     "exception": false,
     "start_time": "2020-10-01T01:24:32.540434",
     "status": "completed"
    },
    "tags": []
   },
   "outputs": [
    {
     "data": {
      "text/plain": [
       "['Mercury',\n",
       " 'Venus',\n",
       " 'Earth',\n",
       " 'Malacandra',\n",
       " 'Jupiter',\n",
       " 'Saturn',\n",
       " 'Uranus',\n",
       " 'Neptune']"
      ]
     },
     "execution_count": 21,
     "metadata": {},
     "output_type": "execute_result"
    }
   ],
   "source": [
    "planets[3] = 'Malacandra'\n",
    "planets"
   ]
  },
  {
   "cell_type": "markdown",
   "metadata": {
    "papermill": {
     "duration": 0.031823,
     "end_time": "2020-10-01T01:24:32.644699",
     "exception": false,
     "start_time": "2020-10-01T01:24:32.612876",
     "status": "completed"
    },
    "tags": []
   },
   "source": [
    "Hm, that's quite a mouthful. Let's compensate by shortening the names of the first 3 planets."
   ]
  },
  {
   "cell_type": "code",
   "execution_count": 22,
   "metadata": {
    "ExecuteTime": {
     "end_time": "2021-04-09T20:28:01.193588Z",
     "start_time": "2021-04-09T20:28:01.190421Z"
    },
    "execution": {
     "iopub.execute_input": "2020-10-01T01:24:32.712054Z",
     "iopub.status.busy": "2020-10-01T01:24:32.711454Z",
     "iopub.status.idle": "2020-10-01T01:24:32.714986Z",
     "shell.execute_reply": "2020-10-01T01:24:32.714559Z"
    },
    "papermill": {
     "duration": 0.038848,
     "end_time": "2020-10-01T01:24:32.715056",
     "exception": false,
     "start_time": "2020-10-01T01:24:32.676208",
     "status": "completed"
    },
    "tags": []
   },
   "outputs": [
    {
     "name": "stdout",
     "output_type": "stream",
     "text": [
      "['Mur', 'Vee', 'Ur', 'Malacandra', 'Jupiter', 'Saturn', 'Uranus', 'Neptune']\n"
     ]
    }
   ],
   "source": [
    "planets[:3] = ['Mur', 'Vee', 'Ur']\n",
    "print(planets)"
   ]
  },
  {
   "cell_type": "code",
   "execution_count": 23,
   "metadata": {
    "ExecuteTime": {
     "end_time": "2021-04-09T20:28:04.738768Z",
     "start_time": "2021-04-09T20:28:04.735340Z"
    },
    "execution": {
     "iopub.execute_input": "2020-10-01T01:24:32.712054Z",
     "iopub.status.busy": "2020-10-01T01:24:32.711454Z",
     "iopub.status.idle": "2020-10-01T01:24:32.714986Z",
     "shell.execute_reply": "2020-10-01T01:24:32.714559Z"
    },
    "papermill": {
     "duration": 0.038848,
     "end_time": "2020-10-01T01:24:32.715056",
     "exception": false,
     "start_time": "2020-10-01T01:24:32.676208",
     "status": "completed"
    },
    "tags": []
   },
   "outputs": [],
   "source": [
    "# That was silly. Let's give them back their old names\n",
    "planets[:4] = ['Mercury', 'Venus', 'Earth', 'Mars',]"
   ]
  },
  {
   "cell_type": "code",
   "execution_count": 24,
   "metadata": {
    "ExecuteTime": {
     "end_time": "2021-04-09T20:28:14.189792Z",
     "start_time": "2021-04-09T20:28:14.185299Z"
    }
   },
   "outputs": [
    {
     "data": {
      "text/plain": [
       "['Mercury', 'Venus', 'Earth', 'Mars', 'Jupiter', 'Saturn', 'Uranus', 'Neptune']"
      ]
     },
     "execution_count": 24,
     "metadata": {},
     "output_type": "execute_result"
    }
   ],
   "source": [
    "planets"
   ]
  },
  {
   "cell_type": "markdown",
   "metadata": {
    "papermill": {
     "duration": 0.031955,
     "end_time": "2020-10-01T01:24:32.779374",
     "exception": false,
     "start_time": "2020-10-01T01:24:32.747419",
     "status": "completed"
    },
    "tags": []
   },
   "source": [
    "## List functions\n",
    "\n",
    "Python has several useful functions for working with lists.\n",
    "\n",
    "`len` gives the length of a list:"
   ]
  },
  {
   "cell_type": "code",
   "execution_count": 25,
   "metadata": {
    "ExecuteTime": {
     "end_time": "2021-04-09T20:28:26.894010Z",
     "start_time": "2021-04-09T20:28:26.890343Z"
    },
    "execution": {
     "iopub.execute_input": "2020-10-01T01:24:32.848156Z",
     "iopub.status.busy": "2020-10-01T01:24:32.847584Z",
     "iopub.status.idle": "2020-10-01T01:24:32.852046Z",
     "shell.execute_reply": "2020-10-01T01:24:32.851594Z"
    },
    "papermill": {
     "duration": 0.040508,
     "end_time": "2020-10-01T01:24:32.852118",
     "exception": false,
     "start_time": "2020-10-01T01:24:32.811610",
     "status": "completed"
    },
    "tags": []
   },
   "outputs": [
    {
     "data": {
      "text/plain": [
       "8"
      ]
     },
     "execution_count": 25,
     "metadata": {},
     "output_type": "execute_result"
    }
   ],
   "source": [
    "# How many planets are there?\n",
    "len(planets)"
   ]
  },
  {
   "cell_type": "markdown",
   "metadata": {
    "papermill": {
     "duration": 0.032066,
     "end_time": "2020-10-01T01:24:32.916928",
     "exception": false,
     "start_time": "2020-10-01T01:24:32.884862",
     "status": "completed"
    },
    "tags": []
   },
   "source": [
    "`sorted` returns a sorted version of a list:"
   ]
  },
  {
   "cell_type": "code",
   "execution_count": 26,
   "metadata": {
    "ExecuteTime": {
     "end_time": "2021-04-09T20:28:28.563406Z",
     "start_time": "2021-04-09T20:28:28.560163Z"
    },
    "execution": {
     "iopub.execute_input": "2020-10-01T01:24:32.985802Z",
     "iopub.status.busy": "2020-10-01T01:24:32.985217Z",
     "iopub.status.idle": "2020-10-01T01:24:32.988989Z",
     "shell.execute_reply": "2020-10-01T01:24:32.988583Z"
    },
    "papermill": {
     "duration": 0.039165,
     "end_time": "2020-10-01T01:24:32.989054",
     "exception": false,
     "start_time": "2020-10-01T01:24:32.949889",
     "status": "completed"
    },
    "tags": []
   },
   "outputs": [
    {
     "data": {
      "text/plain": [
       "['Earth', 'Jupiter', 'Mars', 'Mercury', 'Neptune', 'Saturn', 'Uranus', 'Venus']"
      ]
     },
     "execution_count": 26,
     "metadata": {},
     "output_type": "execute_result"
    }
   ],
   "source": [
    "# The planets sorted in alphabetical order\n",
    "sorted(planets)"
   ]
  },
  {
   "cell_type": "markdown",
   "metadata": {
    "papermill": {
     "duration": 0.032391,
     "end_time": "2020-10-01T01:24:33.053927",
     "exception": false,
     "start_time": "2020-10-01T01:24:33.021536",
     "status": "completed"
    },
    "tags": []
   },
   "source": [
    "`sum` does what you might expect:"
   ]
  },
  {
   "cell_type": "code",
   "execution_count": 27,
   "metadata": {
    "ExecuteTime": {
     "end_time": "2021-04-09T20:28:40.855412Z",
     "start_time": "2021-04-09T20:28:40.851653Z"
    },
    "execution": {
     "iopub.execute_input": "2020-10-01T01:24:33.123104Z",
     "iopub.status.busy": "2020-10-01T01:24:33.122689Z",
     "iopub.status.idle": "2020-10-01T01:24:33.126098Z",
     "shell.execute_reply": "2020-10-01T01:24:33.126474Z"
    },
    "papermill": {
     "duration": 0.039931,
     "end_time": "2020-10-01T01:24:33.126584",
     "exception": false,
     "start_time": "2020-10-01T01:24:33.086653",
     "status": "completed"
    },
    "tags": []
   },
   "outputs": [
    {
     "data": {
      "text/plain": [
       "17"
      ]
     },
     "execution_count": 27,
     "metadata": {},
     "output_type": "execute_result"
    }
   ],
   "source": [
    "primes = [2, 3, 5, 7]\n",
    "sum(primes)"
   ]
  },
  {
   "cell_type": "markdown",
   "metadata": {
    "papermill": {
     "duration": 0.033112,
     "end_time": "2020-10-01T01:24:33.194547",
     "exception": false,
     "start_time": "2020-10-01T01:24:33.161435",
     "status": "completed"
    },
    "tags": []
   },
   "source": [
    "We've previously used the `min` and `max` to get the minimum or maximum of several arguments. But we can also pass in a single list argument."
   ]
  },
  {
   "cell_type": "code",
   "execution_count": 28,
   "metadata": {
    "ExecuteTime": {
     "end_time": "2021-04-09T20:28:45.267643Z",
     "start_time": "2021-04-09T20:28:45.262624Z"
    },
    "execution": {
     "iopub.execute_input": "2020-10-01T01:24:33.264237Z",
     "iopub.status.busy": "2020-10-01T01:24:33.263720Z",
     "iopub.status.idle": "2020-10-01T01:24:33.268104Z",
     "shell.execute_reply": "2020-10-01T01:24:33.268450Z"
    },
    "papermill": {
     "duration": 0.040596,
     "end_time": "2020-10-01T01:24:33.268533",
     "exception": false,
     "start_time": "2020-10-01T01:24:33.227937",
     "status": "completed"
    },
    "tags": []
   },
   "outputs": [
    {
     "data": {
      "text/plain": [
       "7"
      ]
     },
     "execution_count": 28,
     "metadata": {},
     "output_type": "execute_result"
    }
   ],
   "source": [
    "max(primes)"
   ]
  },
  {
   "cell_type": "markdown",
   "metadata": {
    "papermill": {
     "duration": 0.064757,
     "end_time": "2020-10-01T01:24:33.366386",
     "exception": false,
     "start_time": "2020-10-01T01:24:33.301629",
     "status": "completed"
    },
    "tags": []
   },
   "source": [
    "## Interlude: objects\n",
    "\n",
    "I've used the term 'object' a lot so far - you may have even read that *everything* in Python is an object. What does that mean?\n",
    "\n",
    "In short, objects carry some things around with them. You access that stuff using Python's dot syntax.\n",
    "\n",
    "For example, numbers in Python carry around an associated variable called `imag` representing their imaginary part. (You'll probably never need to use this with data science.)"
   ]
  },
  {
   "cell_type": "code",
   "execution_count": 29,
   "metadata": {
    "ExecuteTime": {
     "end_time": "2021-04-09T20:30:44.233910Z",
     "start_time": "2021-04-09T20:30:44.229139Z"
    },
    "execution": {
     "iopub.execute_input": "2020-10-01T01:24:33.436937Z",
     "iopub.status.busy": "2020-10-01T01:24:33.436307Z",
     "iopub.status.idle": "2020-10-01T01:24:33.440822Z",
     "shell.execute_reply": "2020-10-01T01:24:33.440426Z"
    },
    "papermill": {
     "duration": 0.0409,
     "end_time": "2020-10-01T01:24:33.440907",
     "exception": false,
     "start_time": "2020-10-01T01:24:33.400007",
     "status": "completed"
    },
    "tags": []
   },
   "outputs": [
    {
     "name": "stdout",
     "output_type": "stream",
     "text": [
      "0\n",
      "3.0\n"
     ]
    }
   ],
   "source": [
    "x = 12\n",
    "# x is a real number, so its imaginary part is 0.\n",
    "print(x.imag)\n",
    "# Here's how to make a complex number, in case you've ever been curious:\n",
    "c = 12 + 3j\n",
    "print(c.imag)"
   ]
  },
  {
   "cell_type": "markdown",
   "metadata": {
    "papermill": {
     "duration": 0.034057,
     "end_time": "2020-10-01T01:24:33.509138",
     "exception": false,
     "start_time": "2020-10-01T01:24:33.475081",
     "status": "completed"
    },
    "tags": []
   },
   "source": [
    "The things an object carries around can also include functions. A function attached to an object is called a **method**. (Non-function things attached to an object, such as `imag`, are called *attributes*).\n",
    "\n",
    "For example, numbers have a method called `bit_length`. Again, we access it using dot syntax:"
   ]
  },
  {
   "cell_type": "code",
   "execution_count": 30,
   "metadata": {
    "ExecuteTime": {
     "end_time": "2021-04-09T20:32:40.485517Z",
     "start_time": "2021-04-09T20:32:40.481369Z"
    },
    "execution": {
     "iopub.execute_input": "2020-10-01T01:24:33.578982Z",
     "iopub.status.busy": "2020-10-01T01:24:33.578582Z",
     "iopub.status.idle": "2020-10-01T01:24:33.582137Z",
     "shell.execute_reply": "2020-10-01T01:24:33.581736Z"
    },
    "papermill": {
     "duration": 0.039901,
     "end_time": "2020-10-01T01:24:33.582203",
     "exception": false,
     "start_time": "2020-10-01T01:24:33.542302",
     "status": "completed"
    },
    "tags": []
   },
   "outputs": [
    {
     "data": {
      "text/plain": [
       "<function int.bit_length()>"
      ]
     },
     "execution_count": 30,
     "metadata": {},
     "output_type": "execute_result"
    }
   ],
   "source": [
    "x.bit_length"
   ]
  },
  {
   "cell_type": "markdown",
   "metadata": {
    "papermill": {
     "duration": 0.033319,
     "end_time": "2020-10-01T01:24:33.648868",
     "exception": false,
     "start_time": "2020-10-01T01:24:33.615549",
     "status": "completed"
    },
    "tags": []
   },
   "source": [
    "To actually call it, we add parentheses:"
   ]
  },
  {
   "cell_type": "code",
   "execution_count": 31,
   "metadata": {
    "ExecuteTime": {
     "end_time": "2021-04-09T20:32:48.467390Z",
     "start_time": "2021-04-09T20:32:48.462743Z"
    },
    "execution": {
     "iopub.execute_input": "2020-10-01T01:24:33.724785Z",
     "iopub.status.busy": "2020-10-01T01:24:33.724263Z",
     "iopub.status.idle": "2020-10-01T01:24:33.728635Z",
     "shell.execute_reply": "2020-10-01T01:24:33.728106Z"
    },
    "papermill": {
     "duration": 0.041891,
     "end_time": "2020-10-01T01:24:33.728736",
     "exception": false,
     "start_time": "2020-10-01T01:24:33.686845",
     "status": "completed"
    },
    "tags": []
   },
   "outputs": [
    {
     "data": {
      "text/plain": [
       "4"
      ]
     },
     "execution_count": 31,
     "metadata": {},
     "output_type": "execute_result"
    }
   ],
   "source": [
    "x.bit_length()"
   ]
  },
  {
   "cell_type": "code",
   "execution_count": 35,
   "metadata": {
    "ExecuteTime": {
     "end_time": "2021-04-09T20:33:58.570993Z",
     "start_time": "2021-04-09T20:33:58.565274Z"
    }
   },
   "outputs": [
    {
     "data": {
      "text/plain": [
       "8"
      ]
     },
     "execution_count": 35,
     "metadata": {},
     "output_type": "execute_result"
    }
   ],
   "source": [
    "x = 128\n",
    "x.bit_length()"
   ]
  },
  {
   "cell_type": "markdown",
   "metadata": {
    "papermill": {
     "duration": 0.051541,
     "end_time": "2020-10-01T01:24:33.832864",
     "exception": false,
     "start_time": "2020-10-01T01:24:33.781323",
     "status": "completed"
    },
    "tags": []
   },
   "source": [
    "> **Aside:** You've actually been calling methods already if you've been doing the exercises. In the exercise notebooks `q1`, `q2`, `q3`, etc. are all objects which have methods called `check`, `hint`, and `solution`.\n",
    "\n",
    "In the same way that we can pass functions to the `help` function (e.g. `help(max)`), we can also pass in methods:"
   ]
  },
  {
   "cell_type": "code",
   "execution_count": 36,
   "metadata": {
    "ExecuteTime": {
     "end_time": "2021-04-09T20:34:47.248401Z",
     "start_time": "2021-04-09T20:34:47.239844Z"
    },
    "execution": {
     "iopub.execute_input": "2020-10-01T01:24:33.943244Z",
     "iopub.status.busy": "2020-10-01T01:24:33.942774Z",
     "iopub.status.idle": "2020-10-01T01:24:33.945778Z",
     "shell.execute_reply": "2020-10-01T01:24:33.945420Z"
    },
    "papermill": {
     "duration": 0.058559,
     "end_time": "2020-10-01T01:24:33.945871",
     "exception": false,
     "start_time": "2020-10-01T01:24:33.887312",
     "status": "completed"
    },
    "tags": []
   },
   "outputs": [
    {
     "name": "stdout",
     "output_type": "stream",
     "text": [
      "Help on built-in function bit_length:\n",
      "\n",
      "bit_length() method of builtins.int instance\n",
      "    Number of bits necessary to represent self in binary.\n",
      "    \n",
      "    >>> bin(37)\n",
      "    '0b100101'\n",
      "    >>> (37).bit_length()\n",
      "    6\n",
      "\n"
     ]
    }
   ],
   "source": [
    "help(x.bit_length)"
   ]
  },
  {
   "cell_type": "markdown",
   "metadata": {
    "papermill": {
     "duration": 0.039773,
     "end_time": "2020-10-01T01:24:34.020768",
     "exception": false,
     "start_time": "2020-10-01T01:24:33.980995",
     "status": "completed"
    },
    "tags": []
   },
   "source": [
    "<!-- TODO:\n",
    "dir?\n",
    "A useful builtin method for interacting with objects is `dir`. `dir` asks: what are the names of all the things (methods, and attributes) that this object is carrying around?\n",
    "help(x)?\n",
    "-->\n",
    "\n",
    "The examples above were utterly obscure. None of the types of objects we've looked at so far (numbers, functions, booleans) have attributes or methods you're likely ever to use.\n",
    "\n",
    "But it turns out that lists have several methods which you'll use all the time."
   ]
  },
  {
   "cell_type": "markdown",
   "metadata": {
    "papermill": {
     "duration": 0.033699,
     "end_time": "2020-10-01T01:24:34.090641",
     "exception": false,
     "start_time": "2020-10-01T01:24:34.056942",
     "status": "completed"
    },
    "tags": []
   },
   "source": [
    "## List methods"
   ]
  },
  {
   "cell_type": "markdown",
   "metadata": {
    "papermill": {
     "duration": 0.035252,
     "end_time": "2020-10-01T01:24:34.160034",
     "exception": false,
     "start_time": "2020-10-01T01:24:34.124782",
     "status": "completed"
    },
    "tags": []
   },
   "source": [
    "`list.append` modifies a list by adding an item to the end:"
   ]
  },
  {
   "cell_type": "code",
   "execution_count": 37,
   "metadata": {
    "ExecuteTime": {
     "end_time": "2021-04-09T20:35:32.760686Z",
     "start_time": "2021-04-09T20:35:32.758289Z"
    },
    "execution": {
     "iopub.execute_input": "2020-10-01T01:24:34.231646Z",
     "iopub.status.busy": "2020-10-01T01:24:34.231192Z",
     "iopub.status.idle": "2020-10-01T01:24:34.233819Z",
     "shell.execute_reply": "2020-10-01T01:24:34.233459Z"
    },
    "papermill": {
     "duration": 0.0398,
     "end_time": "2020-10-01T01:24:34.233893",
     "exception": false,
     "start_time": "2020-10-01T01:24:34.194093",
     "status": "completed"
    },
    "tags": []
   },
   "outputs": [],
   "source": [
    "# Pluto is a planet darn it!\n",
    "planets.append('Pluto')"
   ]
  },
  {
   "cell_type": "markdown",
   "metadata": {
    "papermill": {
     "duration": 0.035165,
     "end_time": "2020-10-01T01:24:34.304113",
     "exception": false,
     "start_time": "2020-10-01T01:24:34.268948",
     "status": "completed"
    },
    "tags": []
   },
   "source": [
    "Why does the cell above have no output? Let's check the documentation by calling `help(planets.append)`.\n",
    "\n",
    "> **Aside:** `append` is a method carried around by *all* objects of type list, not just `planets`, so we also could have called `help(list.append)`. However, if we try to call `help(append)`, Python will complain that no variable exists called \"append\". The \"append\" name only exists within lists - it doesn't exist as a standalone name like builtin functions such as `max` or `len`."
   ]
  },
  {
   "cell_type": "code",
   "execution_count": 38,
   "metadata": {
    "ExecuteTime": {
     "end_time": "2021-04-09T20:36:22.434997Z",
     "start_time": "2021-04-09T20:36:22.431322Z"
    },
    "execution": {
     "iopub.execute_input": "2020-10-01T01:24:34.379825Z",
     "iopub.status.busy": "2020-10-01T01:24:34.379200Z",
     "iopub.status.idle": "2020-10-01T01:24:34.381583Z",
     "shell.execute_reply": "2020-10-01T01:24:34.381936Z"
    },
    "papermill": {
     "duration": 0.042631,
     "end_time": "2020-10-01T01:24:34.382025",
     "exception": false,
     "start_time": "2020-10-01T01:24:34.339394",
     "status": "completed"
    },
    "tags": []
   },
   "outputs": [
    {
     "name": "stdout",
     "output_type": "stream",
     "text": [
      "Help on built-in function append:\n",
      "\n",
      "append(object, /) method of builtins.list instance\n",
      "    Append object to the end of the list.\n",
      "\n"
     ]
    }
   ],
   "source": [
    "help(planets.append)"
   ]
  },
  {
   "cell_type": "markdown",
   "metadata": {
    "papermill": {
     "duration": 0.03421,
     "end_time": "2020-10-01T01:24:34.451654",
     "exception": false,
     "start_time": "2020-10-01T01:24:34.417444",
     "status": "completed"
    },
    "tags": []
   },
   "source": [
    "The `-> None` part is telling us that `list.append` doesn't return anything. But if we check the value of `planets`, we can see that the method call modified the value of `planets`:"
   ]
  },
  {
   "cell_type": "code",
   "execution_count": 39,
   "metadata": {
    "ExecuteTime": {
     "end_time": "2021-04-09T20:36:53.919544Z",
     "start_time": "2021-04-09T20:36:53.915710Z"
    },
    "execution": {
     "iopub.execute_input": "2020-10-01T01:24:34.524482Z",
     "iopub.status.busy": "2020-10-01T01:24:34.524004Z",
     "iopub.status.idle": "2020-10-01T01:24:34.527602Z",
     "shell.execute_reply": "2020-10-01T01:24:34.527154Z"
    },
    "papermill": {
     "duration": 0.04187,
     "end_time": "2020-10-01T01:24:34.527670",
     "exception": false,
     "start_time": "2020-10-01T01:24:34.485800",
     "status": "completed"
    },
    "tags": []
   },
   "outputs": [
    {
     "data": {
      "text/plain": [
       "['Mercury',\n",
       " 'Venus',\n",
       " 'Earth',\n",
       " 'Mars',\n",
       " 'Jupiter',\n",
       " 'Saturn',\n",
       " 'Uranus',\n",
       " 'Neptune',\n",
       " 'Pluto']"
      ]
     },
     "execution_count": 39,
     "metadata": {},
     "output_type": "execute_result"
    }
   ],
   "source": [
    "planets"
   ]
  },
  {
   "cell_type": "markdown",
   "metadata": {
    "papermill": {
     "duration": 0.034442,
     "end_time": "2020-10-01T01:24:34.596376",
     "exception": false,
     "start_time": "2020-10-01T01:24:34.561934",
     "status": "completed"
    },
    "tags": []
   },
   "source": [
    "`list.pop` removes and returns the last element of a list:"
   ]
  },
  {
   "cell_type": "code",
   "execution_count": 40,
   "metadata": {
    "ExecuteTime": {
     "end_time": "2021-04-09T20:36:59.283089Z",
     "start_time": "2021-04-09T20:36:59.278457Z"
    },
    "execution": {
     "iopub.execute_input": "2020-10-01T01:24:34.669739Z",
     "iopub.status.busy": "2020-10-01T01:24:34.669155Z",
     "iopub.status.idle": "2020-10-01T01:24:34.673594Z",
     "shell.execute_reply": "2020-10-01T01:24:34.672986Z"
    },
    "papermill": {
     "duration": 0.04301,
     "end_time": "2020-10-01T01:24:34.673694",
     "exception": false,
     "start_time": "2020-10-01T01:24:34.630684",
     "status": "completed"
    },
    "tags": []
   },
   "outputs": [
    {
     "data": {
      "text/plain": [
       "'Pluto'"
      ]
     },
     "execution_count": 40,
     "metadata": {},
     "output_type": "execute_result"
    }
   ],
   "source": [
    "planets.pop()"
   ]
  },
  {
   "cell_type": "code",
   "execution_count": 41,
   "metadata": {
    "ExecuteTime": {
     "end_time": "2021-04-09T20:37:01.928302Z",
     "start_time": "2021-04-09T20:37:01.924439Z"
    },
    "execution": {
     "iopub.execute_input": "2020-10-01T01:24:34.784653Z",
     "iopub.status.busy": "2020-10-01T01:24:34.784112Z",
     "iopub.status.idle": "2020-10-01T01:24:34.788082Z",
     "shell.execute_reply": "2020-10-01T01:24:34.787601Z"
    },
    "papermill": {
     "duration": 0.060145,
     "end_time": "2020-10-01T01:24:34.788161",
     "exception": false,
     "start_time": "2020-10-01T01:24:34.728016",
     "status": "completed"
    },
    "tags": []
   },
   "outputs": [
    {
     "data": {
      "text/plain": [
       "['Mercury', 'Venus', 'Earth', 'Mars', 'Jupiter', 'Saturn', 'Uranus', 'Neptune']"
      ]
     },
     "execution_count": 41,
     "metadata": {},
     "output_type": "execute_result"
    }
   ],
   "source": [
    "planets"
   ]
  },
  {
   "cell_type": "markdown",
   "metadata": {
    "papermill": {
     "duration": 0.035189,
     "end_time": "2020-10-01T01:24:34.858816",
     "exception": false,
     "start_time": "2020-10-01T01:24:34.823627",
     "status": "completed"
    },
    "tags": []
   },
   "source": [
    "### Searching lists\n",
    "\n",
    "Where does Earth fall in the order of planets? We can get its index using the `list.index` method."
   ]
  },
  {
   "cell_type": "code",
   "execution_count": 42,
   "metadata": {
    "ExecuteTime": {
     "end_time": "2021-04-09T20:37:16.423977Z",
     "start_time": "2021-04-09T20:37:16.419804Z"
    },
    "execution": {
     "iopub.execute_input": "2020-10-01T01:24:34.933049Z",
     "iopub.status.busy": "2020-10-01T01:24:34.932476Z",
     "iopub.status.idle": "2020-10-01T01:24:34.936499Z",
     "shell.execute_reply": "2020-10-01T01:24:34.936096Z"
    },
    "papermill": {
     "duration": 0.042939,
     "end_time": "2020-10-01T01:24:34.936576",
     "exception": false,
     "start_time": "2020-10-01T01:24:34.893637",
     "status": "completed"
    },
    "tags": []
   },
   "outputs": [
    {
     "data": {
      "text/plain": [
       "2"
      ]
     },
     "execution_count": 42,
     "metadata": {},
     "output_type": "execute_result"
    }
   ],
   "source": [
    "planets.index('Earth')"
   ]
  },
  {
   "cell_type": "markdown",
   "metadata": {
    "papermill": {
     "duration": 0.035188,
     "end_time": "2020-10-01T01:24:35.008188",
     "exception": false,
     "start_time": "2020-10-01T01:24:34.973000",
     "status": "completed"
    },
    "tags": []
   },
   "source": [
    "It comes third (i.e. at index 2 - 0 indexing!).\n",
    "\n",
    "At what index does Pluto occur?"
   ]
  },
  {
   "cell_type": "code",
   "execution_count": 43,
   "metadata": {
    "ExecuteTime": {
     "end_time": "2021-04-09T20:37:28.835090Z",
     "start_time": "2021-04-09T20:37:28.826939Z"
    },
    "execution": {
     "iopub.execute_input": "2020-10-01T01:24:35.083354Z",
     "iopub.status.busy": "2020-10-01T01:24:35.082725Z",
     "iopub.status.idle": "2020-10-01T01:24:35.103637Z",
     "shell.execute_reply": "2020-10-01T01:24:35.103968Z"
    },
    "papermill": {
     "duration": 0.060283,
     "end_time": "2020-10-01T01:24:35.104080",
     "exception": false,
     "start_time": "2020-10-01T01:24:35.043797",
     "status": "completed"
    },
    "tags": [
     "raises-exception"
    ]
   },
   "outputs": [
    {
     "ename": "ValueError",
     "evalue": "'Pluto' is not in list",
     "output_type": "error",
     "traceback": [
      "\u001b[0;31m-----------------------------------------------------------------------\u001b[0m",
      "\u001b[0;31mValueError\u001b[0m                            Traceback (most recent call last)",
      "\u001b[0;32m<ipython-input-43-3a8584cba91a>\u001b[0m in \u001b[0;36m<module>\u001b[0;34m\u001b[0m\n\u001b[0;32m----> 1\u001b[0;31m \u001b[0mplanets\u001b[0m\u001b[0;34m.\u001b[0m\u001b[0mindex\u001b[0m\u001b[0;34m(\u001b[0m\u001b[0;34m'Pluto'\u001b[0m\u001b[0;34m)\u001b[0m\u001b[0;34m\u001b[0m\u001b[0;34m\u001b[0m\u001b[0m\n\u001b[0m",
      "\u001b[0;31mValueError\u001b[0m: 'Pluto' is not in list"
     ]
    }
   ],
   "source": [
    "planets.index('Pluto')"
   ]
  },
  {
   "cell_type": "markdown",
   "metadata": {
    "papermill": {
     "duration": 0.035652,
     "end_time": "2020-10-01T01:24:35.175878",
     "exception": false,
     "start_time": "2020-10-01T01:24:35.140226",
     "status": "completed"
    },
    "tags": []
   },
   "source": [
    "Oh, that's right...\n",
    "\n",
    "To avoid unpleasant surprises like this, we can use the `in` operator to determine whether a list contains a particular value:"
   ]
  },
  {
   "cell_type": "code",
   "execution_count": 44,
   "metadata": {
    "ExecuteTime": {
     "end_time": "2021-04-09T20:37:41.651292Z",
     "start_time": "2021-04-09T20:37:41.647310Z"
    },
    "execution": {
     "iopub.execute_input": "2020-10-01T01:24:35.251676Z",
     "iopub.status.busy": "2020-10-01T01:24:35.250985Z",
     "iopub.status.idle": "2020-10-01T01:24:35.254485Z",
     "shell.execute_reply": "2020-10-01T01:24:35.254081Z"
    },
    "papermill": {
     "duration": 0.043084,
     "end_time": "2020-10-01T01:24:35.254556",
     "exception": false,
     "start_time": "2020-10-01T01:24:35.211472",
     "status": "completed"
    },
    "tags": []
   },
   "outputs": [
    {
     "data": {
      "text/plain": [
       "True"
      ]
     },
     "execution_count": 44,
     "metadata": {},
     "output_type": "execute_result"
    }
   ],
   "source": [
    "# Is Earth a planet?\n",
    "\"Earth\" in planets"
   ]
  },
  {
   "cell_type": "code",
   "execution_count": 45,
   "metadata": {
    "ExecuteTime": {
     "end_time": "2021-04-09T20:37:45.568854Z",
     "start_time": "2021-04-09T20:37:45.565150Z"
    },
    "execution": {
     "iopub.execute_input": "2020-10-01T01:24:35.330202Z",
     "iopub.status.busy": "2020-10-01T01:24:35.329684Z",
     "iopub.status.idle": "2020-10-01T01:24:35.334454Z",
     "shell.execute_reply": "2020-10-01T01:24:35.334001Z"
    },
    "papermill": {
     "duration": 0.044004,
     "end_time": "2020-10-01T01:24:35.334525",
     "exception": false,
     "start_time": "2020-10-01T01:24:35.290521",
     "status": "completed"
    },
    "tags": []
   },
   "outputs": [
    {
     "data": {
      "text/plain": [
       "False"
      ]
     },
     "execution_count": 45,
     "metadata": {},
     "output_type": "execute_result"
    }
   ],
   "source": [
    "# Is Calbefraques a planet?\n",
    "\"Calbefraques\" in planets"
   ]
  },
  {
   "cell_type": "markdown",
   "metadata": {
    "papermill": {
     "duration": 0.038617,
     "end_time": "2020-10-01T01:24:35.409726",
     "exception": false,
     "start_time": "2020-10-01T01:24:35.371109",
     "status": "completed"
    },
    "tags": []
   },
   "source": [
    "There are a few more interesting list methods we haven't covered. If you want to learn about all the methods and attributes attached to a particular object, we can call `help()` on the object itself. For example, `help(planets)` will tell us about *all* the list methods: "
   ]
  },
  {
   "cell_type": "code",
   "execution_count": 33,
   "metadata": {
    "_kg_hide-output": true,
    "execution": {
     "iopub.execute_input": "2020-10-01T01:24:35.495412Z",
     "iopub.status.busy": "2020-10-01T01:24:35.491045Z",
     "iopub.status.idle": "2020-10-01T01:24:35.498699Z",
     "shell.execute_reply": "2020-10-01T01:24:35.498321Z"
    },
    "papermill": {
     "duration": 0.052136,
     "end_time": "2020-10-01T01:24:35.498770",
     "exception": false,
     "start_time": "2020-10-01T01:24:35.446634",
     "status": "completed"
    },
    "scrolled": true,
    "tags": []
   },
   "outputs": [
    {
     "name": "stdout",
     "output_type": "stream",
     "text": [
      "Help on list object:\n",
      "\n",
      "class list(object)\n",
      " |  list(iterable=(), /)\n",
      " |  \n",
      " |  Built-in mutable sequence.\n",
      " |  \n",
      " |  If no argument is given, the constructor creates a new empty list.\n",
      " |  The argument must be an iterable if specified.\n",
      " |  \n",
      " |  Methods defined here:\n",
      " |  \n",
      " |  __add__(self, value, /)\n",
      " |      Return self+value.\n",
      " |  \n",
      " |  __contains__(self, key, /)\n",
      " |      Return key in self.\n",
      " |  \n",
      " |  __delitem__(self, key, /)\n",
      " |      Delete self[key].\n",
      " |  \n",
      " |  __eq__(self, value, /)\n",
      " |      Return self==value.\n",
      " |  \n",
      " |  __ge__(self, value, /)\n",
      " |      Return self>=value.\n",
      " |  \n",
      " |  __getattribute__(self, name, /)\n",
      " |      Return getattr(self, name).\n",
      " |  \n",
      " |  __getitem__(...)\n",
      " |      x.__getitem__(y) <==> x[y]\n",
      " |  \n",
      " |  __gt__(self, value, /)\n",
      " |      Return self>value.\n",
      " |  \n",
      " |  __iadd__(self, value, /)\n",
      " |      Implement self+=value.\n",
      " |  \n",
      " |  __imul__(self, value, /)\n",
      " |      Implement self*=value.\n",
      " |  \n",
      " |  __init__(self, /, *args, **kwargs)\n",
      " |      Initialize self.  See help(type(self)) for accurate signature.\n",
      " |  \n",
      " |  __iter__(self, /)\n",
      " |      Implement iter(self).\n",
      " |  \n",
      " |  __le__(self, value, /)\n",
      " |      Return self<=value.\n",
      " |  \n",
      " |  __len__(self, /)\n",
      " |      Return len(self).\n",
      " |  \n",
      " |  __lt__(self, value, /)\n",
      " |      Return self<value.\n",
      " |  \n",
      " |  __mul__(self, value, /)\n",
      " |      Return self*value.\n",
      " |  \n",
      " |  __ne__(self, value, /)\n",
      " |      Return self!=value.\n",
      " |  \n",
      " |  __repr__(self, /)\n",
      " |      Return repr(self).\n",
      " |  \n",
      " |  __reversed__(self, /)\n",
      " |      Return a reverse iterator over the list.\n",
      " |  \n",
      " |  __rmul__(self, value, /)\n",
      " |      Return value*self.\n",
      " |  \n",
      " |  __setitem__(self, key, value, /)\n",
      " |      Set self[key] to value.\n",
      " |  \n",
      " |  __sizeof__(self, /)\n",
      " |      Return the size of the list in memory, in bytes.\n",
      " |  \n",
      " |  append(self, object, /)\n",
      " |      Append object to the end of the list.\n",
      " |  \n",
      " |  clear(self, /)\n",
      " |      Remove all items from list.\n",
      " |  \n",
      " |  copy(self, /)\n",
      " |      Return a shallow copy of the list.\n",
      " |  \n",
      " |  count(self, value, /)\n",
      " |      Return number of occurrences of value.\n",
      " |  \n",
      " |  extend(self, iterable, /)\n",
      " |      Extend list by appending elements from the iterable.\n",
      " |  \n",
      " |  index(self, value, start=0, stop=9223372036854775807, /)\n",
      " |      Return first index of value.\n",
      " |      \n",
      " |      Raises ValueError if the value is not present.\n",
      " |  \n",
      " |  insert(self, index, object, /)\n",
      " |      Insert object before index.\n",
      " |  \n",
      " |  pop(self, index=-1, /)\n",
      " |      Remove and return item at index (default last).\n",
      " |      \n",
      " |      Raises IndexError if list is empty or index is out of range.\n",
      " |  \n",
      " |  remove(self, value, /)\n",
      " |      Remove first occurrence of value.\n",
      " |      \n",
      " |      Raises ValueError if the value is not present.\n",
      " |  \n",
      " |  reverse(self, /)\n",
      " |      Reverse *IN PLACE*.\n",
      " |  \n",
      " |  sort(self, /, *, key=None, reverse=False)\n",
      " |      Stable sort *IN PLACE*.\n",
      " |  \n",
      " |  ----------------------------------------------------------------------\n",
      " |  Static methods defined here:\n",
      " |  \n",
      " |  __new__(*args, **kwargs) from builtins.type\n",
      " |      Create and return a new object.  See help(type) for accurate signature.\n",
      " |  \n",
      " |  ----------------------------------------------------------------------\n",
      " |  Data and other attributes defined here:\n",
      " |  \n",
      " |  __hash__ = None\n",
      "\n"
     ]
    }
   ],
   "source": [
    "help(planets)"
   ]
  },
  {
   "cell_type": "markdown",
   "metadata": {
    "papermill": {
     "duration": 0.036889,
     "end_time": "2020-10-01T01:24:35.573710",
     "exception": false,
     "start_time": "2020-10-01T01:24:35.536821",
     "status": "completed"
    },
    "tags": []
   },
   "source": [
    "Click the cell's left lateral to see the full help page. Lists have lots of methods with weird-looking names like `__eq__` and `__iadd__`. Don't worry too much about these for now. (You'll probably never call such methods directly. But they get called behind the scenes when we use syntax like indexing or comparison operators.) The most interesting methods are toward the bottom of the list (`append`, `clear`, `copy`, etc.)."
   ]
  },
  {
   "cell_type": "markdown",
   "metadata": {
    "papermill": {
     "duration": 0.036864,
     "end_time": "2020-10-01T01:24:35.647739",
     "exception": false,
     "start_time": "2020-10-01T01:24:35.610875",
     "status": "completed"
    },
    "tags": []
   },
   "source": [
    "## Tuples\n",
    "\n",
    "Tuples are almost exactly the same as lists. They differ in just two ways.\n",
    "\n",
    "**1:** The syntax for creating them uses parentheses instead of square brackets"
   ]
  },
  {
   "cell_type": "code",
   "execution_count": 46,
   "metadata": {
    "ExecuteTime": {
     "end_time": "2021-04-09T20:39:37.042535Z",
     "start_time": "2021-04-09T20:39:37.039404Z"
    },
    "execution": {
     "iopub.execute_input": "2020-10-01T01:24:35.725605Z",
     "iopub.status.busy": "2020-10-01T01:24:35.725074Z",
     "iopub.status.idle": "2020-10-01T01:24:35.728161Z",
     "shell.execute_reply": "2020-10-01T01:24:35.727720Z"
    },
    "papermill": {
     "duration": 0.0435,
     "end_time": "2020-10-01T01:24:35.728234",
     "exception": false,
     "start_time": "2020-10-01T01:24:35.684734",
     "status": "completed"
    },
    "tags": []
   },
   "outputs": [],
   "source": [
    "t = (1, 2, 3)"
   ]
  },
  {
   "cell_type": "code",
   "execution_count": 47,
   "metadata": {
    "ExecuteTime": {
     "end_time": "2021-04-09T20:39:38.501391Z",
     "start_time": "2021-04-09T20:39:38.497110Z"
    },
    "execution": {
     "iopub.execute_input": "2020-10-01T01:24:35.806735Z",
     "iopub.status.busy": "2020-10-01T01:24:35.806124Z",
     "iopub.status.idle": "2020-10-01T01:24:35.809986Z",
     "shell.execute_reply": "2020-10-01T01:24:35.809613Z"
    },
    "papermill": {
     "duration": 0.044401,
     "end_time": "2020-10-01T01:24:35.810070",
     "exception": false,
     "start_time": "2020-10-01T01:24:35.765669",
     "status": "completed"
    },
    "tags": []
   },
   "outputs": [
    {
     "data": {
      "text/plain": [
       "(1, 2, 3)"
      ]
     },
     "execution_count": 47,
     "metadata": {},
     "output_type": "execute_result"
    }
   ],
   "source": [
    "t = 1, 2, 3 # equivalent to above\n",
    "t"
   ]
  },
  {
   "cell_type": "markdown",
   "metadata": {
    "papermill": {
     "duration": 0.03784,
     "end_time": "2020-10-01T01:24:35.886945",
     "exception": false,
     "start_time": "2020-10-01T01:24:35.849105",
     "status": "completed"
    },
    "tags": []
   },
   "source": [
    "**2:** They cannot be modified (they are *immutable*)."
   ]
  },
  {
   "cell_type": "code",
   "execution_count": 48,
   "metadata": {
    "ExecuteTime": {
     "end_time": "2021-04-09T20:39:49.321158Z",
     "start_time": "2021-04-09T20:39:49.311827Z"
    },
    "execution": {
     "iopub.execute_input": "2020-10-01T01:24:35.965416Z",
     "iopub.status.busy": "2020-10-01T01:24:35.964960Z",
     "iopub.status.idle": "2020-10-01T01:24:35.973533Z",
     "shell.execute_reply": "2020-10-01T01:24:35.973061Z"
    },
    "papermill": {
     "duration": 0.049113,
     "end_time": "2020-10-01T01:24:35.973612",
     "exception": false,
     "start_time": "2020-10-01T01:24:35.924499",
     "status": "completed"
    },
    "tags": [
     "raises-exception"
    ]
   },
   "outputs": [
    {
     "ename": "TypeError",
     "evalue": "'tuple' object does not support item assignment",
     "output_type": "error",
     "traceback": [
      "\u001b[0;31m-----------------------------------------------------------------------\u001b[0m",
      "\u001b[0;31mTypeError\u001b[0m                             Traceback (most recent call last)",
      "\u001b[0;32m<ipython-input-48-e6cf7836e708>\u001b[0m in \u001b[0;36m<module>\u001b[0;34m\u001b[0m\n\u001b[0;32m----> 1\u001b[0;31m \u001b[0mt\u001b[0m\u001b[0;34m[\u001b[0m\u001b[0;36m0\u001b[0m\u001b[0;34m]\u001b[0m \u001b[0;34m=\u001b[0m \u001b[0;36m100\u001b[0m\u001b[0;34m\u001b[0m\u001b[0;34m\u001b[0m\u001b[0m\n\u001b[0m",
      "\u001b[0;31mTypeError\u001b[0m: 'tuple' object does not support item assignment"
     ]
    }
   ],
   "source": [
    "t[0] = 100"
   ]
  },
  {
   "cell_type": "markdown",
   "metadata": {
    "papermill": {
     "duration": 0.037769,
     "end_time": "2020-10-01T01:24:36.050489",
     "exception": false,
     "start_time": "2020-10-01T01:24:36.012720",
     "status": "completed"
    },
    "tags": []
   },
   "source": [
    "Tuples are often used for functions that have multiple return values.\n",
    "\n",
    "For example, the ``as_integer_ratio()`` method of float objects returns a numerator and a denominator in the form of a tuple:"
   ]
  },
  {
   "cell_type": "code",
   "execution_count": 49,
   "metadata": {
    "ExecuteTime": {
     "end_time": "2021-04-09T20:40:07.742476Z",
     "start_time": "2021-04-09T20:40:07.737182Z"
    },
    "execution": {
     "iopub.execute_input": "2020-10-01T01:24:36.130292Z",
     "iopub.status.busy": "2020-10-01T01:24:36.129712Z",
     "iopub.status.idle": "2020-10-01T01:24:36.132818Z",
     "shell.execute_reply": "2020-10-01T01:24:36.133138Z"
    },
    "papermill": {
     "duration": 0.044828,
     "end_time": "2020-10-01T01:24:36.133227",
     "exception": false,
     "start_time": "2020-10-01T01:24:36.088399",
     "status": "completed"
    },
    "tags": []
   },
   "outputs": [
    {
     "data": {
      "text/plain": [
       "(1, 8)"
      ]
     },
     "execution_count": 49,
     "metadata": {},
     "output_type": "execute_result"
    }
   ],
   "source": [
    "x = 0.125\n",
    "x.as_integer_ratio()"
   ]
  },
  {
   "cell_type": "markdown",
   "metadata": {
    "papermill": {
     "duration": 0.037642,
     "end_time": "2020-10-01T01:24:36.208898",
     "exception": false,
     "start_time": "2020-10-01T01:24:36.171256",
     "status": "completed"
    },
    "tags": []
   },
   "source": [
    "These multiple return values can be individually assigned as follows:"
   ]
  },
  {
   "cell_type": "code",
   "execution_count": 50,
   "metadata": {
    "ExecuteTime": {
     "end_time": "2021-04-09T20:40:23.653939Z",
     "start_time": "2021-04-09T20:40:23.649047Z"
    },
    "execution": {
     "iopub.execute_input": "2020-10-01T01:24:36.287869Z",
     "iopub.status.busy": "2020-10-01T01:24:36.287427Z",
     "iopub.status.idle": "2020-10-01T01:24:36.290484Z",
     "shell.execute_reply": "2020-10-01T01:24:36.290029Z"
    },
    "papermill": {
     "duration": 0.043769,
     "end_time": "2020-10-01T01:24:36.290557",
     "exception": false,
     "start_time": "2020-10-01T01:24:36.246788",
     "status": "completed"
    },
    "tags": []
   },
   "outputs": [
    {
     "name": "stdout",
     "output_type": "stream",
     "text": [
      "0.125\n"
     ]
    }
   ],
   "source": [
    "numerator, denominator = x.as_integer_ratio()\n",
    "print(numerator / denominator)"
   ]
  },
  {
   "cell_type": "markdown",
   "metadata": {
    "papermill": {
     "duration": 0.038611,
     "end_time": "2020-10-01T01:24:36.368653",
     "exception": false,
     "start_time": "2020-10-01T01:24:36.330042",
     "status": "completed"
    },
    "tags": []
   },
   "source": [
    "Finally we have some insight into the classic Stupid Python Trick™ for swapping two variables!"
   ]
  },
  {
   "cell_type": "code",
   "execution_count": 51,
   "metadata": {
    "ExecuteTime": {
     "end_time": "2021-04-09T20:40:29.443383Z",
     "start_time": "2021-04-09T20:40:29.438849Z"
    },
    "execution": {
     "iopub.execute_input": "2020-10-01T01:24:36.488181Z",
     "iopub.status.busy": "2020-10-01T01:24:36.487509Z",
     "iopub.status.idle": "2020-10-01T01:24:36.489860Z",
     "shell.execute_reply": "2020-10-01T01:24:36.490326Z"
    },
    "papermill": {
     "duration": 0.077005,
     "end_time": "2020-10-01T01:24:36.490478",
     "exception": false,
     "start_time": "2020-10-01T01:24:36.413473",
     "status": "completed"
    },
    "tags": []
   },
   "outputs": [
    {
     "name": "stdout",
     "output_type": "stream",
     "text": [
      "0 1\n"
     ]
    }
   ],
   "source": [
    "a = 1\n",
    "b = 0\n",
    "a, b = b, a\n",
    "print(a, b)"
   ]
  },
  {
   "cell_type": "markdown",
   "metadata": {},
   "source": [
    "# Exercices"
   ]
  },
  {
   "cell_type": "markdown",
   "metadata": {},
   "source": [
    "## 1.\n",
    "\n",
    "Complete the function below according to its docstring."
   ]
  },
  {
   "cell_type": "code",
   "execution_count": null,
   "metadata": {},
   "outputs": [],
   "source": [
    "def select_second(L):\n",
    "    \"\"\"Return the second element of the given list. If the list has no second\n",
    "    element, return None.\n",
    "    \"\"\"\n",
    "    pass"
   ]
  },
  {
   "cell_type": "markdown",
   "metadata": {},
   "source": [
    "## 2.\n",
    "\n",
    "You are analyzing sports teams.  Members of each team are stored in a list. The Coach is the first name in the list, the captain is the second name in the list, and other players are listed after that. \n",
    "These lists are stored in another list, which starts with the best team and proceeds through the list to the worst team last.  Complete the function below to select the **captain** of the worst team."
   ]
  },
  {
   "cell_type": "code",
   "execution_count": null,
   "metadata": {},
   "outputs": [],
   "source": [
    "def losing_team_captain(teams):\n",
    "    \"\"\"Given a list of teams, where each team is a list of names, return the 2nd player (captain)\n",
    "    from the last listed team\n",
    "    \"\"\"\n",
    "    pass"
   ]
  },
  {
   "cell_type": "markdown",
   "metadata": {},
   "source": [
    "## 3.\n",
    "\n",
    "The next iteration of Mario Kart will feature an extra-infuriating new item, the *Purple Shell*. When used, it warps the last place racer into first place and the first place racer into last place. Complete the function below to implement the Purple Shell's effect."
   ]
  },
  {
   "cell_type": "code",
   "execution_count": null,
   "metadata": {},
   "outputs": [],
   "source": [
    "def purple_shell(racers):\n",
    "    \"\"\"Given a list of racers, set the first place racer (at the front of the list) to last\n",
    "    place and vice versa.\n",
    "    \n",
    "    >>> r = [\"Mario\", \"Bowser\", \"Luigi\"]\n",
    "    >>> purple_shell(r)\n",
    "    >>> r\n",
    "    [\"Luigi\", \"Bowser\", \"Mario\"]\n",
    "    \"\"\"\n",
    "    pass"
   ]
  },
  {
   "cell_type": "markdown",
   "metadata": {},
   "source": [
    "## 4.\n",
    "\n",
    "What are the lengths of the following lists? Fill in the variable `lengths` with your predictions. (Try to make a prediction for each list *without* just calling `len()` on it.)"
   ]
  },
  {
   "cell_type": "code",
   "execution_count": null,
   "metadata": {},
   "outputs": [],
   "source": [
    "a = [1, 2, 3]\n",
    "b = [1, [2, 3]]\n",
    "c = []\n",
    "d = [1, 2, 3][1:]\n",
    "\n",
    "# Put your predictions in the list below. Lengths should contain 4 numbers, the\n",
    "# first being the length of a, the second being the length of b and so on.\n",
    "lengths = []"
   ]
  },
  {
   "cell_type": "markdown",
   "metadata": {},
   "source": [
    "## 5. <span title=\"A bit spicy\" style=\"color: darkgreen \">🌶️</span>\n",
    "\n",
    "We're using lists to record people who attended our party and what order they arrived in. For example, the following list represents a party with 7 guests, in which Adela showed up first and Ford was the last to arrive:\n",
    "\n",
    "    party_attendees = ['Adela', 'Fleda', 'Owen', 'May', 'Mona', 'Gilbert', 'Ford']\n",
    "\n",
    "A guest is considered 'fashionably late' if they arrived after at least half of the party's guests. However, they must not be the very last guest (that's taking it too far). In the above example, Mona and Gilbert are the only guests who were fashionably late.\n",
    "\n",
    "Complete the function below which takes a list of party attendees as well as a person, and tells us whether that person is fashionably late."
   ]
  },
  {
   "cell_type": "code",
   "execution_count": null,
   "metadata": {},
   "outputs": [],
   "source": [
    "def fashionably_late(arrivals, name):\n",
    "    \"\"\"Given an ordered list of arrivals to the party and a name, return whether the guest with that\n",
    "    name was fashionably late.\n",
    "    \"\"\"\n",
    "    pass"
   ]
  }
 ],
 "metadata": {
  "anaconda-cloud": {},
  "hide_input": false,
  "kernelspec": {
   "display_name": "Tf2_Py37",
   "language": "python",
   "name": "tf2_py37"
  },
  "language_info": {
   "codemirror_mode": {
    "name": "ipython",
    "version": 3
   },
   "file_extension": ".py",
   "mimetype": "text/x-python",
   "name": "python",
   "nbconvert_exporter": "python",
   "pygments_lexer": "ipython3",
   "version": "3.7.7"
  },
  "learntools_metadata": {
   "lesson_index": 3,
   "type": "tutorial"
  },
  "nbTranslate": {
   "displayLangs": [
    "*"
   ],
   "hotkey": "alt-t",
   "langInMainMenu": true,
   "sourceLang": "en",
   "targetLang": "fr",
   "useGoogleTranslate": true
  },
  "papermill": {
   "duration": 10.153057,
   "end_time": "2020-10-01T01:24:36.797096",
   "environment_variables": {},
   "exception": null,
   "input_path": "__notebook__.ipynb",
   "output_path": "__notebook__.ipynb",
   "parameters": {},
   "start_time": "2020-10-01T01:24:26.644039",
   "version": "2.1.0"
  },
  "toc": {
   "base_numbering": 1,
   "nav_menu": {},
   "number_sections": true,
   "sideBar": true,
   "skip_h1_title": true,
   "title_cell": "Table of Contents",
   "title_sidebar": "Contents",
   "toc_cell": false,
   "toc_position": {},
   "toc_section_display": true,
   "toc_window_display": true
  },
  "varInspector": {
   "cols": {
    "lenName": 16,
    "lenType": 16,
    "lenVar": 40
   },
   "kernels_config": {
    "python": {
     "delete_cmd_postfix": "",
     "delete_cmd_prefix": "del ",
     "library": "var_list.py",
     "varRefreshCmd": "print(var_dic_list())"
    },
    "r": {
     "delete_cmd_postfix": ") ",
     "delete_cmd_prefix": "rm(",
     "library": "var_list.r",
     "varRefreshCmd": "cat(var_dic_list()) "
    }
   },
   "types_to_exclude": [
    "module",
    "function",
    "builtin_function_or_method",
    "instance",
    "_Feature"
   ],
   "window_display": false
  }
 },
 "nbformat": 4,
 "nbformat_minor": 2
}
