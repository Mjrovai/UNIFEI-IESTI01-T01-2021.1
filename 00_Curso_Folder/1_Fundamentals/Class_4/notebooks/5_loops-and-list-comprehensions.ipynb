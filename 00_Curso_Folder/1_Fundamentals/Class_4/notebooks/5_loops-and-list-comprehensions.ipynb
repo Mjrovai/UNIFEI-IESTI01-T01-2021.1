{
 "cells": [
  {
   "cell_type": "markdown",
   "metadata": {},
   "source": [
    "# Python4DS Quick Review - 5\n",
    "Based on Kaggle Python Course"
   ]
  },
  {
   "cell_type": "markdown",
   "metadata": {
    "papermill": {
     "duration": 0.018787,
     "end_time": "2020-10-01T01:21:25.283479",
     "exception": false,
     "start_time": "2020-10-01T01:21:25.264692",
     "status": "completed"
    },
    "tags": []
   },
   "source": [
    "# Loops\n",
    "\n",
    "Loops are a way to repeatedly execute some code. Here's an example:"
   ]
  },
  {
   "cell_type": "code",
   "execution_count": 1,
   "metadata": {
    "ExecuteTime": {
     "end_time": "2021-04-10T16:32:37.440525Z",
     "start_time": "2021-04-10T16:32:37.435229Z"
    },
    "execution": {
     "iopub.execute_input": "2020-10-01T01:21:25.325159Z",
     "iopub.status.busy": "2020-10-01T01:21:25.324492Z",
     "iopub.status.idle": "2020-10-01T01:21:25.329179Z",
     "shell.execute_reply": "2020-10-01T01:21:25.329701Z"
    },
    "papermill": {
     "duration": 0.028737,
     "end_time": "2020-10-01T01:21:25.329887",
     "exception": false,
     "start_time": "2020-10-01T01:21:25.301150",
     "status": "completed"
    },
    "tags": []
   },
   "outputs": [
    {
     "name": "stdout",
     "output_type": "stream",
     "text": [
      "Mercury Venus Earth Mars Jupiter Saturn Uranus Neptune "
     ]
    }
   ],
   "source": [
    "planets = [\n",
    "    'Mercury', 'Venus', 'Earth', 'Mars', 'Jupiter', 'Saturn', 'Uranus',\n",
    "    'Neptune'\n",
    "]\n",
    "\n",
    "for planet in planets:\n",
    "    print(planet, end=' ')  # print all on same line"
   ]
  },
  {
   "cell_type": "markdown",
   "metadata": {
    "papermill": {
     "duration": 0.017627,
     "end_time": "2020-10-01T01:21:25.367354",
     "exception": false,
     "start_time": "2020-10-01T01:21:25.349727",
     "status": "completed"
    },
    "tags": []
   },
   "source": [
    "The ``for`` loop specifies \n",
    "- the variable name to use (in this case, `planet`)\n",
    "- the set of values to loop over (in this case, `planets`)\n",
    "\n",
    "You use the word \"``in``\" to link them together.\n",
    "\n",
    "The object to the right of the \"``in``\" can be any object that supports iteration. Basically, if it can be thought of as a group of things, you can probably loop over it. In addition to lists, we can iterate over the elements of a tuple:"
   ]
  },
  {
   "cell_type": "code",
   "execution_count": 4,
   "metadata": {
    "ExecuteTime": {
     "end_time": "2021-04-10T16:34:42.474371Z",
     "start_time": "2021-04-10T16:34:42.469606Z"
    },
    "execution": {
     "iopub.execute_input": "2020-10-01T01:21:25.411125Z",
     "iopub.status.busy": "2020-10-01T01:21:25.410384Z",
     "iopub.status.idle": "2020-10-01T01:21:25.414192Z",
     "shell.execute_reply": "2020-10-01T01:21:25.413556Z"
    },
    "papermill": {
     "duration": 0.029018,
     "end_time": "2020-10-01T01:21:25.414318",
     "exception": false,
     "start_time": "2020-10-01T01:21:25.385300",
     "status": "completed"
    },
    "tags": []
   },
   "outputs": [
    {
     "data": {
      "text/plain": [
       "360"
      ]
     },
     "execution_count": 4,
     "metadata": {},
     "output_type": "execute_result"
    }
   ],
   "source": [
    "multiplicands = (2, 2, 2, 3, 3, 5)\n",
    "product = 1\n",
    "\n",
    "for mult in multiplicands:\n",
    "    product = product * mult\n",
    "product"
   ]
  },
  {
   "cell_type": "markdown",
   "metadata": {
    "papermill": {
     "duration": 0.017994,
     "end_time": "2020-10-01T01:21:25.450660",
     "exception": false,
     "start_time": "2020-10-01T01:21:25.432666",
     "status": "completed"
    },
    "tags": []
   },
   "source": [
    "You can even loop through each character in a string:"
   ]
  },
  {
   "cell_type": "code",
   "execution_count": 5,
   "metadata": {
    "ExecuteTime": {
     "end_time": "2021-04-10T16:35:51.739799Z",
     "start_time": "2021-04-10T16:35:51.735665Z"
    },
    "execution": {
     "iopub.execute_input": "2020-10-01T01:21:25.494258Z",
     "iopub.status.busy": "2020-10-01T01:21:25.493058Z",
     "iopub.status.idle": "2020-10-01T01:21:25.497471Z",
     "shell.execute_reply": "2020-10-01T01:21:25.496980Z"
    },
    "papermill": {
     "duration": 0.028893,
     "end_time": "2020-10-01T01:21:25.497599",
     "exception": false,
     "start_time": "2020-10-01T01:21:25.468706",
     "status": "completed"
    },
    "tags": []
   },
   "outputs": [
    {
     "name": "stdout",
     "output_type": "stream",
     "text": [
      "HELLO"
     ]
    }
   ],
   "source": [
    "s = 'steganograpHy is the practicE of conceaLing a file, message, image, or video within another fiLe, message, image, Or video.'\n",
    "msg = ''\n",
    "\n",
    "# print all the uppercase letters in s, one at a time\n",
    "for char in s:\n",
    "    if char.isupper():\n",
    "        print(char, end='')"
   ]
  },
  {
   "cell_type": "markdown",
   "metadata": {
    "papermill": {
     "duration": 0.018638,
     "end_time": "2020-10-01T01:21:25.534797",
     "exception": false,
     "start_time": "2020-10-01T01:21:25.516159",
     "status": "completed"
    },
    "tags": []
   },
   "source": [
    "### range()\n",
    "\n",
    "`range()` is a function that returns a sequence of numbers. It turns out to be very useful for writing loops.\n",
    "\n",
    "For example, if we want to repeat some action 5 times:"
   ]
  },
  {
   "cell_type": "code",
   "execution_count": 6,
   "metadata": {
    "ExecuteTime": {
     "end_time": "2021-04-10T16:36:50.755437Z",
     "start_time": "2021-04-10T16:36:50.752480Z"
    },
    "execution": {
     "iopub.execute_input": "2020-10-01T01:21:25.578214Z",
     "iopub.status.busy": "2020-10-01T01:21:25.577214Z",
     "iopub.status.idle": "2020-10-01T01:21:25.581986Z",
     "shell.execute_reply": "2020-10-01T01:21:25.581367Z"
    },
    "papermill": {
     "duration": 0.028871,
     "end_time": "2020-10-01T01:21:25.582106",
     "exception": false,
     "start_time": "2020-10-01T01:21:25.553235",
     "status": "completed"
    },
    "tags": []
   },
   "outputs": [
    {
     "name": "stdout",
     "output_type": "stream",
     "text": [
      "Doing important work. i = 0\n",
      "Doing important work. i = 1\n",
      "Doing important work. i = 2\n",
      "Doing important work. i = 3\n",
      "Doing important work. i = 4\n"
     ]
    }
   ],
   "source": [
    "for i in range(5):\n",
    "    print(\"Doing important work. i =\", i)"
   ]
  },
  {
   "cell_type": "markdown",
   "metadata": {
    "papermill": {
     "duration": 0.018779,
     "end_time": "2020-10-01T01:21:25.620702",
     "exception": false,
     "start_time": "2020-10-01T01:21:25.601923",
     "status": "completed"
    },
    "tags": []
   },
   "source": [
    "## ``while`` loops\n",
    "The other type of loop in Python is a ``while`` loop, which iterates until some condition is met:"
   ]
  },
  {
   "cell_type": "code",
   "execution_count": 7,
   "metadata": {
    "ExecuteTime": {
     "end_time": "2021-04-10T16:37:05.979131Z",
     "start_time": "2021-04-10T16:37:05.975225Z"
    },
    "execution": {
     "iopub.execute_input": "2020-10-01T01:21:25.664132Z",
     "iopub.status.busy": "2020-10-01T01:21:25.663437Z",
     "iopub.status.idle": "2020-10-01T01:21:25.668370Z",
     "shell.execute_reply": "2020-10-01T01:21:25.667716Z"
    },
    "papermill": {
     "duration": 0.028976,
     "end_time": "2020-10-01T01:21:25.668488",
     "exception": false,
     "start_time": "2020-10-01T01:21:25.639512",
     "status": "completed"
    },
    "tags": []
   },
   "outputs": [
    {
     "name": "stdout",
     "output_type": "stream",
     "text": [
      "0 1 2 3 4 5 6 7 8 9 "
     ]
    }
   ],
   "source": [
    "i = 0\n",
    "while i < 10:\n",
    "    print(i, end=' ')\n",
    "    i += 1"
   ]
  },
  {
   "cell_type": "markdown",
   "metadata": {
    "papermill": {
     "duration": 0.019409,
     "end_time": "2020-10-01T01:21:25.707762",
     "exception": false,
     "start_time": "2020-10-01T01:21:25.688353",
     "status": "completed"
    },
    "tags": []
   },
   "source": [
    "The argument of the ``while`` loop is evaluated as a boolean statement, and the loop is executed until the statement evaluates to False."
   ]
  },
  {
   "cell_type": "markdown",
   "metadata": {
    "papermill": {
     "duration": 0.019275,
     "end_time": "2020-10-01T01:21:25.746670",
     "exception": false,
     "start_time": "2020-10-01T01:21:25.727395",
     "status": "completed"
    },
    "tags": []
   },
   "source": [
    "## List comprehensions\n",
    "\n",
    "List comprehensions are one of Python's most beloved and unique features. The easiest way to understand them is probably to just look at a few examples:"
   ]
  },
  {
   "cell_type": "code",
   "execution_count": 8,
   "metadata": {
    "ExecuteTime": {
     "end_time": "2021-04-10T16:37:57.842450Z",
     "start_time": "2021-04-10T16:37:57.838368Z"
    },
    "execution": {
     "iopub.execute_input": "2020-10-01T01:21:25.791908Z",
     "iopub.status.busy": "2020-10-01T01:21:25.791248Z",
     "iopub.status.idle": "2020-10-01T01:21:25.794955Z",
     "shell.execute_reply": "2020-10-01T01:21:25.794260Z"
    },
    "papermill": {
     "duration": 0.028374,
     "end_time": "2020-10-01T01:21:25.795079",
     "exception": false,
     "start_time": "2020-10-01T01:21:25.766705",
     "status": "completed"
    },
    "tags": []
   },
   "outputs": [
    {
     "data": {
      "text/plain": [
       "[0, 1, 4, 9, 16, 25, 36, 49, 64, 81]"
      ]
     },
     "execution_count": 8,
     "metadata": {},
     "output_type": "execute_result"
    }
   ],
   "source": [
    "squares = [n**2 for n in range(10)]\n",
    "squares"
   ]
  },
  {
   "cell_type": "markdown",
   "metadata": {
    "papermill": {
     "duration": 0.019935,
     "end_time": "2020-10-01T01:21:25.835207",
     "exception": false,
     "start_time": "2020-10-01T01:21:25.815272",
     "status": "completed"
    },
    "tags": []
   },
   "source": [
    "Here's how we would do the same thing without a list comprehension:"
   ]
  },
  {
   "cell_type": "code",
   "execution_count": 9,
   "metadata": {
    "ExecuteTime": {
     "end_time": "2021-04-10T16:38:10.511324Z",
     "start_time": "2021-04-10T16:38:10.505543Z"
    },
    "execution": {
     "iopub.execute_input": "2020-10-01T01:21:25.877811Z",
     "iopub.status.busy": "2020-10-01T01:21:25.877191Z",
     "iopub.status.idle": "2020-10-01T01:21:25.882880Z",
     "shell.execute_reply": "2020-10-01T01:21:25.883378Z"
    },
    "papermill": {
     "duration": 0.028585,
     "end_time": "2020-10-01T01:21:25.883511",
     "exception": false,
     "start_time": "2020-10-01T01:21:25.854926",
     "status": "completed"
    },
    "tags": []
   },
   "outputs": [
    {
     "data": {
      "text/plain": [
       "[0, 1, 4, 9, 16, 25, 36, 49, 64, 81]"
      ]
     },
     "execution_count": 9,
     "metadata": {},
     "output_type": "execute_result"
    }
   ],
   "source": [
    "squares = []\n",
    "for n in range(10):\n",
    "    squares.append(n**2)\n",
    "squares"
   ]
  },
  {
   "cell_type": "markdown",
   "metadata": {
    "papermill": {
     "duration": 0.019881,
     "end_time": "2020-10-01T01:21:25.923834",
     "exception": false,
     "start_time": "2020-10-01T01:21:25.903953",
     "status": "completed"
    },
    "tags": []
   },
   "source": [
    "We can also add an `if` condition:"
   ]
  },
  {
   "cell_type": "code",
   "execution_count": 10,
   "metadata": {
    "ExecuteTime": {
     "end_time": "2021-04-10T16:38:52.034273Z",
     "start_time": "2021-04-10T16:38:52.029668Z"
    },
    "execution": {
     "iopub.execute_input": "2020-10-01T01:21:25.967469Z",
     "iopub.status.busy": "2020-10-01T01:21:25.966876Z",
     "iopub.status.idle": "2020-10-01T01:21:25.972999Z",
     "shell.execute_reply": "2020-10-01T01:21:25.973464Z"
    },
    "papermill": {
     "duration": 0.029373,
     "end_time": "2020-10-01T01:21:25.973619",
     "exception": false,
     "start_time": "2020-10-01T01:21:25.944246",
     "status": "completed"
    },
    "tags": []
   },
   "outputs": [
    {
     "data": {
      "text/plain": [
       "['Venus', 'Earth', 'Mars']"
      ]
     },
     "execution_count": 10,
     "metadata": {},
     "output_type": "execute_result"
    }
   ],
   "source": [
    "short_planets = [planet for planet in planets if len(planet) < 6]\n",
    "short_planets"
   ]
  },
  {
   "cell_type": "markdown",
   "metadata": {
    "papermill": {
     "duration": 0.020734,
     "end_time": "2020-10-01T01:21:26.015069",
     "exception": false,
     "start_time": "2020-10-01T01:21:25.994335",
     "status": "completed"
    },
    "tags": []
   },
   "source": [
    "(If you're familiar with SQL, you might think of this as being like a \"WHERE\" clause)\n",
    "\n",
    "Here's an example of filtering with an `if` condition *and* applying some transformation to the loop variable:"
   ]
  },
  {
   "cell_type": "code",
   "execution_count": 11,
   "metadata": {
    "ExecuteTime": {
     "end_time": "2021-04-10T16:39:31.489088Z",
     "start_time": "2021-04-10T16:39:31.483868Z"
    },
    "execution": {
     "iopub.execute_input": "2020-10-01T01:21:26.062605Z",
     "iopub.status.busy": "2020-10-01T01:21:26.061907Z",
     "iopub.status.idle": "2020-10-01T01:21:26.066307Z",
     "shell.execute_reply": "2020-10-01T01:21:26.065809Z"
    },
    "papermill": {
     "duration": 0.030705,
     "end_time": "2020-10-01T01:21:26.066417",
     "exception": false,
     "start_time": "2020-10-01T01:21:26.035712",
     "status": "completed"
    },
    "tags": []
   },
   "outputs": [
    {
     "data": {
      "text/plain": [
       "['VENUS!', 'EARTH!', 'MARS!']"
      ]
     },
     "execution_count": 11,
     "metadata": {},
     "output_type": "execute_result"
    }
   ],
   "source": [
    "# str.upper() returns an all-caps version of a string\n",
    "loud_short_planets = [planet.upper() + '!' for planet in planets if len(planet) < 6]\n",
    "loud_short_planets"
   ]
  },
  {
   "cell_type": "markdown",
   "metadata": {
    "papermill": {
     "duration": 0.021582,
     "end_time": "2020-10-01T01:21:26.109433",
     "exception": false,
     "start_time": "2020-10-01T01:21:26.087851",
     "status": "completed"
    },
    "tags": []
   },
   "source": [
    "People usually write these on a single line, but you might find the structure clearer when it's split up over 3 lines:"
   ]
  },
  {
   "cell_type": "code",
   "execution_count": 12,
   "metadata": {
    "ExecuteTime": {
     "end_time": "2021-04-10T16:39:51.241313Z",
     "start_time": "2021-04-10T16:39:51.236249Z"
    },
    "execution": {
     "iopub.execute_input": "2020-10-01T01:21:26.157469Z",
     "iopub.status.busy": "2020-10-01T01:21:26.156799Z",
     "iopub.status.idle": "2020-10-01T01:21:26.160793Z",
     "shell.execute_reply": "2020-10-01T01:21:26.160163Z"
    },
    "papermill": {
     "duration": 0.030187,
     "end_time": "2020-10-01T01:21:26.160901",
     "exception": false,
     "start_time": "2020-10-01T01:21:26.130714",
     "status": "completed"
    },
    "tags": []
   },
   "outputs": [
    {
     "data": {
      "text/plain": [
       "['VENUS!', 'EARTH!', 'MARS!']"
      ]
     },
     "execution_count": 12,
     "metadata": {},
     "output_type": "execute_result"
    }
   ],
   "source": [
    "[\n",
    "    planet.upper() + '!' \n",
    "    for planet in planets \n",
    "    if len(planet) < 6\n",
    "]"
   ]
  },
  {
   "cell_type": "markdown",
   "metadata": {
    "papermill": {
     "duration": 0.021252,
     "end_time": "2020-10-01T01:21:26.204160",
     "exception": false,
     "start_time": "2020-10-01T01:21:26.182908",
     "status": "completed"
    },
    "tags": []
   },
   "source": [
    "(Continuing the SQL analogy, you could think of these three lines as SELECT, FROM, and WHERE)\n",
    "\n",
    "The expression on the left doesn't technically have to involve the loop variable (though it'd be pretty unusual for it not to). What do you think the expression below will evaluate to? Press the 'output' button to check. "
   ]
  },
  {
   "cell_type": "code",
   "execution_count": null,
   "metadata": {
    "ExecuteTime": {
     "end_time": "2021-04-10T16:41:54.544893Z",
     "start_time": "2021-04-10T16:41:54.540280Z"
    },
    "_kg_hide-output": true,
    "execution": {
     "iopub.execute_input": "2020-10-01T01:21:26.253197Z",
     "iopub.status.busy": "2020-10-01T01:21:26.252366Z",
     "iopub.status.idle": "2020-10-01T01:21:26.256381Z",
     "shell.execute_reply": "2020-10-01T01:21:26.255763Z"
    },
    "papermill": {
     "duration": 0.0308,
     "end_time": "2020-10-01T01:21:26.256490",
     "exception": false,
     "start_time": "2020-10-01T01:21:26.225690",
     "status": "completed"
    },
    "tags": []
   },
   "outputs": [],
   "source": [
    "[32 for planet in planets]"
   ]
  },
  {
   "cell_type": "markdown",
   "metadata": {
    "papermill": {
     "duration": 0.021976,
     "end_time": "2020-10-01T01:21:26.300917",
     "exception": false,
     "start_time": "2020-10-01T01:21:26.278941",
     "status": "completed"
    },
    "tags": []
   },
   "source": [
    "List comprehensions combined with functions like `min`, `max`, and `sum` can lead to impressive one-line solutions for problems that would otherwise require several lines of code. \n",
    "\n",
    "For example, compare the following two cells of code that do the same thing.\n"
   ]
  },
  {
   "cell_type": "code",
   "execution_count": 14,
   "metadata": {
    "ExecuteTime": {
     "end_time": "2021-04-10T16:44:19.637312Z",
     "start_time": "2021-04-10T16:44:19.633543Z"
    },
    "execution": {
     "iopub.execute_input": "2020-10-01T01:21:26.348945Z",
     "iopub.status.busy": "2020-10-01T01:21:26.348276Z",
     "iopub.status.idle": "2020-10-01T01:21:26.353228Z",
     "shell.execute_reply": "2020-10-01T01:21:26.353758Z"
    },
    "papermill": {
     "duration": 0.030557,
     "end_time": "2020-10-01T01:21:26.353905",
     "exception": false,
     "start_time": "2020-10-01T01:21:26.323348",
     "status": "completed"
    },
    "tags": []
   },
   "outputs": [],
   "source": [
    "def count_negatives(nums):\n",
    "    \"\"\"Return the number of negative numbers in the given list.\n",
    "    \n",
    "    >>> count_negatives([5, -1, -2, 0, 3])\n",
    "    2\n",
    "    \"\"\"\n",
    "    n_negative = 0\n",
    "    for num in nums:\n",
    "        if num < 0:\n",
    "            n_negative = n_negative + 1\n",
    "    return n_negative"
   ]
  },
  {
   "cell_type": "markdown",
   "metadata": {
    "papermill": {
     "duration": 0.021989,
     "end_time": "2020-10-01T01:21:26.397855",
     "exception": false,
     "start_time": "2020-10-01T01:21:26.375866",
     "status": "completed"
    },
    "tags": []
   },
   "source": [
    "Here's a solution using a list comprehension:"
   ]
  },
  {
   "cell_type": "code",
   "execution_count": 15,
   "metadata": {
    "ExecuteTime": {
     "end_time": "2021-04-10T16:44:23.564527Z",
     "start_time": "2021-04-10T16:44:23.560699Z"
    },
    "execution": {
     "iopub.execute_input": "2020-10-01T01:21:26.445083Z",
     "iopub.status.busy": "2020-10-01T01:21:26.444367Z",
     "iopub.status.idle": "2020-10-01T01:21:26.448477Z",
     "shell.execute_reply": "2020-10-01T01:21:26.448988Z"
    },
    "papermill": {
     "duration": 0.029113,
     "end_time": "2020-10-01T01:21:26.449145",
     "exception": false,
     "start_time": "2020-10-01T01:21:26.420032",
     "status": "completed"
    },
    "tags": []
   },
   "outputs": [],
   "source": [
    "def count_negatives(nums):\n",
    "    return len([num for num in nums if num < 0])"
   ]
  },
  {
   "cell_type": "markdown",
   "metadata": {
    "papermill": {
     "duration": 0.021826,
     "end_time": "2020-10-01T01:21:26.493271",
     "exception": false,
     "start_time": "2020-10-01T01:21:26.471445",
     "status": "completed"
    },
    "tags": []
   },
   "source": [
    "Much better, right?\n",
    "\n",
    "Well if all we care about is minimizing the length of our code, this third solution is better still!"
   ]
  },
  {
   "cell_type": "code",
   "execution_count": 16,
   "metadata": {
    "ExecuteTime": {
     "end_time": "2021-04-10T16:45:02.062014Z",
     "start_time": "2021-04-10T16:45:02.057881Z"
    },
    "execution": {
     "iopub.execute_input": "2020-10-01T01:21:26.542739Z",
     "iopub.status.busy": "2020-10-01T01:21:26.541982Z",
     "iopub.status.idle": "2020-10-01T01:21:26.544422Z",
     "shell.execute_reply": "2020-10-01T01:21:26.544987Z"
    },
    "papermill": {
     "duration": 0.029788,
     "end_time": "2020-10-01T01:21:26.545130",
     "exception": false,
     "start_time": "2020-10-01T01:21:26.515342",
     "status": "completed"
    },
    "tags": []
   },
   "outputs": [],
   "source": [
    "def count_negatives(nums):\n",
    "    # Reminder: in the \"booleans and conditionals\" exercises, we learned about a quirk of \n",
    "    # Python where it calculates something like True + True + False + True to be equal to 3.\n",
    "    return sum([num < 0 for num in nums])"
   ]
  },
  {
   "cell_type": "markdown",
   "metadata": {
    "papermill": {
     "duration": 0.022395,
     "end_time": "2020-10-01T01:21:26.589824",
     "exception": false,
     "start_time": "2020-10-01T01:21:26.567429",
     "status": "completed"
    },
    "tags": []
   },
   "source": [
    "Which of these solutions is the \"best\" is entirely subjective. Solving a problem with less code is always nice, but it's worth keeping in mind the following lines from [The Zen of Python](https://en.wikipedia.org/wiki/Zen_of_Python):\n",
    "\n",
    "> Readability counts.  \n",
    "> Explicit is better than implicit.\n",
    "\n",
    "So, use these tools to make compact readable programs. But when you have to choose, favor code that is easy for others to understand."
   ]
  },
  {
   "cell_type": "markdown",
   "metadata": {},
   "source": [
    "# Exercises"
   ]
  },
  {
   "cell_type": "markdown",
   "metadata": {},
   "source": [
    "## 1.\n",
    "\n",
    "Have you ever felt debugging involved a bit of luck? The following program has a bug. Try to identify the bug and fix it."
   ]
  },
  {
   "cell_type": "code",
   "execution_count": null,
   "metadata": {},
   "outputs": [],
   "source": [
    "def has_lucky_number(nums):\n",
    "    \"\"\"Return whether the given list of numbers is lucky. A lucky list contains\n",
    "    at least one number divisible by 7.\n",
    "    \"\"\"\n",
    "    for num in nums:\n",
    "        if num % 7 == 0:\n",
    "            return True\n",
    "        else:\n",
    "            return False"
   ]
  },
  {
   "cell_type": "markdown",
   "metadata": {},
   "source": [
    "Try to identify the bug and fix it in the cell below:"
   ]
  },
  {
   "cell_type": "code",
   "execution_count": null,
   "metadata": {},
   "outputs": [],
   "source": [
    "def has_lucky_number(nums):\n",
    "    \"\"\"Return whether the given list of numbers is lucky. A lucky list contains\n",
    "    at least one number divisible by 7.\n",
    "    \"\"\"\n",
    "    for num in nums:\n",
    "        if num % 7 == 0:\n",
    "            return True\n",
    "        else:\n",
    "            return False"
   ]
  },
  {
   "cell_type": "markdown",
   "metadata": {},
   "source": [
    "## 2.\n",
    "\n",
    "### a.\n",
    "Look at the Python expression below. What do you think we'll get when we run it? When you've made your prediction, uncomment the code and run the cell to see if you were right."
   ]
  },
  {
   "cell_type": "code",
   "execution_count": null,
   "metadata": {},
   "outputs": [],
   "source": [
    "#[1, 2, 3, 4] > 2"
   ]
  },
  {
   "cell_type": "markdown",
   "metadata": {},
   "source": [
    "### b\n",
    "R and Python have some libraries (like numpy and pandas) compare each element of the list to 2 (i.e. do an 'element-wise' comparison) and give us a list of booleans like `[False, False, True, True]`. \n",
    "\n",
    "Implement a function that reproduces this behaviour, returning a list of booleans corresponding to whether the corresponding element is greater than n.\n"
   ]
  },
  {
   "cell_type": "code",
   "execution_count": null,
   "metadata": {},
   "outputs": [],
   "source": [
    "def elementwise_greater_than(L, thresh):\n",
    "    \"\"\"Return a list with the same length as L, where the value at index i is \n",
    "    True if L[i] is greater than thresh, and False otherwise.\n",
    "    \n",
    "    >>> elementwise_greater_than([1, 2, 3, 4], 2)\n",
    "    [False, False, True, True]\n",
    "    \"\"\"\n",
    "    pass"
   ]
  },
  {
   "cell_type": "markdown",
   "metadata": {},
   "source": [
    "## 3.\n",
    "\n",
    "Complete the body of the function below according to its docstring."
   ]
  },
  {
   "cell_type": "code",
   "execution_count": null,
   "metadata": {},
   "outputs": [],
   "source": [
    "def menu_is_boring(meals):\n",
    "    \"\"\"Given a list of meals served over some period of time, return True if the\n",
    "    same meal has ever been served two days in a row, and False otherwise.\n",
    "    \"\"\"\n",
    "    pass"
   ]
  }
 ],
 "metadata": {
  "anaconda-cloud": {},
  "hide_input": false,
  "kernelspec": {
   "display_name": "Tf2_Py37",
   "language": "python",
   "name": "tf2_py37"
  },
  "language_info": {
   "codemirror_mode": {
    "name": "ipython",
    "version": 3
   },
   "file_extension": ".py",
   "mimetype": "text/x-python",
   "name": "python",
   "nbconvert_exporter": "python",
   "pygments_lexer": "ipython3",
   "version": "3.7.7"
  },
  "learntools_metadata": {
   "lesson_index": 4,
   "type": "tutorial"
  },
  "nbTranslate": {
   "displayLangs": [
    "*"
   ],
   "hotkey": "alt-t",
   "langInMainMenu": true,
   "sourceLang": "en",
   "targetLang": "fr",
   "useGoogleTranslate": true
  },
  "papermill": {
   "duration": 6.179388,
   "end_time": "2020-10-01T01:21:26.809120",
   "environment_variables": {},
   "exception": null,
   "input_path": "__notebook__.ipynb",
   "output_path": "__notebook__.ipynb",
   "parameters": {},
   "start_time": "2020-10-01T01:21:20.629732",
   "version": "2.1.0"
  },
  "toc": {
   "base_numbering": 1,
   "nav_menu": {},
   "number_sections": true,
   "sideBar": true,
   "skip_h1_title": true,
   "title_cell": "Table of Contents",
   "title_sidebar": "Contents",
   "toc_cell": false,
   "toc_position": {},
   "toc_section_display": true,
   "toc_window_display": true
  },
  "varInspector": {
   "cols": {
    "lenName": 16,
    "lenType": 16,
    "lenVar": 40
   },
   "kernels_config": {
    "python": {
     "delete_cmd_postfix": "",
     "delete_cmd_prefix": "del ",
     "library": "var_list.py",
     "varRefreshCmd": "print(var_dic_list())"
    },
    "r": {
     "delete_cmd_postfix": ") ",
     "delete_cmd_prefix": "rm(",
     "library": "var_list.r",
     "varRefreshCmd": "cat(var_dic_list()) "
    }
   },
   "types_to_exclude": [
    "module",
    "function",
    "builtin_function_or_method",
    "instance",
    "_Feature"
   ],
   "window_display": false
  }
 },
 "nbformat": 4,
 "nbformat_minor": 2
}
