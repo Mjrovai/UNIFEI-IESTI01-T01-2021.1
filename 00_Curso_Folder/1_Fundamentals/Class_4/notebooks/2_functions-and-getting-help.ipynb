{
 "cells": [
  {
   "cell_type": "markdown",
   "metadata": {},
   "source": [
    "# Python4DS Quick Review - 2 \n",
    "Based on Kaggle Python Course"
   ]
  },
  {
   "cell_type": "markdown",
   "metadata": {
    "papermill": {
     "duration": 0.026988,
     "end_time": "2020-10-19T20:35:58.942068",
     "exception": false,
     "start_time": "2020-10-19T20:35:58.915080",
     "status": "completed"
    },
    "tags": []
   },
   "source": [
    "##  Introduction\n",
    "You've already seen and used functions such as `print` and `abs`. But Python has many more functions, and defining your own functions is a big part of python programming.\n",
    "\n",
    "In this lesson you will learn more about using and defining functions."
   ]
  },
  {
   "cell_type": "markdown",
   "metadata": {
    "papermill": {
     "duration": 0.030698,
     "end_time": "2020-10-19T20:35:58.997222",
     "exception": false,
     "start_time": "2020-10-19T20:35:58.966524",
     "status": "completed"
    },
    "tags": []
   },
   "source": [
    "## Getting Help\n",
    "\n",
    "You saw the `abs` function in the previous tutorial, but what if you've forgotten what it does?\n",
    "\n",
    "The `help()` function is possibly the most important Python function you can learn. If you can remember how to use `help()`, you hold the key to understanding most other functions.\n",
    "\n",
    "Here is an example:"
   ]
  },
  {
   "cell_type": "code",
   "execution_count": null,
   "metadata": {
    "ExecuteTime": {
     "end_time": "2021-04-08T21:25:30.154513Z",
     "start_time": "2021-04-08T21:25:30.150461Z"
    },
    "execution": {
     "iopub.execute_input": "2020-10-19T20:35:59.052605Z",
     "iopub.status.busy": "2020-10-19T20:35:59.051690Z",
     "iopub.status.idle": "2020-10-19T20:35:59.057306Z",
     "shell.execute_reply": "2020-10-19T20:35:59.057921Z"
    },
    "papermill": {
     "duration": 0.036501,
     "end_time": "2020-10-19T20:35:59.058109",
     "exception": false,
     "start_time": "2020-10-19T20:35:59.021608",
     "status": "completed"
    },
    "tags": []
   },
   "outputs": [],
   "source": [
    "help(round)"
   ]
  },
  {
   "cell_type": "markdown",
   "metadata": {
    "papermill": {
     "duration": 0.028745,
     "end_time": "2020-10-19T20:35:59.113695",
     "exception": false,
     "start_time": "2020-10-19T20:35:59.084950",
     "status": "completed"
    },
    "tags": []
   },
   "source": [
    "`help()` displays two things:\n",
    "\n",
    "1. the header of that function `round(number[, ndigits])`. In this case, this tells us that `round()` takes an argument we can describe as `number`. Additionally, we can optionally give a separate argument which could be described as `ndigits`.\n",
    "2. A brief English description of what the function does. "
   ]
  },
  {
   "cell_type": "markdown",
   "metadata": {
    "papermill": {
     "duration": 0.024704,
     "end_time": "2020-10-19T20:35:59.166318",
     "exception": false,
     "start_time": "2020-10-19T20:35:59.141614",
     "status": "completed"
    },
    "tags": []
   },
   "source": [
    "**Common pitfall:** when you're looking up a function, remember to pass in the name of the function itself, and not the result of calling that function. \n",
    "\n",
    "What happens if we invoke help on a *call* to the function `abs()`? Unhide the output of the cell below to see."
   ]
  },
  {
   "cell_type": "code",
   "execution_count": null,
   "metadata": {
    "ExecuteTime": {
     "end_time": "2021-04-08T21:34:36.394116Z",
     "start_time": "2021-04-08T21:34:36.374872Z"
    },
    "_kg_hide-output": true,
    "execution": {
     "iopub.execute_input": "2020-10-19T20:35:59.242260Z",
     "iopub.status.busy": "2020-10-19T20:35:59.229894Z",
     "iopub.status.idle": "2020-10-19T20:35:59.247568Z",
     "shell.execute_reply": "2020-10-19T20:35:59.246960Z"
    },
    "papermill": {
     "duration": 0.056275,
     "end_time": "2020-10-19T20:35:59.247727",
     "exception": false,
     "start_time": "2020-10-19T20:35:59.191452",
     "status": "completed"
    },
    "tags": []
   },
   "outputs": [],
   "source": [
    "help(round(-2.01))"
   ]
  },
  {
   "cell_type": "markdown",
   "metadata": {
    "papermill": {
     "duration": 0.025225,
     "end_time": "2020-10-19T20:35:59.298667",
     "exception": false,
     "start_time": "2020-10-19T20:35:59.273442",
     "status": "completed"
    },
    "tags": []
   },
   "source": [
    "Python evaluates an expression like this from the inside out. First it calculates the value of `round(-2.01)`, then it provides help on the output of that expression.\n",
    "\n",
    "<small>(And it turns out to have a lot to say about integers! After we talk later about objects, methods, and attributes in Python, the voluminous help output above will make more sense.)</small>\n",
    "\n",
    "`round` is a very simple function with a short docstring. `help` shines even more when dealing with more complex, configurable functions like `print`. Don't worry if the following output looks inscrutable... for now, just see if you can pick anything new out from this help."
   ]
  },
  {
   "cell_type": "code",
   "execution_count": null,
   "metadata": {
    "ExecuteTime": {
     "end_time": "2021-04-08T21:27:10.978172Z",
     "start_time": "2021-04-08T21:27:10.974096Z"
    },
    "execution": {
     "iopub.execute_input": "2020-10-19T20:35:59.355739Z",
     "iopub.status.busy": "2020-10-19T20:35:59.354772Z",
     "iopub.status.idle": "2020-10-19T20:35:59.358198Z",
     "shell.execute_reply": "2020-10-19T20:35:59.358800Z"
    },
    "papermill": {
     "duration": 0.034832,
     "end_time": "2020-10-19T20:35:59.358956",
     "exception": false,
     "start_time": "2020-10-19T20:35:59.324124",
     "status": "completed"
    },
    "tags": []
   },
   "outputs": [],
   "source": [
    "help(print)"
   ]
  },
  {
   "cell_type": "markdown",
   "metadata": {
    "papermill": {
     "duration": 0.025619,
     "end_time": "2020-10-19T20:35:59.410775",
     "exception": false,
     "start_time": "2020-10-19T20:35:59.385156",
     "status": "completed"
    },
    "tags": []
   },
   "source": [
    "If you were looking for it, you might learn that print can take an argument called `sep`, and that this describes what we put between all the other arguments when we print them."
   ]
  },
  {
   "cell_type": "markdown",
   "metadata": {
    "papermill": {
     "duration": 0.025578,
     "end_time": "2020-10-19T20:35:59.462359",
     "exception": false,
     "start_time": "2020-10-19T20:35:59.436781",
     "status": "completed"
    },
    "tags": []
   },
   "source": [
    "## Defining functions\n",
    "\n",
    "Builtin functions are great, but we can only get so far with them before we need to start defining our own functions. Below is a simple example."
   ]
  },
  {
   "cell_type": "code",
   "execution_count": null,
   "metadata": {
    "ExecuteTime": {
     "end_time": "2021-04-08T21:34:44.299657Z",
     "start_time": "2021-04-08T21:34:44.295988Z"
    },
    "execution": {
     "iopub.execute_input": "2020-10-19T20:35:59.521077Z",
     "iopub.status.busy": "2020-10-19T20:35:59.520196Z",
     "iopub.status.idle": "2020-10-19T20:35:59.522443Z",
     "shell.execute_reply": "2020-10-19T20:35:59.523020Z"
    },
    "papermill": {
     "duration": 0.034891,
     "end_time": "2020-10-19T20:35:59.523175",
     "exception": false,
     "start_time": "2020-10-19T20:35:59.488284",
     "status": "completed"
    },
    "tags": []
   },
   "outputs": [],
   "source": [
    "def least_difference(a, b, c):\n",
    "    diff1 = abs(a - b)\n",
    "    diff2 = abs(b - c)\n",
    "    diff3 = abs(a - c)\n",
    "    return min(diff1, diff2, diff3)"
   ]
  },
  {
   "cell_type": "markdown",
   "metadata": {
    "papermill": {
     "duration": 0.025826,
     "end_time": "2020-10-19T20:35:59.574998",
     "exception": false,
     "start_time": "2020-10-19T20:35:59.549172",
     "status": "completed"
    },
    "tags": []
   },
   "source": [
    "This creates a function called `least_difference`, which takes three arguments, `a`, `b`, and `c`.\n",
    "\n",
    "Functions start with a header introduced by the `def` keyword. The indented block of code following the `:` is run when the function is called.\n",
    "\n",
    "`return` is another keyword uniquely associated with functions. When Python encounters a `return` statement, it exits the function immediately, and passes the value on the right hand side to the calling context.\n",
    "\n",
    "Is it clear what `least_difference()` does from the source code? If we're not sure, we can always try it out on a few examples:"
   ]
  },
  {
   "cell_type": "code",
   "execution_count": null,
   "metadata": {
    "ExecuteTime": {
     "end_time": "2021-04-08T21:34:48.293420Z",
     "start_time": "2021-04-08T21:34:48.289355Z"
    },
    "execution": {
     "iopub.execute_input": "2020-10-19T20:35:59.635351Z",
     "iopub.status.busy": "2020-10-19T20:35:59.634344Z",
     "iopub.status.idle": "2020-10-19T20:35:59.637786Z",
     "shell.execute_reply": "2020-10-19T20:35:59.638347Z"
    },
    "papermill": {
     "duration": 0.036082,
     "end_time": "2020-10-19T20:35:59.638507",
     "exception": false,
     "start_time": "2020-10-19T20:35:59.602425",
     "status": "completed"
    },
    "tags": []
   },
   "outputs": [],
   "source": [
    "print(\n",
    "    least_difference(1, 10, 100),\n",
    "    least_difference(1, 10, 10),\n",
    "    least_difference(5, 6, 7), # Python allows trailing commas in argument lists. How nice is that?\n",
    ")"
   ]
  },
  {
   "cell_type": "markdown",
   "metadata": {
    "papermill": {
     "duration": 0.026059,
     "end_time": "2020-10-19T20:35:59.691017",
     "exception": false,
     "start_time": "2020-10-19T20:35:59.664958",
     "status": "completed"
    },
    "tags": []
   },
   "source": [
    "Or maybe the `help()` function can tell us something about it."
   ]
  },
  {
   "cell_type": "code",
   "execution_count": null,
   "metadata": {
    "ExecuteTime": {
     "end_time": "2021-04-08T21:34:53.908034Z",
     "start_time": "2021-04-08T21:34:53.903397Z"
    },
    "execution": {
     "iopub.execute_input": "2020-10-19T20:35:59.750019Z",
     "iopub.status.busy": "2020-10-19T20:35:59.749092Z",
     "iopub.status.idle": "2020-10-19T20:35:59.754012Z",
     "shell.execute_reply": "2020-10-19T20:35:59.753328Z"
    },
    "papermill": {
     "duration": 0.03675,
     "end_time": "2020-10-19T20:35:59.754146",
     "exception": false,
     "start_time": "2020-10-19T20:35:59.717396",
     "status": "completed"
    },
    "tags": []
   },
   "outputs": [],
   "source": [
    "help(least_difference)"
   ]
  },
  {
   "cell_type": "markdown",
   "metadata": {
    "papermill": {
     "duration": 0.026697,
     "end_time": "2020-10-19T20:35:59.807869",
     "exception": false,
     "start_time": "2020-10-19T20:35:59.781172",
     "status": "completed"
    },
    "tags": []
   },
   "source": [
    "Python isn't smart enough to read my code and turn it into a nice English description. However, when I write a function, I can provide a description in what's called the **docstring**.\n",
    "\n",
    "### Docstrings"
   ]
  },
  {
   "cell_type": "code",
   "execution_count": null,
   "metadata": {
    "ExecuteTime": {
     "end_time": "2021-04-08T21:35:01.885391Z",
     "start_time": "2021-04-08T21:35:01.877490Z"
    },
    "execution": {
     "iopub.execute_input": "2020-10-19T20:35:59.869469Z",
     "iopub.status.busy": "2020-10-19T20:35:59.868725Z",
     "iopub.status.idle": "2020-10-19T20:35:59.871939Z",
     "shell.execute_reply": "2020-10-19T20:35:59.871121Z"
    },
    "papermill": {
     "duration": 0.037118,
     "end_time": "2020-10-19T20:35:59.872070",
     "exception": false,
     "start_time": "2020-10-19T20:35:59.834952",
     "status": "completed"
    },
    "tags": []
   },
   "outputs": [],
   "source": [
    "def least_difference(a, b, c):\n",
    "    \"\"\"Return the smallest difference between any two numbers\n",
    "    among a, b and c.\n",
    "    \n",
    "    >>> least_difference(1, 5, -5)\n",
    "    4\n",
    "    \"\"\"\n",
    "    diff1 = abs(a - b)\n",
    "    diff2 = abs(b - c)\n",
    "    diff3 = abs(a - c)\n",
    "    return min(diff1, diff2, diff3)"
   ]
  },
  {
   "cell_type": "markdown",
   "metadata": {
    "papermill": {
     "duration": 0.0266,
     "end_time": "2020-10-19T20:35:59.925832",
     "exception": false,
     "start_time": "2020-10-19T20:35:59.899232",
     "status": "completed"
    },
    "tags": []
   },
   "source": [
    "The docstring is a triple-quoted string (which may span multiple lines) that comes immediately after the header of a function. When we call `help()` on a function, it shows the docstring."
   ]
  },
  {
   "cell_type": "code",
   "execution_count": null,
   "metadata": {
    "ExecuteTime": {
     "end_time": "2021-04-08T21:35:05.660976Z",
     "start_time": "2021-04-08T21:35:05.657329Z"
    },
    "execution": {
     "iopub.execute_input": "2020-10-19T20:35:59.987285Z",
     "iopub.status.busy": "2020-10-19T20:35:59.986215Z",
     "iopub.status.idle": "2020-10-19T20:35:59.989887Z",
     "shell.execute_reply": "2020-10-19T20:35:59.990467Z"
    },
    "papermill": {
     "duration": 0.037711,
     "end_time": "2020-10-19T20:35:59.990646",
     "exception": false,
     "start_time": "2020-10-19T20:35:59.952935",
     "status": "completed"
    },
    "tags": []
   },
   "outputs": [],
   "source": [
    "help(least_difference)"
   ]
  },
  {
   "cell_type": "markdown",
   "metadata": {
    "papermill": {
     "duration": 0.027008,
     "end_time": "2020-10-19T20:36:00.045252",
     "exception": false,
     "start_time": "2020-10-19T20:36:00.018244",
     "status": "completed"
    },
    "tags": []
   },
   "source": [
    "> **Aside: example calls**\n",
    "> The last two lines of the docstring are an example function call and result. (The `>>>` is a reference to the command prompt used in Python interactive shells.) Python doesn't run the example call - it's just there for the benefit of the reader. The convention of including 1 or more example calls in a function's docstring is far from universally observed, but it can be very effective at helping someone understand your function. For a real-world example of, see [this docstring for the numpy function `np.eye`](https://github.com/numpy/numpy/blob/v1.14.2/numpy/lib/twodim_base.py#L140-L194)."
   ]
  },
  {
   "cell_type": "markdown",
   "metadata": {
    "papermill": {
     "duration": 0.027452,
     "end_time": "2020-10-19T20:36:00.101341",
     "exception": false,
     "start_time": "2020-10-19T20:36:00.073889",
     "status": "completed"
    },
    "tags": []
   },
   "source": [
    "Good programmers use docstrings unless they expect to throw away the code soon after it's used (which is rare).  So, you should start writing docstrings too."
   ]
  },
  {
   "cell_type": "markdown",
   "metadata": {
    "papermill": {
     "duration": 0.029526,
     "end_time": "2020-10-19T20:36:00.161012",
     "exception": false,
     "start_time": "2020-10-19T20:36:00.131486",
     "status": "completed"
    },
    "tags": []
   },
   "source": [
    "## Functions that don't return\n",
    "\n",
    "What would happen if we didn't include the `return` keyword in our function?"
   ]
  },
  {
   "cell_type": "code",
   "execution_count": null,
   "metadata": {
    "ExecuteTime": {
     "end_time": "2021-04-08T21:35:10.616578Z",
     "start_time": "2021-04-08T21:35:10.610609Z"
    },
    "execution": {
     "iopub.execute_input": "2020-10-19T20:36:00.226520Z",
     "iopub.status.busy": "2020-10-19T20:36:00.225501Z",
     "iopub.status.idle": "2020-10-19T20:36:00.229843Z",
     "shell.execute_reply": "2020-10-19T20:36:00.229116Z"
    },
    "papermill": {
     "duration": 0.040219,
     "end_time": "2020-10-19T20:36:00.229976",
     "exception": false,
     "start_time": "2020-10-19T20:36:00.189757",
     "status": "completed"
    },
    "tags": []
   },
   "outputs": [],
   "source": [
    "def least_difference(a, b, c):\n",
    "    \"\"\"Return the smallest difference between any two numbers\n",
    "    among a, b and c.\n",
    "    \"\"\"\n",
    "    diff1 = abs(a - b)\n",
    "    diff2 = abs(b - c)\n",
    "    diff3 = abs(a - c)\n",
    "    min(diff1, diff2, diff3)\n",
    "    \n",
    "print(\n",
    "    least_difference(1, 10, 100),\n",
    "    least_difference(1, 10, 10),\n",
    "    least_difference(5, 6, 7),\n",
    ")"
   ]
  },
  {
   "cell_type": "markdown",
   "metadata": {
    "papermill": {
     "duration": 0.027515,
     "end_time": "2020-10-19T20:36:00.285667",
     "exception": false,
     "start_time": "2020-10-19T20:36:00.258152",
     "status": "completed"
    },
    "tags": []
   },
   "source": [
    "Python allows us to define such functions. The result of calling them is the special value `None`. (This is similar to the concept of \"null\" in other languages.)\n",
    "\n",
    "Without a `return` statement, `least_difference` is completely pointless, but a function with side effects may do something useful without returning anything. We've already seen two examples of this: `print()` and `help()` don't return anything. We only call them for their side effects (putting some text on the screen). Other examples of useful side effects include writing to a file, or modifying an input."
   ]
  },
  {
   "cell_type": "code",
   "execution_count": null,
   "metadata": {
    "ExecuteTime": {
     "end_time": "2021-04-08T21:35:15.138020Z",
     "start_time": "2021-04-08T21:35:15.133875Z"
    },
    "execution": {
     "iopub.execute_input": "2020-10-19T20:36:00.348080Z",
     "iopub.status.busy": "2020-10-19T20:36:00.347302Z",
     "iopub.status.idle": "2020-10-19T20:36:00.351480Z",
     "shell.execute_reply": "2020-10-19T20:36:00.350825Z"
    },
    "papermill": {
     "duration": 0.037578,
     "end_time": "2020-10-19T20:36:00.351633",
     "exception": false,
     "start_time": "2020-10-19T20:36:00.314055",
     "status": "completed"
    },
    "tags": []
   },
   "outputs": [],
   "source": [
    "mystery = print()\n",
    "print(mystery)"
   ]
  },
  {
   "cell_type": "markdown",
   "metadata": {
    "papermill": {
     "duration": 0.028064,
     "end_time": "2020-10-19T20:36:00.408117",
     "exception": false,
     "start_time": "2020-10-19T20:36:00.380053",
     "status": "completed"
    },
    "tags": []
   },
   "source": [
    "## Default arguments\n",
    "\n",
    "When we called `help(print)`, we saw that the `print` function has several optional arguments. For example, we can specify a value for `sep` to put some special string in between our printed arguments:"
   ]
  },
  {
   "cell_type": "code",
   "execution_count": null,
   "metadata": {
    "ExecuteTime": {
     "end_time": "2021-04-08T21:34:22.496176Z",
     "start_time": "2021-04-08T21:34:22.492418Z"
    },
    "execution": {
     "iopub.execute_input": "2020-10-19T20:36:00.470657Z",
     "iopub.status.busy": "2020-10-19T20:36:00.469878Z",
     "iopub.status.idle": "2020-10-19T20:36:00.473552Z",
     "shell.execute_reply": "2020-10-19T20:36:00.472844Z"
    },
    "papermill": {
     "duration": 0.037203,
     "end_time": "2020-10-19T20:36:00.473738",
     "exception": false,
     "start_time": "2020-10-19T20:36:00.436535",
     "status": "completed"
    },
    "tags": []
   },
   "outputs": [],
   "source": [
    "print(1, 2, 3, sep=' < ')"
   ]
  },
  {
   "cell_type": "markdown",
   "metadata": {
    "papermill": {
     "duration": 0.028427,
     "end_time": "2020-10-19T20:36:00.530929",
     "exception": false,
     "start_time": "2020-10-19T20:36:00.502502",
     "status": "completed"
    },
    "tags": []
   },
   "source": [
    "But if we don't specify a value, `sep` is treated as having a default value of `' '` (a single space)."
   ]
  },
  {
   "cell_type": "code",
   "execution_count": null,
   "metadata": {
    "ExecuteTime": {
     "end_time": "2021-04-08T21:34:19.541913Z",
     "start_time": "2021-04-08T21:34:19.539267Z"
    },
    "execution": {
     "iopub.execute_input": "2020-10-19T20:36:00.595296Z",
     "iopub.status.busy": "2020-10-19T20:36:00.594484Z",
     "iopub.status.idle": "2020-10-19T20:36:00.597458Z",
     "shell.execute_reply": "2020-10-19T20:36:00.598179Z"
    },
    "papermill": {
     "duration": 0.038349,
     "end_time": "2020-10-19T20:36:00.598337",
     "exception": false,
     "start_time": "2020-10-19T20:36:00.559988",
     "status": "completed"
    },
    "tags": []
   },
   "outputs": [],
   "source": [
    "print(1, 2, 3)"
   ]
  },
  {
   "cell_type": "markdown",
   "metadata": {
    "papermill": {
     "duration": 0.029048,
     "end_time": "2020-10-19T20:36:00.657081",
     "exception": false,
     "start_time": "2020-10-19T20:36:00.628033",
     "status": "completed"
    },
    "tags": []
   },
   "source": [
    "Adding optional arguments with default values to the functions we define turns out to be pretty easy:"
   ]
  },
  {
   "cell_type": "code",
   "execution_count": null,
   "metadata": {
    "ExecuteTime": {
     "end_time": "2021-04-08T21:34:01.298343Z",
     "start_time": "2021-04-08T21:34:01.293459Z"
    },
    "execution": {
     "iopub.execute_input": "2020-10-19T20:36:00.724100Z",
     "iopub.status.busy": "2020-10-19T20:36:00.723315Z",
     "iopub.status.idle": "2020-10-19T20:36:00.728004Z",
     "shell.execute_reply": "2020-10-19T20:36:00.727251Z"
    },
    "papermill": {
     "duration": 0.041238,
     "end_time": "2020-10-19T20:36:00.728131",
     "exception": false,
     "start_time": "2020-10-19T20:36:00.686893",
     "status": "completed"
    },
    "tags": []
   },
   "outputs": [],
   "source": [
    "def greet(who=\"Colin\"):\n",
    "    print(\"Hello,\", who)\n",
    "    \n",
    "greet()\n",
    "greet(who=\"Alice\")\n",
    "# (In this case, we don't need to specify the name of the argument, because it's unambiguous.)\n",
    "greet(\"world\")"
   ]
  },
  {
   "cell_type": "markdown",
   "metadata": {
    "papermill": {
     "duration": 0.029553,
     "end_time": "2020-10-19T20:36:00.787603",
     "exception": false,
     "start_time": "2020-10-19T20:36:00.758050",
     "status": "completed"
    },
    "tags": []
   },
   "source": [
    "## Functions Applied to Functions\n",
    "\n",
    "Here's something that's powerful, though it can feel very abstract at first.  You can supply functions as arguments to other functions.  Some example may make this clearer:"
   ]
  },
  {
   "cell_type": "code",
   "execution_count": null,
   "metadata": {
    "ExecuteTime": {
     "end_time": "2021-04-08T21:35:29.649888Z",
     "start_time": "2021-04-08T21:35:29.643183Z"
    },
    "execution": {
     "iopub.execute_input": "2020-10-19T20:36:00.856037Z",
     "iopub.status.busy": "2020-10-19T20:36:00.854975Z",
     "iopub.status.idle": "2020-10-19T20:36:00.858703Z",
     "shell.execute_reply": "2020-10-19T20:36:00.859264Z"
    },
    "papermill": {
     "duration": 0.042076,
     "end_time": "2020-10-19T20:36:00.859428",
     "exception": false,
     "start_time": "2020-10-19T20:36:00.817352",
     "status": "completed"
    },
    "tags": []
   },
   "outputs": [],
   "source": [
    "def mult_by_five(x):\n",
    "    return 5 * x\n",
    "\n",
    "def call(fn, arg):\n",
    "    \"\"\"Call fn on arg\"\"\"\n",
    "    return fn(arg)\n",
    "\n",
    "def squared_call(fn, arg):\n",
    "    \"\"\"Call fn on the result of calling fn on arg\"\"\"\n",
    "    return fn(fn(arg))\n",
    "\n",
    "print(\n",
    "    call(mult_by_five, 1),\n",
    "    squared_call(mult_by_five, 1), \n",
    "    sep='\\n', # '\\n' is the newline character - it starts a new line\n",
    ")"
   ]
  },
  {
   "cell_type": "markdown",
   "metadata": {
    "papermill": {
     "duration": 0.030168,
     "end_time": "2020-10-19T20:36:00.920024",
     "exception": false,
     "start_time": "2020-10-19T20:36:00.889856",
     "status": "completed"
    },
    "tags": []
   },
   "source": [
    "Functions that operate on other functions are called \"Higher order functions.\" You probably won't write your own for a little while. But there are higher order functions built into Python that you might find useful to call. \n",
    "\n",
    "Here's an interesting example using the `max` function.\n",
    "\n",
    "By default, `max` returns the largest of its arguments. But if we pass in a function using the optional `key` argument, it returns the argument `x` that maximizes `key(x)` (aka the 'argmax')."
   ]
  },
  {
   "cell_type": "code",
   "execution_count": null,
   "metadata": {
    "ExecuteTime": {
     "end_time": "2021-04-08T21:35:49.559808Z",
     "start_time": "2021-04-08T21:35:49.555249Z"
    },
    "execution": {
     "iopub.execute_input": "2020-10-19T20:36:01.004608Z",
     "iopub.status.busy": "2020-10-19T20:36:01.003294Z",
     "iopub.status.idle": "2020-10-19T20:36:01.007736Z",
     "shell.execute_reply": "2020-10-19T20:36:01.008794Z"
    },
    "papermill": {
     "duration": 0.056579,
     "end_time": "2020-10-19T20:36:01.009052",
     "exception": false,
     "start_time": "2020-10-19T20:36:00.952473",
     "status": "completed"
    },
    "tags": []
   },
   "outputs": [],
   "source": [
    "def mod_5(x):\n",
    "    \"\"\"Return the remainder of x after dividing by 5\"\"\"\n",
    "    return x % 5\n",
    "\n",
    "print(\n",
    "    'Which number is biggest?',\n",
    "    max(100, 51, 14),\n",
    "    'Which number is the biggest modulo 5?',\n",
    "    max(100, 51, 14, key=mod_5),\n",
    "    sep='\\n',\n",
    ")"
   ]
  },
  {
   "cell_type": "markdown",
   "metadata": {},
   "source": [
    "# Exercices"
   ]
  },
  {
   "cell_type": "markdown",
   "metadata": {},
   "source": [
    "## 1.\n",
    "\n",
    "Complete the body of the following function according to its docstring.\n",
    "\n",
    "HINT: Python has a built-in function `round`."
   ]
  },
  {
   "cell_type": "code",
   "execution_count": null,
   "metadata": {},
   "outputs": [],
   "source": [
    "def round_to_two_places(num):\n",
    "    \"\"\"Return the given number rounded to two decimal places. \n",
    "    \n",
    "    >>> round_to_two_places(3.14159)\n",
    "    3.14\n",
    "    \"\"\"\n",
    "    # Replace this body with your own code. "
   ]
  },
  {
   "cell_type": "markdown",
   "metadata": {},
   "source": [
    "## 2.\n",
    "The help for `round` says that `ndigits` (the second argument) may be negative.\n",
    "What do you think will happen when it is? Try some examples in the following cell?\n",
    "\n",
    "Can you think of a case where this would be useful?"
   ]
  },
  {
   "cell_type": "code",
   "execution_count": null,
   "metadata": {},
   "outputs": [],
   "source": [
    "# Put your test code here\n"
   ]
  },
  {
   "cell_type": "markdown",
   "metadata": {},
   "source": [
    "## 3.\n",
    "\n",
    "In a previous programming problem, the candy-sharing friends Alice, Bob and Carol tried to split candies evenly. For the sake of their friendship, any candies left over would be smashed. For example, if they collectively bring home 91 candies, they'll take 30 each and smash 1.\n",
    "\n",
    "Below is a simple function that will calculate the number of candies to smash for *any* number of total candies.\n",
    "\n",
    "Modify it so that it optionally takes a second argument representing the number of friends the candies are being split between. If no second argument is provided, it should assume 3 friends, as before.\n",
    "\n",
    "Update the docstring to reflect this new behaviour."
   ]
  },
  {
   "cell_type": "code",
   "execution_count": null,
   "metadata": {},
   "outputs": [],
   "source": [
    "def to_smash(total_candies):\n",
    "    \"\"\"Return the number of leftover candies that must be smashed after distributing\n",
    "    the given number of candies evenly between 3 friends.\n",
    "    \n",
    "    >>> to_smash(91)\n",
    "    1\n",
    "    \"\"\"\n",
    "    "
   ]
  },
  {
   "cell_type": "markdown",
   "metadata": {},
   "source": [
    "## 4. (Optional)\n",
    "\n",
    "It may not be fun, but reading and understanding error messages will be an important part of your Python career.\n",
    "\n",
    "Each code cell below contains some commented-out buggy code. For each cell...\n",
    "\n",
    "1. Read the code and predict what you think will happen when it's run.\n",
    "2. Then uncomment the code and run it to see what happens. (**Tip**: In the kernel editor, you can highlight several lines and press `ctrl`+`/` to toggle commenting.)\n",
    "3. Fix the code (so that it accomplishes its intended purpose without throwing an exception)"
   ]
  },
  {
   "cell_type": "code",
   "execution_count": null,
   "metadata": {},
   "outputs": [],
   "source": [
    "# raound_to_two_places(9.9999)"
   ]
  },
  {
   "cell_type": "code",
   "execution_count": null,
   "metadata": {},
   "outputs": [],
   "source": [
    "# x = -10\n",
    "# y = 5\n",
    "# # Which of the two variables above has the smallest absolute value?\n",
    "# smallest_abs = min(abs(x,y))"
   ]
  },
  {
   "cell_type": "code",
   "execution_count": null,
   "metadata": {},
   "outputs": [],
   "source": [
    "# def f(x):\n",
    "#     y = abs(x)\n",
    "# return y\n",
    "\n",
    "# print(f(5))"
   ]
  }
 ],
 "metadata": {
  "hide_input": false,
  "kernelspec": {
   "display_name": "Tf2_Py37",
   "language": "python",
   "name": "tf2_py37"
  },
  "language_info": {
   "codemirror_mode": {
    "name": "ipython",
    "version": 3
   },
   "file_extension": ".py",
   "mimetype": "text/x-python",
   "name": "python",
   "nbconvert_exporter": "python",
   "pygments_lexer": "ipython3",
   "version": "3.7.7"
  },
  "learntools_metadata": {
   "lesson_index": 1,
   "type": "tutorial"
  },
  "nbTranslate": {
   "displayLangs": [
    "*"
   ],
   "hotkey": "alt-t",
   "langInMainMenu": true,
   "sourceLang": "en",
   "targetLang": "fr",
   "useGoogleTranslate": true
  },
  "papermill": {
   "duration": 7.383262,
   "end_time": "2020-10-19T20:36:01.279343",
   "environment_variables": {},
   "exception": null,
   "input_path": "__notebook__.ipynb",
   "output_path": "__notebook__.ipynb",
   "parameters": {},
   "start_time": "2020-10-19T20:35:53.896081",
   "version": "2.1.0"
  },
  "toc": {
   "base_numbering": 1,
   "nav_menu": {},
   "number_sections": true,
   "sideBar": true,
   "skip_h1_title": true,
   "title_cell": "Table of Contents",
   "title_sidebar": "Contents",
   "toc_cell": false,
   "toc_position": {},
   "toc_section_display": true,
   "toc_window_display": true
  },
  "varInspector": {
   "cols": {
    "lenName": 16,
    "lenType": 16,
    "lenVar": 40
   },
   "kernels_config": {
    "python": {
     "delete_cmd_postfix": "",
     "delete_cmd_prefix": "del ",
     "library": "var_list.py",
     "varRefreshCmd": "print(var_dic_list())"
    },
    "r": {
     "delete_cmd_postfix": ") ",
     "delete_cmd_prefix": "rm(",
     "library": "var_list.r",
     "varRefreshCmd": "cat(var_dic_list()) "
    }
   },
   "types_to_exclude": [
    "module",
    "function",
    "builtin_function_or_method",
    "instance",
    "_Feature"
   ],
   "window_display": false
  }
 },
 "nbformat": 4,
 "nbformat_minor": 2
}
