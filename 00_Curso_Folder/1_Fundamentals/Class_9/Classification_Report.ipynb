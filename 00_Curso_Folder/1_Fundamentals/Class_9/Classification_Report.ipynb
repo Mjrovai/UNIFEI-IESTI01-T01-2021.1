{
  "nbformat": 4,
  "nbformat_minor": 0,
  "metadata": {
    "colab": {
      "name": "Classification_Report.ipynb",
      "provenance": []
    },
    "kernelspec": {
      "name": "python3",
      "display_name": "Python 3"
    },
    "language_info": {
      "name": "python"
    }
  },
  "cells": [
    {
      "cell_type": "code",
      "metadata": {
        "id": "IjL6WJDZtlBZ"
      },
      "source": [
        "from sklearn.metrics import classification_report"
      ],
      "execution_count": 10,
      "outputs": []
    },
    {
      "cell_type": "code",
      "metadata": {
        "id": "bQ99YgDZt7W9"
      },
      "source": [
        "actual = [1, 1, 1, 1, 1, 1, 1, 1, 0, 0, 0, 0]\n",
        "prediction = [0, 0, 1, 1, 1, 1, 1, 1, 0, 0, 0, 1]"
      ],
      "execution_count": 3,
      "outputs": []
    },
    {
      "cell_type": "code",
      "metadata": {
        "id": "-4ct_XqjuZ36"
      },
      "source": [
        "target_names = ['Dogs', 'Cats']"
      ],
      "execution_count": 7,
      "outputs": []
    },
    {
      "cell_type": "code",
      "metadata": {
        "colab": {
          "base_uri": "https://localhost:8080/"
        },
        "id": "vhvS6tvmuh6h",
        "outputId": "feea1d17-765d-4d79-e012-25a3ef9a84c3"
      },
      "source": [
        "print(classification_report(actual, prediction, target_names=target_names))"
      ],
      "execution_count": 9,
      "outputs": [
        {
          "output_type": "stream",
          "text": [
            "              precision    recall  f1-score   support\n",
            "\n",
            "        Dogs       0.60      0.75      0.67         4\n",
            "        Cats       0.86      0.75      0.80         8\n",
            "\n",
            "    accuracy                           0.75        12\n",
            "   macro avg       0.73      0.75      0.73        12\n",
            "weighted avg       0.77      0.75      0.76        12\n",
            "\n"
          ],
          "name": "stdout"
        }
      ]
    },
    {
      "cell_type": "code",
      "metadata": {
        "id": "sUJwh0bcvEMw"
      },
      "source": [
        ""
      ],
      "execution_count": null,
      "outputs": []
    }
  ]
}