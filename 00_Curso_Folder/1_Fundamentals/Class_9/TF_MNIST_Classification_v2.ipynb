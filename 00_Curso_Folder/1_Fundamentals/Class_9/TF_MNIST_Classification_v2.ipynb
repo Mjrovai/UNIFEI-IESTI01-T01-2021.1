{
  "nbformat": 4,
  "nbformat_minor": 0,
  "metadata": {
    "colab": {
      "name": "TF_MNIST_Classification_v2.ipynb",
      "provenance": [],
      "collapsed_sections": []
    },
    "kernelspec": {
      "name": "python3",
      "display_name": "Python 3"
    },
    "language_info": {
      "name": "python"
    },
    "accelerator": "GPU"
  },
  "cells": [
    {
      "cell_type": "markdown",
      "metadata": {
        "id": "Zo2JiEtkzvQL"
      },
      "source": [
        "# Digit Classification using Dense Neural Network (DNN) - Version 2 \n",
        " - Using validation and test data "
      ]
    },
    {
      "cell_type": "markdown",
      "metadata": {
        "id": "ZLLenukpg6VN"
      },
      "source": [
        "## ==> Verify on Runtime tab if GPU is active on Runtime type"
      ]
    },
    {
      "cell_type": "markdown",
      "metadata": {
        "id": "z56YN3JZ0Duh"
      },
      "source": [
        "## Import Libraries"
      ]
    },
    {
      "cell_type": "code",
      "metadata": {
        "id": "YfPnR74Gzc_q"
      },
      "source": [
        "import numpy as np\n",
        "import matplotlib.pyplot as plt\n",
        "import tensorflow as tf"
      ],
      "execution_count": 4,
      "outputs": []
    },
    {
      "cell_type": "markdown",
      "metadata": {
        "id": "xrGLDV6q0PCc"
      },
      "source": [
        "## Upload and Explore Dataset\n",
        "[MNIST](http://yann.lecun.com/exdb/mnist/) handwritten digits dataset\n",
        "\n",
        "The MNIST database of handwritten digits, available from this [page](http://yann.lecun.com/exdb/mnist/), has a training set of 60,000 28x28 grayscale images of the 10 digits along a test set of 10,000 images. It is a subset of a larger set available from NIST. The digits have been size-normalized and centered in a fixed-size image.\n"
      ]
    },
    {
      "cell_type": "code",
      "metadata": {
        "id": "Ib2Ihepx0N6h"
      },
      "source": [
        "data = tf.keras.datasets.mnist\n",
        "\n",
        "(tt_images, tt_labels), (val_images, val_labels) = data.load_data()"
      ],
      "execution_count": 5,
      "outputs": []
    },
    {
      "cell_type": "code",
      "metadata": {
        "colab": {
          "base_uri": "https://localhost:8080/"
        },
        "id": "78pNLabSX-LF",
        "outputId": "e9264a79-7384-422a-a933-c5f12708c555"
      },
      "source": [
        "print(tt_images.shape)\n",
        "print(tt_labels.shape)"
      ],
      "execution_count": 6,
      "outputs": [
        {
          "output_type": "stream",
          "text": [
            "(60000, 28, 28)\n",
            "(60000,)\n"
          ],
          "name": "stdout"
        }
      ]
    },
    {
      "cell_type": "code",
      "metadata": {
        "colab": {
          "base_uri": "https://localhost:8080/"
        },
        "id": "qHaUYnSs4bq4",
        "outputId": "fc2c69e7-6d94-473c-fa74-cde74c840f48"
      },
      "source": [
        "print(val_images.shape)\n",
        "print(val_labels.shape)"
      ],
      "execution_count": 7,
      "outputs": [
        {
          "output_type": "stream",
          "text": [
            "(10000, 28, 28)\n",
            "(10000,)\n"
          ],
          "name": "stdout"
        }
      ]
    },
    {
      "cell_type": "code",
      "metadata": {
        "colab": {
          "base_uri": "https://localhost:8080/",
          "height": 267
        },
        "id": "IEmBmJqGYMpv",
        "outputId": "12da79ce-a1be-4274-be58-24fa923a7616"
      },
      "source": [
        "plt.hist(tt_labels);\n",
        "plt.hist(val_labels);"
      ],
      "execution_count": 8,
      "outputs": [
        {
          "output_type": "display_data",
          "data": {
            "image/png": "[encoded data removed]",
            "text/plain": [
              "<Figure size 432x288 with 1 Axes>"
            ]
          },
          "metadata": {
            "tags": [],
            "needs_background": "light"
          }
        }
      ]
    },
    {
      "cell_type": "code",
      "metadata": {
        "id": "u_e88OtBak7n"
      },
      "source": [
        "test_images = tt_images[:10000]\n",
        "test_labels = tt_labels[:10000]"
      ],
      "execution_count": 9,
      "outputs": []
    },
    {
      "cell_type": "code",
      "metadata": {
        "id": "MtTSlX3TaDqj"
      },
      "source": [
        "training_images = tt_images[10000:]\n",
        "training_labels = tt_labels[10000:]"
      ],
      "execution_count": 10,
      "outputs": []
    },
    {
      "cell_type": "code",
      "metadata": {
        "colab": {
          "base_uri": "https://localhost:8080/"
        },
        "id": "pq1bMIRd38b8",
        "outputId": "e35f1602-2c2a-4a31-c9ab-01e6c34bb81e"
      },
      "source": [
        "print(training_images.shape)\n",
        "print(training_labels.shape)"
      ],
      "execution_count": 11,
      "outputs": [
        {
          "output_type": "stream",
          "text": [
            "(50000, 28, 28)\n",
            "(50000,)\n"
          ],
          "name": "stdout"
        }
      ]
    },
    {
      "cell_type": "code",
      "metadata": {
        "colab": {
          "base_uri": "https://localhost:8080/"
        },
        "id": "Nj2dTT44awxD",
        "outputId": "99d66f4c-24a3-423b-eb11-5637c80d6e88"
      },
      "source": [
        "print(test_images.shape)\n",
        "print(test_labels.shape)"
      ],
      "execution_count": 12,
      "outputs": [
        {
          "output_type": "stream",
          "text": [
            "(10000, 28, 28)\n",
            "(10000,)\n"
          ],
          "name": "stdout"
        }
      ]
    },
    {
      "cell_type": "code",
      "metadata": {
        "colab": {
          "base_uri": "https://localhost:8080/",
          "height": 265
        },
        "id": "8N4sFgGLaXYQ",
        "outputId": "cc0f32da-e779-436e-b83a-a2a686ace68d"
      },
      "source": [
        "plt.hist(training_labels, alpha=0.5)\n",
        "plt.hist(test_labels, alpha=0.5)\n",
        "plt.hist(val_labels, alpha=0.5);"
      ],
      "execution_count": 13,
      "outputs": [
        {
          "output_type": "display_data",
          "data": {
            "image/png": "[encoded data removed]",
            "text/plain": [
              "<Figure size 432x288 with 1 Axes>"
            ]
          },
          "metadata": {
            "tags": [],
            "needs_background": "light"
          }
        }
      ]
    },
    {
      "cell_type": "code",
      "metadata": {
        "colab": {
          "base_uri": "https://localhost:8080/",
          "height": 283
        },
        "id": "zyaS6AgJd9_q",
        "outputId": "7e1cdb3c-f993-445e-805b-b912cead6f36"
      },
      "source": [
        "img = 1000\n",
        "print(\"     Label of image {} is: {}\".format(img, test_labels[img]))\n",
        "plt.imshow(test_images[img]);"
      ],
      "execution_count": 14,
      "outputs": [
        {
          "output_type": "stream",
          "text": [
            "     Label of image 1000 is: 0\n"
          ],
          "name": "stdout"
        },
        {
          "output_type": "display_data",
          "data": {
            "image/png": "[encoded data removed]",
            "text/plain": [
              "<Figure size 432x288 with 1 Axes>"
            ]
          },
          "metadata": {
            "tags": [],
            "needs_background": "light"
          }
        }
      ]
    },
    {
      "cell_type": "markdown",
      "metadata": {
        "id": "0-H0LwB_7von"
      },
      "source": [
        "### Preprocessing Data \n",
        "\n",
        "**Normalizing Data**: \n",
        "We notice that all of the values in the number are between 0 and 255. If we are training a neural network, for various reasons it's easier if we treat all values as between 0 and 1, a process called 'normalizing'."
      ]
    },
    {
      "cell_type": "code",
      "metadata": {
        "id": "uZrGVMsH0X3F"
      },
      "source": [
        "training_images  = training_images / 255.0\n",
        "val_images = val_images / 255.0\n",
        "test_images = test_images / 255.0"
      ],
      "execution_count": 15,
      "outputs": []
    },
    {
      "cell_type": "markdown",
      "metadata": {
        "id": "pYMsyOk8-xnf"
      },
      "source": [
        "## Define and Compile Model"
      ]
    },
    {
      "cell_type": "code",
      "metadata": {
        "colab": {
          "base_uri": "https://localhost:8080/"
        },
        "id": "dEdoqWl28dB3",
        "outputId": "170f2a39-5df7-46df-fbf6-521c2f1af372"
      },
      "source": [
        "model = tf.keras.models.Sequential([tf.keras.layers.Flatten(input_shape=(28,28)),\n",
        "                                    tf.keras.layers.Dense(20, activation=tf.nn.relu),\n",
        "                                    tf.keras.layers.Dense(10, activation=tf.nn.softmax)])\n",
        "model.summary()"
      ],
      "execution_count": 16,
      "outputs": [
        {
          "output_type": "stream",
          "text": [
            "Model: \"sequential\"\n",
            "_________________________________________________________________\n",
            "Layer (type)                 Output Shape              Param #   \n",
            "=================================================================\n",
            "flatten (Flatten)            (None, 784)               0         \n",
            "_________________________________________________________________\n",
            "dense (Dense)                (None, 20)                15700     \n",
            "_________________________________________________________________\n",
            "dense_1 (Dense)              (None, 10)                210       \n",
            "=================================================================\n",
            "Total params: 15,910\n",
            "Trainable params: 15,910\n",
            "Non-trainable params: 0\n",
            "_________________________________________________________________\n"
          ],
          "name": "stdout"
        }
      ]
    },
    {
      "cell_type": "code",
      "metadata": {
        "id": "Qr_eCKjGbtOt"
      },
      "source": [
        "from tensorflow.keras.models import Sequential\n",
        "from tensorflow.keras.layers import Flatten, Dense"
      ],
      "execution_count": 17,
      "outputs": []
    },
    {
      "cell_type": "code",
      "metadata": {
        "colab": {
          "base_uri": "https://localhost:8080/"
        },
        "id": "xJz_2NgwcIiZ",
        "outputId": "b7c5c17e-6102-4723-8862-f121d3829872"
      },
      "source": [
        "model = Sequential([Flatten(input_shape=(28,28)),\n",
        "                    Dense(20, activation='relu'),\n",
        "                    Dense(10, activation='softmax')])\n",
        "model.summary()"
      ],
      "execution_count": 18,
      "outputs": [
        {
          "output_type": "stream",
          "text": [
            "Model: \"sequential_1\"\n",
            "_________________________________________________________________\n",
            "Layer (type)                 Output Shape              Param #   \n",
            "=================================================================\n",
            "flatten_1 (Flatten)          (None, 784)               0         \n",
            "_________________________________________________________________\n",
            "dense_2 (Dense)              (None, 20)                15700     \n",
            "_________________________________________________________________\n",
            "dense_3 (Dense)              (None, 10)                210       \n",
            "=================================================================\n",
            "Total params: 15,910\n",
            "Trainable params: 15,910\n",
            "Non-trainable params: 0\n",
            "_________________________________________________________________\n"
          ],
          "name": "stdout"
        }
      ]
    },
    {
      "cell_type": "code",
      "metadata": {
        "colab": {
          "base_uri": "https://localhost:8080/"
        },
        "id": "ECBeHUKacZ_4",
        "outputId": "392beaa6-60d2-4d32-8714-51d55f33933f"
      },
      "source": [
        "model = Sequential()\n",
        "model.add(Flatten(input_shape=(28,28)))\n",
        "model.add(Dense(20, activation='relu'))\n",
        "model.add(Dense(10, activation='softmax'))\n",
        "model.summary()"
      ],
      "execution_count": 25,
      "outputs": [
        {
          "output_type": "stream",
          "text": [
            "Model: \"sequential_3\"\n",
            "_________________________________________________________________\n",
            "Layer (type)                 Output Shape              Param #   \n",
            "=================================================================\n",
            "flatten_3 (Flatten)          (None, 784)               0         \n",
            "_________________________________________________________________\n",
            "dense_6 (Dense)              (None, 20)                15700     \n",
            "_________________________________________________________________\n",
            "dense_7 (Dense)              (None, 10)                210       \n",
            "=================================================================\n",
            "Total params: 15,910\n",
            "Trainable params: 15,910\n",
            "Non-trainable params: 0\n",
            "_________________________________________________________________\n"
          ],
          "name": "stdout"
        }
      ]
    },
    {
      "cell_type": "code",
      "metadata": {
        "id": "NA21O9Y0_BJ7"
      },
      "source": [
        "model.compile(\n",
        "    optimizer='adam', # uses default learning_rate=0.001\n",
        "    loss='sparse_categorical_crossentropy',\n",
        "    metrics=['accuracy']\n",
        "    )"
      ],
      "execution_count": 26,
      "outputs": []
    },
    {
      "cell_type": "code",
      "metadata": {
        "id": "Z7BSHPohdZ-Y"
      },
      "source": [
        "from tensorflow.keras.optimizers import Adam, SGD"
      ],
      "execution_count": 21,
      "outputs": []
    },
    {
      "cell_type": "code",
      "metadata": {
        "id": "l_d2yHsqf_JI"
      },
      "source": [
        "opt = Adam(learning_rate=0.01)\n",
        "model.compile(\n",
        "    optimizer=opt,\n",
        "    loss='sparse_categorical_crossentropy',\n",
        "    metrics=['accuracy']\n",
        "    )"
      ],
      "execution_count": 22,
      "outputs": []
    },
    {
      "cell_type": "markdown",
      "metadata": {
        "id": "pJZ4fvT3_yd7"
      },
      "source": [
        "## Train the model"
      ]
    },
    {
      "cell_type": "markdown",
      "metadata": {
        "id": "jL6QDHJnGDm6"
      },
      "source": [
        "You could leave the training data with all samples, and alternativelly use: \n",
        "- `validation_split=0.1` instead of `validation_data=(val_images, val_labels)`.\n",
        "\n",
        "In this case, TF will split the validation data by itself. "
      ]
    },
    {
      "cell_type": "code",
      "metadata": {
        "colab": {
          "base_uri": "https://localhost:8080/"
        },
        "id": "RxklrX_R_uvn",
        "outputId": "29583d58-0c01-4391-ce98-146dc8361160"
      },
      "source": [
        "history = model.fit(\n",
        "    training_images, \n",
        "    training_labels, \n",
        "    epochs=20, \n",
        "    validation_data=(val_images, val_labels) \n",
        "    )"
      ],
      "execution_count": 27,
      "outputs": [
        {
          "output_type": "stream",
          "text": [
            "Epoch 1/20\n",
            "1563/1563 [==============================] - 4s 2ms/step - loss: 0.4252 - accuracy: 0.8816 - val_loss: 0.2502 - val_accuracy: 0.9283\n",
            "Epoch 2/20\n",
            "1563/1563 [==============================] - 3s 2ms/step - loss: 0.2333 - accuracy: 0.9319 - val_loss: 0.2055 - val_accuracy: 0.9391\n",
            "Epoch 3/20\n",
            "1563/1563 [==============================] - 3s 2ms/step - loss: 0.1958 - accuracy: 0.9428 - val_loss: 0.1787 - val_accuracy: 0.9471\n",
            "Epoch 4/20\n",
            "1563/1563 [==============================] - 3s 2ms/step - loss: 0.1741 - accuracy: 0.9489 - val_loss: 0.1759 - val_accuracy: 0.9466\n",
            "Epoch 5/20\n",
            "1563/1563 [==============================] - 3s 2ms/step - loss: 0.1587 - accuracy: 0.9544 - val_loss: 0.1623 - val_accuracy: 0.9513\n",
            "Epoch 6/20\n",
            "1563/1563 [==============================] - 3s 2ms/step - loss: 0.1469 - accuracy: 0.9566 - val_loss: 0.1632 - val_accuracy: 0.9523\n",
            "Epoch 7/20\n",
            "1563/1563 [==============================] - 3s 2ms/step - loss: 0.1376 - accuracy: 0.9599 - val_loss: 0.1514 - val_accuracy: 0.9550\n",
            "Epoch 8/20\n",
            "1563/1563 [==============================] - 3s 2ms/step - loss: 0.1299 - accuracy: 0.9618 - val_loss: 0.1429 - val_accuracy: 0.9560\n",
            "Epoch 9/20\n",
            "1563/1563 [==============================] - 3s 2ms/step - loss: 0.1215 - accuracy: 0.9642 - val_loss: 0.1453 - val_accuracy: 0.9544\n",
            "Epoch 10/20\n",
            "1563/1563 [==============================] - 3s 2ms/step - loss: 0.1168 - accuracy: 0.9652 - val_loss: 0.1425 - val_accuracy: 0.9564\n",
            "Epoch 11/20\n",
            "1563/1563 [==============================] - 3s 2ms/step - loss: 0.1116 - accuracy: 0.9670 - val_loss: 0.1373 - val_accuracy: 0.9578\n",
            "Epoch 12/20\n",
            "1563/1563 [==============================] - 3s 2ms/step - loss: 0.1058 - accuracy: 0.9680 - val_loss: 0.1408 - val_accuracy: 0.9579\n",
            "Epoch 13/20\n",
            "1563/1563 [==============================] - 3s 2ms/step - loss: 0.1029 - accuracy: 0.9691 - val_loss: 0.1410 - val_accuracy: 0.9583\n",
            "Epoch 14/20\n",
            "1563/1563 [==============================] - 3s 2ms/step - loss: 0.0981 - accuracy: 0.9711 - val_loss: 0.1405 - val_accuracy: 0.9577\n",
            "Epoch 15/20\n",
            "1563/1563 [==============================] - 3s 2ms/step - loss: 0.0945 - accuracy: 0.9715 - val_loss: 0.1473 - val_accuracy: 0.9585\n",
            "Epoch 16/20\n",
            "1563/1563 [==============================] - 3s 2ms/step - loss: 0.0919 - accuracy: 0.9724 - val_loss: 0.1402 - val_accuracy: 0.9594\n",
            "Epoch 17/20\n",
            "1563/1563 [==============================] - 3s 2ms/step - loss: 0.0877 - accuracy: 0.9736 - val_loss: 0.1401 - val_accuracy: 0.9595\n",
            "Epoch 18/20\n",
            "1563/1563 [==============================] - 3s 2ms/step - loss: 0.0853 - accuracy: 0.9743 - val_loss: 0.1333 - val_accuracy: 0.9612\n",
            "Epoch 19/20\n",
            "1563/1563 [==============================] - 3s 2ms/step - loss: 0.0827 - accuracy: 0.9748 - val_loss: 0.1490 - val_accuracy: 0.9567\n",
            "Epoch 20/20\n",
            "1563/1563 [==============================] - 3s 2ms/step - loss: 0.0807 - accuracy: 0.9755 - val_loss: 0.1429 - val_accuracy: 0.9613\n"
          ],
          "name": "stdout"
        }
      ]
    },
    {
      "cell_type": "markdown",
      "metadata": {
        "id": "0xAXSo5-HCIo"
      },
      "source": [
        "Inspecting the model"
      ]
    },
    {
      "cell_type": "code",
      "metadata": {
        "colab": {
          "base_uri": "https://localhost:8080/",
          "height": 295
        },
        "id": "g6qHpwg8BpZi",
        "outputId": "f9b3f6a0-c689-4a93-fc87-8c962db6877d"
      },
      "source": [
        "plt.plot(history.history['accuracy'], label='accuracy')\n",
        "plt.plot(history.history['val_accuracy'], label='val_accuracy')\n",
        "plt.title('Model Accuracy')\n",
        "plt.ylabel('accuracy')\n",
        "plt.xlabel('epoch')\n",
        "plt.legend(loc='upper left')\n",
        "plt.show()"
      ],
      "execution_count": 28,
      "outputs": [
        {
          "output_type": "display_data",
          "data": {
            "image/png": "[encoded data removed]",
            "text/plain": [
              "<Figure size 432x288 with 1 Axes>"
            ]
          },
          "metadata": {
            "tags": [],
            "needs_background": "light"
          }
        }
      ]
    },
    {
      "cell_type": "markdown",
      "metadata": {
        "id": "JYHTdEJVH0tZ"
      },
      "source": [
        "## Testing the trained model\n"
      ]
    },
    {
      "cell_type": "code",
      "metadata": {
        "colab": {
          "base_uri": "https://localhost:8080/"
        },
        "id": "QBuJGqbSH6xT",
        "outputId": "c1cf49fa-72a0-4046-c967-afc3f8569a21"
      },
      "source": [
        "model.evaluate(test_images, test_labels)"
      ],
      "execution_count": 29,
      "outputs": [
        {
          "output_type": "stream",
          "text": [
            "313/313 [==============================] - 1s 2ms/step - loss: 0.1552 - accuracy: 0.9564\n"
          ],
          "name": "stdout"
        },
        {
          "output_type": "execute_result",
          "data": {
            "text/plain": [
              "[0.15519589185714722, 0.9563999772071838]"
            ]
          },
          "metadata": {
            "tags": []
          },
          "execution_count": 29
        }
      ]
    },
    {
      "cell_type": "markdown",
      "metadata": {
        "id": "WVZcgwAQHZMl"
      },
      "source": [
        "**Accuracy**\n",
        "- Train: 0.97; \n",
        "- Validation: 0.96 \n",
        "- Test: 0.95"
      ]
    },
    {
      "cell_type": "code",
      "metadata": {
        "colab": {
          "base_uri": "https://localhost:8080/",
          "height": 265
        },
        "id": "rvNEv5BPIwPE",
        "outputId": "99b213e2-fe18-4e3b-fb2e-3aced2cde640"
      },
      "source": [
        "plt.imshow(test_images[0]);"
      ],
      "execution_count": 31,
      "outputs": [
        {
          "output_type": "display_data",
          "data": {
            "image/png": "[encoded data removed]",
            "text/plain": [
              "<Figure size 432x288 with 1 Axes>"
            ]
          },
          "metadata": {
            "tags": [],
            "needs_background": "light"
          }
        }
      ]
    },
    {
      "cell_type": "code",
      "metadata": {
        "colab": {
          "base_uri": "https://localhost:8080/"
        },
        "id": "ysGu1V_PJ28-",
        "outputId": "e1c0cf7b-403c-403b-c024-b938e5f50060"
      },
      "source": [
        "print(test_labels[0])"
      ],
      "execution_count": 32,
      "outputs": [
        {
          "output_type": "stream",
          "text": [
            "5\n"
          ],
          "name": "stdout"
        }
      ]
    },
    {
      "cell_type": "code",
      "metadata": {
        "colab": {
          "base_uri": "https://localhost:8080/"
        },
        "id": "tkaTLMaTIbIL",
        "outputId": "49c7a3be-91f0-4f25-85bb-b59ffad345c0"
      },
      "source": [
        "predictions = model.predict(test_images)\n",
        "print(predictions[0])"
      ],
      "execution_count": 34,
      "outputs": [
        {
          "output_type": "stream",
          "text": [
            "[5.6261435e-13 1.3585398e-11 1.5756122e-11 5.3147087e-04 6.3963793e-27\n",
            " 9.9946851e-01 6.1152620e-19 6.1095039e-11 4.9576353e-13 5.6294535e-08]\n"
          ],
          "name": "stdout"
        }
      ]
    },
    {
      "cell_type": "code",
      "metadata": {
        "colab": {
          "base_uri": "https://localhost:8080/"
        },
        "id": "yjenS2EZJH6h",
        "outputId": "3061e88d-a964-4e32-f21a-790e80dcd815"
      },
      "source": [
        "# Returns the indices of the maximum values along an axis.\n",
        "np.argmax(predictions[0])"
      ],
      "execution_count": 35,
      "outputs": [
        {
          "output_type": "execute_result",
          "data": {
            "text/plain": [
              "5"
            ]
          },
          "metadata": {
            "tags": []
          },
          "execution_count": 35
        }
      ]
    },
    {
      "cell_type": "code",
      "metadata": {
        "colab": {
          "base_uri": "https://localhost:8080/"
        },
        "id": "JeEgVvBTIx8z",
        "outputId": "517b78d7-3c31-45fb-e11d-71daaf2878de"
      },
      "source": [
        "predictions = np.argmax(predictions, axis=-1)\n",
        "predictions.shape"
      ],
      "execution_count": 36,
      "outputs": [
        {
          "output_type": "execute_result",
          "data": {
            "text/plain": [
              "(10000,)"
            ]
          },
          "metadata": {
            "tags": []
          },
          "execution_count": 36
        }
      ]
    },
    {
      "cell_type": "code",
      "metadata": {
        "colab": {
          "base_uri": "https://localhost:8080/"
        },
        "id": "8N2zUFaZJIUF",
        "outputId": "19a086da-bdf2-4c12-9e1a-8bd3cedffbf6"
      },
      "source": [
        "predictions[:10]"
      ],
      "execution_count": 37,
      "outputs": [
        {
          "output_type": "execute_result",
          "data": {
            "text/plain": [
              "array([5, 0, 4, 1, 9, 2, 1, 3, 1, 4])"
            ]
          },
          "metadata": {
            "tags": []
          },
          "execution_count": 37
        }
      ]
    },
    {
      "cell_type": "code",
      "metadata": {
        "colab": {
          "base_uri": "https://localhost:8080/"
        },
        "id": "VP0iVCbHHzDI",
        "outputId": "5fcf4006-66ff-4d58-8223-e619800a21d1"
      },
      "source": [
        "from sklearn.metrics import classification_report,confusion_matrix\n",
        "\n",
        "print(classification_report(test_labels, predictions))"
      ],
      "execution_count": 38,
      "outputs": [
        {
          "output_type": "stream",
          "text": [
            "              precision    recall  f1-score   support\n",
            "\n",
            "           0       0.98      0.98      0.98      1001\n",
            "           1       0.97      0.98      0.97      1127\n",
            "           2       0.95      0.95      0.95       991\n",
            "           3       0.93      0.94      0.94      1032\n",
            "           4       0.95      0.96      0.96       980\n",
            "           5       0.92      0.95      0.94       863\n",
            "           6       0.96      0.98      0.97      1014\n",
            "           7       0.98      0.97      0.97      1070\n",
            "           8       0.95      0.90      0.93       944\n",
            "           9       0.95      0.95      0.95       978\n",
            "\n",
            "    accuracy                           0.96     10000\n",
            "   macro avg       0.96      0.96      0.96     10000\n",
            "weighted avg       0.96      0.96      0.96     10000\n",
            "\n"
          ],
          "name": "stdout"
        }
      ]
    },
    {
      "cell_type": "code",
      "metadata": {
        "colab": {
          "base_uri": "https://localhost:8080/"
        },
        "id": "RqQ4K-KqJYWe",
        "outputId": "cdd86ae5-2f96-49f3-f55e-9b4a436af81e"
      },
      "source": [
        "confusion_matrix(test_labels,predictions)"
      ],
      "execution_count": 39,
      "outputs": [
        {
          "output_type": "execute_result",
          "data": {
            "text/plain": [
              "array([[ 978,    0,    2,    3,    2,    5,    7,    0,    3,    1],\n",
              "       [   0, 1100,    7,    3,    3,    1,    0,    1,   10,    2],\n",
              "       [   7,    7,  938,   15,    9,    1,    2,    3,    8,    1],\n",
              "       [   2,    1,    8,  974,    0,   31,    0,    7,    6,    3],\n",
              "       [   2,    4,    4,    1,  941,    3,    6,    1,    0,   18],\n",
              "       [   1,    3,    2,   16,    4,  823,    5,    0,    7,    2],\n",
              "       [   5,    1,    1,    0,    6,    4,  994,    0,    3,    0],\n",
              "       [   0,    1,    7,    5,    4,    2,    0, 1037,    1,   13],\n",
              "       [   4,   12,   13,   15,    3,   18,   19,    1,  853,    6],\n",
              "       [   2,    2,    1,   13,   15,    4,    0,   10,    5,  926]])"
            ]
          },
          "metadata": {
            "tags": []
          },
          "execution_count": 39
        }
      ]
    },
    {
      "cell_type": "code",
      "metadata": {
        "colab": {
          "base_uri": "https://localhost:8080/",
          "height": 513
        },
        "id": "WaXyFJffLLLY",
        "outputId": "1e753c6c-348d-4389-83a1-c2c2f094a469"
      },
      "source": [
        "import seaborn as sns\n",
        "plt.figure(figsize=(15,8))\n",
        "sns.heatmap(confusion_matrix(test_labels,predictions), cmap=\"Blues\", annot=True, fmt='g');\n",
        "plt.title('Confusion Matrix')\n",
        "plt.xlabel(\"Predictions\")\n",
        "plt.ylabel(\"Real values\")\n",
        "plt.show()"
      ],
      "execution_count": 40,
      "outputs": [
        {
          "output_type": "display_data",
          "data": {
            "image/png": "[encoded data removed]",
            "text/plain": [
              "<Figure size 1080x576 with 2 Axes>"
            ]
          },
          "metadata": {
            "tags": [],
            "needs_background": "light"
          }
        }
      ]
    },
    {
      "cell_type": "code",
      "metadata": {
        "id": "g1PyVPkhRx01"
      },
      "source": [
        "model.save('MNIST_v2_model.h5')"
      ],
      "execution_count": 41,
      "outputs": []
    },
    {
      "cell_type": "markdown",
      "metadata": {
        "id": "754rc-kPR7zH"
      },
      "source": [
        "Use [Netron](https://netron.app) to visualize the model, hyperparameters, tensor shapes, etc. Netron is a viewer for neural network, deep learning and machine learning models (See [GitHub](https://github.com/lutzroeder/netron) for instructions about instalation in your desktop). "
      ]
    },
    {
      "cell_type": "code",
      "metadata": {
        "id": "qFYKoEpsSCF8"
      },
      "source": [
        ""
      ],
      "execution_count": null,
      "outputs": []
    }
  ]
}