{
  "nbformat": 4,
  "nbformat_minor": 0,
  "metadata": {
    "colab": {
      "name": "TF_MNIST_Classification.ipynb",
      "provenance": []
    },
    "kernelspec": {
      "name": "python3",
      "display_name": "Python 3"
    },
    "language_info": {
      "name": "python"
    },
    "accelerator": "GPU"
  },
  "cells": [
    {
      "cell_type": "markdown",
      "metadata": {
        "id": "Zo2JiEtkzvQL"
      },
      "source": [
        "# Digit Classification using Dense Neural Network (DNN) "
      ]
    },
    {
      "cell_type": "markdown",
      "metadata": {
        "id": "z56YN3JZ0Duh"
      },
      "source": [
        "## Import Libraries"
      ]
    },
    {
      "cell_type": "code",
      "metadata": {
        "id": "YfPnR74Gzc_q"
      },
      "source": [
        "import numpy as np\n",
        "import matplotlib.pyplot as plt\n",
        "import tensorflow as tf"
      ],
      "execution_count": null,
      "outputs": []
    },
    {
      "cell_type": "markdown",
      "metadata": {
        "id": "xrGLDV6q0PCc"
      },
      "source": [
        "## Upload and Explore Dataset\n",
        "[MNIST](http://yann.lecun.com/exdb/mnist/) handwritten digits dataset\n",
        "\n",
        "The MNIST database of handwritten digits, available from this [page](http://yann.lecun.com/exdb/mnist/), has a training set of 60,000 28x28 grayscale images of the 10 digits along a test set of 10,000 images. It is a subset of a larger set available from NIST. The digits have been size-normalized and centered in a fixed-size image.\n"
      ]
    },
    {
      "cell_type": "code",
      "metadata": {
        "id": "Ib2Ihepx0N6h"
      },
      "source": [
        "data = tf.keras.datasets.mnist\n",
        "\n",
        "(training_images, training_labels), (val_images, val_labels) = data.load_data()"
      ],
      "execution_count": null,
      "outputs": []
    },
    {
      "cell_type": "code",
      "metadata": {
        "colab": {
          "base_uri": "https://localhost:8080/"
        },
        "id": "pq1bMIRd38b8",
        "outputId": "98fcb8c4-25cd-4fed-db40-6b6d0b409493"
      },
      "source": [
        "print(training_images.shape)\n",
        "print(training_labels.shape)"
      ],
      "execution_count": null,
      "outputs": [
        {
          "output_type": "stream",
          "text": [
            "(60000, 28, 28)\n",
            "(60000,)\n"
          ],
          "name": "stdout"
        }
      ]
    },
    {
      "cell_type": "code",
      "metadata": {
        "colab": {
          "base_uri": "https://localhost:8080/"
        },
        "id": "qHaUYnSs4bq4",
        "outputId": "47e75b29-ff81-4ed9-e046-502f17f184df"
      },
      "source": [
        "print(val_images.shape)\n",
        "print(val_labels.shape)"
      ],
      "execution_count": null,
      "outputs": [
        {
          "output_type": "stream",
          "text": [
            "(10000, 28, 28)\n",
            "(10000,)\n"
          ],
          "name": "stdout"
        }
      ]
    },
    {
      "cell_type": "markdown",
      "metadata": {
        "id": "p5b0wydUaU1N"
      },
      "source": [
        "### Exploring Labels"
      ]
    },
    {
      "cell_type": "code",
      "metadata": {
        "colab": {
          "base_uri": "https://localhost:8080/"
        },
        "id": "qyfWBrrW9gAd",
        "outputId": "5a28d7e2-f3ca-443f-84f7-0d4f2b9796af"
      },
      "source": [
        "training_labels"
      ],
      "execution_count": null,
      "outputs": [
        {
          "output_type": "execute_result",
          "data": {
            "text/plain": [
              "array([5, 0, 4, ..., 5, 6, 8], dtype=uint8)"
            ]
          },
          "metadata": {
            "tags": []
          },
          "execution_count": 5
        }
      ]
    },
    {
      "cell_type": "markdown",
      "metadata": {
        "id": "Cv8z_QGpYoEj"
      },
      "source": [
        "It is possible to keep training labels as \"numbers\", but in this case when compiling the model, you should use: `loss=\"sparse_categorical_crossentropy\".`"
      ]
    },
    {
      "cell_type": "markdown",
      "metadata": {
        "id": "sr8u2BMUZbwq"
      },
      "source": [
        "**And how about changing labels to categorical?**"
      ]
    },
    {
      "cell_type": "code",
      "metadata": {
        "colab": {
          "base_uri": "https://localhost:8080/"
        },
        "id": "qc-FKEkWYRXL",
        "outputId": "b60271c6-0e4f-4706-d6a1-88a1fdf95ee6"
      },
      "source": [
        "training_labels[:10]"
      ],
      "execution_count": null,
      "outputs": [
        {
          "output_type": "execute_result",
          "data": {
            "text/plain": [
              "array([5, 0, 4, 1, 9, 2, 1, 3, 1, 4], dtype=uint8)"
            ]
          },
          "metadata": {
            "tags": []
          },
          "execution_count": 6
        }
      ]
    },
    {
      "cell_type": "code",
      "metadata": {
        "colab": {
          "base_uri": "https://localhost:8080/"
        },
        "id": "PRwje9DsX2EA",
        "outputId": "48026cec-ccc4-4157-e435-3f0d7f1a193e"
      },
      "source": [
        "from tensorflow.keras.utils import to_categorical\n",
        "to_categorical(training_labels[:10])"
      ],
      "execution_count": null,
      "outputs": [
        {
          "output_type": "execute_result",
          "data": {
            "text/plain": [
              "array([[0., 0., 0., 0., 0., 1., 0., 0., 0., 0.],\n",
              "       [1., 0., 0., 0., 0., 0., 0., 0., 0., 0.],\n",
              "       [0., 0., 0., 0., 1., 0., 0., 0., 0., 0.],\n",
              "       [0., 1., 0., 0., 0., 0., 0., 0., 0., 0.],\n",
              "       [0., 0., 0., 0., 0., 0., 0., 0., 0., 1.],\n",
              "       [0., 0., 1., 0., 0., 0., 0., 0., 0., 0.],\n",
              "       [0., 1., 0., 0., 0., 0., 0., 0., 0., 0.],\n",
              "       [0., 0., 0., 1., 0., 0., 0., 0., 0., 0.],\n",
              "       [0., 1., 0., 0., 0., 0., 0., 0., 0., 0.],\n",
              "       [0., 0., 0., 0., 1., 0., 0., 0., 0., 0.]], dtype=float32)"
            ]
          },
          "metadata": {
            "tags": []
          },
          "execution_count": 7
        }
      ]
    },
    {
      "cell_type": "markdown",
      "metadata": {
        "id": "9cPQOQsnZtcK"
      },
      "source": [
        "When labels are defined as categories, when compiling the model you should use: `loss=\"categorical_crossentropy\".`"
      ]
    },
    {
      "cell_type": "markdown",
      "metadata": {
        "id": "ZF4d2rJfaL3T"
      },
      "source": [
        "### Exploring images"
      ]
    },
    {
      "cell_type": "code",
      "metadata": {
        "colab": {
          "base_uri": "https://localhost:8080/"
        },
        "id": "TMu0y_Az4hRr",
        "outputId": "8e024228-e640-4bb6-e991-59f2c8455d8b"
      },
      "source": [
        "np.set_printoptions(linewidth=200)\n",
        "print(training_images[2])"
      ],
      "execution_count": null,
      "outputs": [
        {
          "output_type": "stream",
          "text": [
            "[[  0   0   0   0   0   0   0   0   0   0   0   0   0   0   0   0   0   0   0   0   0   0   0   0   0   0   0   0]\n",
            " [  0   0   0   0   0   0   0   0   0   0   0   0   0   0   0   0   0   0   0   0   0   0   0   0   0   0   0   0]\n",
            " [  0   0   0   0   0   0   0   0   0   0   0   0   0   0   0   0   0   0   0   0   0   0   0   0   0   0   0   0]\n",
            " [  0   0   0   0   0   0   0   0   0   0   0   0   0   0   0   0   0   0   0   0   0   0   0   0   0   0   0   0]\n",
            " [  0   0   0   0   0   0   0   0   0   0   0   0   0   0   0   0   0   0   0   0   0   0   0   0   0   0   0   0]\n",
            " [  0   0   0   0   0   0   0   0   0   0   0   0   0   0   0   0   0   0   0   0  67 232  39   0   0   0   0   0]\n",
            " [  0   0   0   0  62  81   0   0   0   0   0   0   0   0   0   0   0   0   0   0 120 180  39   0   0   0   0   0]\n",
            " [  0   0   0   0 126 163   0   0   0   0   0   0   0   0   0   0   0   0   0   2 153 210  40   0   0   0   0   0]\n",
            " [  0   0   0   0 220 163   0   0   0   0   0   0   0   0   0   0   0   0   0  27 254 162   0   0   0   0   0   0]\n",
            " [  0   0   0   0 222 163   0   0   0   0   0   0   0   0   0   0   0   0   0 183 254 125   0   0   0   0   0   0]\n",
            " [  0   0   0  46 245 163   0   0   0   0   0   0   0   0   0   0   0   0   0 198 254  56   0   0   0   0   0   0]\n",
            " [  0   0   0 120 254 163   0   0   0   0   0   0   0   0   0   0   0   0  23 231 254  29   0   0   0   0   0   0]\n",
            " [  0   0   0 159 254 120   0   0   0   0   0   0   0   0   0   0   0   0 163 254 216  16   0   0   0   0   0   0]\n",
            " [  0   0   0 159 254  67   0   0   0   0   0   0   0   0   0  14  86 178 248 254  91   0   0   0   0   0   0   0]\n",
            " [  0   0   0 159 254  85   0   0   0  47  49 116 144 150 241 243 234 179 241 252  40   0   0   0   0   0   0   0]\n",
            " [  0   0   0 150 253 237 207 207 207 253 254 250 240 198 143  91  28   5 233 250   0   0   0   0   0   0   0   0]\n",
            " [  0   0   0   0 119 177 177 177 177 177  98  56   0   0   0   0   0 102 254 220   0   0   0   0   0   0   0   0]\n",
            " [  0   0   0   0   0   0   0   0   0   0   0   0   0   0   0   0   0 169 254 137   0   0   0   0   0   0   0   0]\n",
            " [  0   0   0   0   0   0   0   0   0   0   0   0   0   0   0   0   0 169 254  57   0   0   0   0   0   0   0   0]\n",
            " [  0   0   0   0   0   0   0   0   0   0   0   0   0   0   0   0   0 169 254  57   0   0   0   0   0   0   0   0]\n",
            " [  0   0   0   0   0   0   0   0   0   0   0   0   0   0   0   0   0 169 255  94   0   0   0   0   0   0   0   0]\n",
            " [  0   0   0   0   0   0   0   0   0   0   0   0   0   0   0   0   0 169 254  96   0   0   0   0   0   0   0   0]\n",
            " [  0   0   0   0   0   0   0   0   0   0   0   0   0   0   0   0   0 169 254 153   0   0   0   0   0   0   0   0]\n",
            " [  0   0   0   0   0   0   0   0   0   0   0   0   0   0   0   0   0 169 255 153   0   0   0   0   0   0   0   0]\n",
            " [  0   0   0   0   0   0   0   0   0   0   0   0   0   0   0   0   0  96 254 153   0   0   0   0   0   0   0   0]\n",
            " [  0   0   0   0   0   0   0   0   0   0   0   0   0   0   0   0   0   0   0   0   0   0   0   0   0   0   0   0]\n",
            " [  0   0   0   0   0   0   0   0   0   0   0   0   0   0   0   0   0   0   0   0   0   0   0   0   0   0   0   0]\n",
            " [  0   0   0   0   0   0   0   0   0   0   0   0   0   0   0   0   0   0   0   0   0   0   0   0   0   0   0   0]]\n"
          ],
          "name": "stdout"
        }
      ]
    },
    {
      "cell_type": "code",
      "metadata": {
        "colab": {
          "base_uri": "https://localhost:8080/"
        },
        "id": "yxbAHxFY6JVK",
        "outputId": "a52302b2-b394-4b68-b901-edf7634fee31"
      },
      "source": [
        "training_labels[2]"
      ],
      "execution_count": null,
      "outputs": [
        {
          "output_type": "execute_result",
          "data": {
            "text/plain": [
              "4"
            ]
          },
          "metadata": {
            "tags": []
          },
          "execution_count": 9
        }
      ]
    },
    {
      "cell_type": "code",
      "metadata": {
        "colab": {
          "base_uri": "https://localhost:8080/",
          "height": 282
        },
        "id": "3K1XrD3a5cU0",
        "outputId": "619bdc60-ba05-41ef-ef22-2f25d795a411"
      },
      "source": [
        "img = 2\n",
        "print(\"     Label of image {} is: {}\".format(img, training_labels[img]))\n",
        "plt.imshow(training_images[img]);"
      ],
      "execution_count": null,
      "outputs": [
        {
          "output_type": "stream",
          "text": [
            "     Label of image 2 is: 4\n"
          ],
          "name": "stdout"
        },
        {
          "output_type": "display_data",
          "data": {
            "image/png": "[encoded data removed]",
            "text/plain": [
              "<Figure size 432x288 with 1 Axes>"
            ]
          },
          "metadata": {
            "tags": [],
            "needs_background": "light"
          }
        }
      ]
    },
    {
      "cell_type": "code",
      "metadata": {
        "colab": {
          "base_uri": "https://localhost:8080/"
        },
        "id": "wHbD0jQj7NaL",
        "outputId": "195f4621-e2fb-4068-dc45-dd0b285d7206"
      },
      "source": [
        "training_images.max()"
      ],
      "execution_count": null,
      "outputs": [
        {
          "output_type": "execute_result",
          "data": {
            "text/plain": [
              "255"
            ]
          },
          "metadata": {
            "tags": []
          },
          "execution_count": 11
        }
      ]
    },
    {
      "cell_type": "code",
      "metadata": {
        "colab": {
          "base_uri": "https://localhost:8080/"
        },
        "id": "OSY9uSFD7WOc",
        "outputId": "4928f718-b6a4-421b-d344-dc0c70664abf"
      },
      "source": [
        "training_images.min()"
      ],
      "execution_count": null,
      "outputs": [
        {
          "output_type": "execute_result",
          "data": {
            "text/plain": [
              "0"
            ]
          },
          "metadata": {
            "tags": []
          },
          "execution_count": 12
        }
      ]
    },
    {
      "cell_type": "markdown",
      "metadata": {
        "id": "0-H0LwB_7von"
      },
      "source": [
        "### Preprocessing Data \n",
        "\n",
        "**Normalizing Data**: \n",
        "We notice that all of the values in the number are between 0 and 255. If we are training a neural network, for various reasons it's easier if we treat all values as between 0 and 1, a process called 'normalizing'."
      ]
    },
    {
      "cell_type": "code",
      "metadata": {
        "id": "uZrGVMsH0X3F"
      },
      "source": [
        "training_images  = training_images / 255.0\n",
        "val_images = val_images / 255.0"
      ],
      "execution_count": null,
      "outputs": []
    },
    {
      "cell_type": "code",
      "metadata": {
        "colab": {
          "base_uri": "https://localhost:8080/"
        },
        "id": "Khec4VhU8mkR",
        "outputId": "e79fec7b-ea3e-4b50-b7c8-1c7047f87e15"
      },
      "source": [
        "print(training_images[2])"
      ],
      "execution_count": null,
      "outputs": [
        {
          "output_type": "stream",
          "text": [
            "[[0.         0.         0.         0.         0.         0.         0.         0.         0.         0.         0.         0.         0.         0.         0.         0.         0.\n",
            "  0.         0.         0.         0.         0.         0.         0.         0.         0.         0.         0.        ]\n",
            " [0.         0.         0.         0.         0.         0.         0.         0.         0.         0.         0.         0.         0.         0.         0.         0.         0.\n",
            "  0.         0.         0.         0.         0.         0.         0.         0.         0.         0.         0.        ]\n",
            " [0.         0.         0.         0.         0.         0.         0.         0.         0.         0.         0.         0.         0.         0.         0.         0.         0.\n",
            "  0.         0.         0.         0.         0.         0.         0.         0.         0.         0.         0.        ]\n",
            " [0.         0.         0.         0.         0.         0.         0.         0.         0.         0.         0.         0.         0.         0.         0.         0.         0.\n",
            "  0.         0.         0.         0.         0.         0.         0.         0.         0.         0.         0.        ]\n",
            " [0.         0.         0.         0.         0.         0.         0.         0.         0.         0.         0.         0.         0.         0.         0.         0.         0.\n",
            "  0.         0.         0.         0.         0.         0.         0.         0.         0.         0.         0.        ]\n",
            " [0.         0.         0.         0.         0.         0.         0.         0.         0.         0.         0.         0.         0.         0.         0.         0.         0.\n",
            "  0.         0.         0.         0.2627451  0.90980392 0.15294118 0.         0.         0.         0.         0.        ]\n",
            " [0.         0.         0.         0.         0.24313725 0.31764706 0.         0.         0.         0.         0.         0.         0.         0.         0.         0.         0.\n",
            "  0.         0.         0.         0.47058824 0.70588235 0.15294118 0.         0.         0.         0.         0.        ]\n",
            " [0.         0.         0.         0.         0.49411765 0.63921569 0.         0.         0.         0.         0.         0.         0.         0.         0.         0.         0.\n",
            "  0.         0.         0.00784314 0.6        0.82352941 0.15686275 0.         0.         0.         0.         0.        ]\n",
            " [0.         0.         0.         0.         0.8627451  0.63921569 0.         0.         0.         0.         0.         0.         0.         0.         0.         0.         0.\n",
            "  0.         0.         0.10588235 0.99607843 0.63529412 0.         0.         0.         0.         0.         0.        ]\n",
            " [0.         0.         0.         0.         0.87058824 0.63921569 0.         0.         0.         0.         0.         0.         0.         0.         0.         0.         0.\n",
            "  0.         0.         0.71764706 0.99607843 0.49019608 0.         0.         0.         0.         0.         0.        ]\n",
            " [0.         0.         0.         0.18039216 0.96078431 0.63921569 0.         0.         0.         0.         0.         0.         0.         0.         0.         0.         0.\n",
            "  0.         0.         0.77647059 0.99607843 0.21960784 0.         0.         0.         0.         0.         0.        ]\n",
            " [0.         0.         0.         0.47058824 0.99607843 0.63921569 0.         0.         0.         0.         0.         0.         0.         0.         0.         0.         0.\n",
            "  0.         0.09019608 0.90588235 0.99607843 0.11372549 0.         0.         0.         0.         0.         0.        ]\n",
            " [0.         0.         0.         0.62352941 0.99607843 0.47058824 0.         0.         0.         0.         0.         0.         0.         0.         0.         0.         0.\n",
            "  0.         0.63921569 0.99607843 0.84705882 0.0627451  0.         0.         0.         0.         0.         0.        ]\n",
            " [0.         0.         0.         0.62352941 0.99607843 0.2627451  0.         0.         0.         0.         0.         0.         0.         0.         0.         0.05490196 0.3372549\n",
            "  0.69803922 0.97254902 0.99607843 0.35686275 0.         0.         0.         0.         0.         0.         0.        ]\n",
            " [0.         0.         0.         0.62352941 0.99607843 0.33333333 0.         0.         0.         0.18431373 0.19215686 0.45490196 0.56470588 0.58823529 0.94509804 0.95294118 0.91764706\n",
            "  0.70196078 0.94509804 0.98823529 0.15686275 0.         0.         0.         0.         0.         0.         0.        ]\n",
            " [0.         0.         0.         0.58823529 0.99215686 0.92941176 0.81176471 0.81176471 0.81176471 0.99215686 0.99607843 0.98039216 0.94117647 0.77647059 0.56078431 0.35686275 0.10980392\n",
            "  0.01960784 0.91372549 0.98039216 0.         0.         0.         0.         0.         0.         0.         0.        ]\n",
            " [0.         0.         0.         0.         0.46666667 0.69411765 0.69411765 0.69411765 0.69411765 0.69411765 0.38431373 0.21960784 0.         0.         0.         0.         0.\n",
            "  0.4        0.99607843 0.8627451  0.         0.         0.         0.         0.         0.         0.         0.        ]\n",
            " [0.         0.         0.         0.         0.         0.         0.         0.         0.         0.         0.         0.         0.         0.         0.         0.         0.\n",
            "  0.6627451  0.99607843 0.5372549  0.         0.         0.         0.         0.         0.         0.         0.        ]\n",
            " [0.         0.         0.         0.         0.         0.         0.         0.         0.         0.         0.         0.         0.         0.         0.         0.         0.\n",
            "  0.6627451  0.99607843 0.22352941 0.         0.         0.         0.         0.         0.         0.         0.        ]\n",
            " [0.         0.         0.         0.         0.         0.         0.         0.         0.         0.         0.         0.         0.         0.         0.         0.         0.\n",
            "  0.6627451  0.99607843 0.22352941 0.         0.         0.         0.         0.         0.         0.         0.        ]\n",
            " [0.         0.         0.         0.         0.         0.         0.         0.         0.         0.         0.         0.         0.         0.         0.         0.         0.\n",
            "  0.6627451  1.         0.36862745 0.         0.         0.         0.         0.         0.         0.         0.        ]\n",
            " [0.         0.         0.         0.         0.         0.         0.         0.         0.         0.         0.         0.         0.         0.         0.         0.         0.\n",
            "  0.6627451  0.99607843 0.37647059 0.         0.         0.         0.         0.         0.         0.         0.        ]\n",
            " [0.         0.         0.         0.         0.         0.         0.         0.         0.         0.         0.         0.         0.         0.         0.         0.         0.\n",
            "  0.6627451  0.99607843 0.6        0.         0.         0.         0.         0.         0.         0.         0.        ]\n",
            " [0.         0.         0.         0.         0.         0.         0.         0.         0.         0.         0.         0.         0.         0.         0.         0.         0.\n",
            "  0.6627451  1.         0.6        0.         0.         0.         0.         0.         0.         0.         0.        ]\n",
            " [0.         0.         0.         0.         0.         0.         0.         0.         0.         0.         0.         0.         0.         0.         0.         0.         0.\n",
            "  0.37647059 0.99607843 0.6        0.         0.         0.         0.         0.         0.         0.         0.        ]\n",
            " [0.         0.         0.         0.         0.         0.         0.         0.         0.         0.         0.         0.         0.         0.         0.         0.         0.\n",
            "  0.         0.         0.         0.         0.         0.         0.         0.         0.         0.         0.        ]\n",
            " [0.         0.         0.         0.         0.         0.         0.         0.         0.         0.         0.         0.         0.         0.         0.         0.         0.\n",
            "  0.         0.         0.         0.         0.         0.         0.         0.         0.         0.         0.        ]\n",
            " [0.         0.         0.         0.         0.         0.         0.         0.         0.         0.         0.         0.         0.         0.         0.         0.         0.\n",
            "  0.         0.         0.         0.         0.         0.         0.         0.         0.         0.         0.        ]]\n"
          ],
          "name": "stdout"
        }
      ]
    },
    {
      "cell_type": "code",
      "metadata": {
        "colab": {
          "base_uri": "https://localhost:8080/"
        },
        "id": "TbxuCDhg-djD",
        "outputId": "4998828e-fb74-4844-9145-1a03de7cd335"
      },
      "source": [
        "training_images.max()"
      ],
      "execution_count": null,
      "outputs": [
        {
          "output_type": "execute_result",
          "data": {
            "text/plain": [
              "1.0"
            ]
          },
          "metadata": {
            "tags": []
          },
          "execution_count": 15
        }
      ]
    },
    {
      "cell_type": "code",
      "metadata": {
        "colab": {
          "base_uri": "https://localhost:8080/",
          "height": 265
        },
        "id": "W8aRT6RL8fIG",
        "outputId": "305961e4-f90f-4003-facd-2084101c118c"
      },
      "source": [
        "plt.imshow(training_images[2]);"
      ],
      "execution_count": null,
      "outputs": [
        {
          "output_type": "display_data",
          "data": {
            "image/png": "[encoded data removed]",
            "text/plain": [
              "<Figure size 432x288 with 1 Axes>"
            ]
          },
          "metadata": {
            "tags": [],
            "needs_background": "light"
          }
        }
      ]
    },
    {
      "cell_type": "markdown",
      "metadata": {
        "id": "pYMsyOk8-xnf"
      },
      "source": [
        "## Define and Compile Model"
      ]
    },
    {
      "cell_type": "code",
      "metadata": {
        "colab": {
          "base_uri": "https://localhost:8080/"
        },
        "id": "dEdoqWl28dB3",
        "outputId": "5cbf04cb-39a2-4e1e-bed1-ec57dc851a9c"
      },
      "source": [
        "model = tf.keras.models.Sequential([tf.keras.layers.Flatten(input_shape=(28,28)),\n",
        "                                    tf.keras.layers.Dense(20, activation=tf.nn.relu),\n",
        "                                    tf.keras.layers.Dense(10, activation=tf.nn.softmax)])\n",
        "model.summary()"
      ],
      "execution_count": null,
      "outputs": [
        {
          "output_type": "stream",
          "text": [
            "Model: \"sequential_2\"\n",
            "_________________________________________________________________\n",
            "Layer (type)                 Output Shape              Param #   \n",
            "=================================================================\n",
            "flatten_2 (Flatten)          (None, 784)               0         \n",
            "_________________________________________________________________\n",
            "dense_4 (Dense)              (None, 20)                15700     \n",
            "_________________________________________________________________\n",
            "dense_5 (Dense)              (None, 10)                210       \n",
            "=================================================================\n",
            "Total params: 15,910\n",
            "Trainable params: 15,910\n",
            "Non-trainable params: 0\n",
            "_________________________________________________________________\n"
          ],
          "name": "stdout"
        }
      ]
    },
    {
      "cell_type": "code",
      "metadata": {
        "id": "NA21O9Y0_BJ7"
      },
      "source": [
        "model.compile(\n",
        "    optimizer='adam',\n",
        "    loss='sparse_categorical_crossentropy', # Labels are not as an array \n",
        "    metrics=['accuracy'] # Calculates how often predictions equal labels\n",
        "    )"
      ],
      "execution_count": null,
      "outputs": []
    },
    {
      "cell_type": "markdown",
      "metadata": {
        "id": "pJZ4fvT3_yd7"
      },
      "source": [
        "## Train the model"
      ]
    },
    {
      "cell_type": "code",
      "metadata": {
        "colab": {
          "base_uri": "https://localhost:8080/"
        },
        "id": "RxklrX_R_uvn",
        "outputId": "e47f429c-1228-4adc-d3cc-62de219d266c"
      },
      "source": [
        "%%time\n",
        "history = model.fit(\n",
        "    training_images, \n",
        "    training_labels, \n",
        "    epochs=20, \n",
        "    )"
      ],
      "execution_count": null,
      "outputs": [
        {
          "output_type": "stream",
          "text": [
            "Epoch 1/20\n",
            "1875/1875 [==============================] - 3s 2ms/step - loss: 0.6876 - accuracy: 0.8021\n",
            "Epoch 2/20\n",
            "1875/1875 [==============================] - 3s 2ms/step - loss: 0.2257 - accuracy: 0.9371\n",
            "Epoch 3/20\n",
            "1875/1875 [==============================] - 3s 2ms/step - loss: 0.1842 - accuracy: 0.9458\n",
            "Epoch 4/20\n",
            "1875/1875 [==============================] - 3s 2ms/step - loss: 0.1579 - accuracy: 0.9530\n",
            "Epoch 5/20\n",
            "1875/1875 [==============================] - 3s 2ms/step - loss: 0.1408 - accuracy: 0.9579\n",
            "Epoch 6/20\n",
            "1875/1875 [==============================] - 3s 2ms/step - loss: 0.1337 - accuracy: 0.9606\n",
            "Epoch 7/20\n",
            "1875/1875 [==============================] - 3s 2ms/step - loss: 0.1213 - accuracy: 0.9635\n",
            "Epoch 8/20\n",
            "1875/1875 [==============================] - 3s 2ms/step - loss: 0.1193 - accuracy: 0.9647\n",
            "Epoch 9/20\n",
            "1875/1875 [==============================] - 3s 2ms/step - loss: 0.1121 - accuracy: 0.9661\n",
            "Epoch 10/20\n",
            "1875/1875 [==============================] - 3s 2ms/step - loss: 0.1056 - accuracy: 0.9685\n",
            "Epoch 11/20\n",
            "1875/1875 [==============================] - 3s 2ms/step - loss: 0.0987 - accuracy: 0.9702\n",
            "Epoch 12/20\n",
            "1875/1875 [==============================] - 3s 2ms/step - loss: 0.0952 - accuracy: 0.9700\n",
            "Epoch 13/20\n",
            "1875/1875 [==============================] - 3s 2ms/step - loss: 0.0937 - accuracy: 0.9725\n",
            "Epoch 14/20\n",
            "1875/1875 [==============================] - 3s 2ms/step - loss: 0.0974 - accuracy: 0.9710\n",
            "Epoch 15/20\n",
            "1875/1875 [==============================] - 3s 2ms/step - loss: 0.0877 - accuracy: 0.9730\n",
            "Epoch 16/20\n",
            "1875/1875 [==============================] - 3s 2ms/step - loss: 0.0851 - accuracy: 0.9735\n",
            "Epoch 17/20\n",
            "1875/1875 [==============================] - 3s 2ms/step - loss: 0.0853 - accuracy: 0.9738\n",
            "Epoch 18/20\n",
            "1875/1875 [==============================] - 3s 2ms/step - loss: 0.0821 - accuracy: 0.9762\n",
            "Epoch 19/20\n",
            "1875/1875 [==============================] - 3s 2ms/step - loss: 0.0809 - accuracy: 0.9753\n",
            "Epoch 20/20\n",
            "1875/1875 [==============================] - 3s 2ms/step - loss: 0.0775 - accuracy: 0.9762\n",
            "CPU times: user 1min 4s, sys: 6.64 s, total: 1min 11s\n",
            "Wall time: 59.4 s\n"
          ],
          "name": "stdout"
        }
      ]
    },
    {
      "cell_type": "markdown",
      "metadata": {
        "id": "p4NsJOsA69Y8"
      },
      "source": [
        "CPU times: user 58.3 s, sys: 5.26 s, total: 1min 3s\n",
        "Wall time: 49.8 s"
      ]
    },
    {
      "cell_type": "markdown",
      "metadata": {
        "id": "0xAXSo5-HCIo"
      },
      "source": [
        "Inspecting the model"
      ]
    },
    {
      "cell_type": "code",
      "metadata": {
        "colab": {
          "base_uri": "https://localhost:8080/"
        },
        "id": "ChxfmUKr8xrA",
        "outputId": "b97e0411-bb9d-418b-c400-8eb4167e24b5"
      },
      "source": [
        "train_eval = model.evaluate(training_images, training_labels)\n",
        "print (\"Training data Accuracy: {:.1f}%\".format(train_eval[1]*100))"
      ],
      "execution_count": null,
      "outputs": [
        {
          "output_type": "stream",
          "text": [
            "1875/1875 [==============================] - 3s 1ms/step - loss: 0.0792 - accuracy: 0.9752\n",
            "Training data Accuracy: 97.5%\n"
          ],
          "name": "stdout"
        }
      ]
    },
    {
      "cell_type": "code",
      "metadata": {
        "colab": {
          "base_uri": "https://localhost:8080/",
          "height": 295
        },
        "id": "g6qHpwg8BpZi",
        "outputId": "6522989b-c1b9-4ae2-959a-17cf8f4cdcd0"
      },
      "source": [
        "plt.plot(history.history['loss'])\n",
        "plt.title('model loss')\n",
        "plt.ylabel('loss')\n",
        "plt.xlabel('epoch')\n",
        "plt.legend(['train'], loc='upper right')\n",
        "plt.show()"
      ],
      "execution_count": null,
      "outputs": [
        {
          "output_type": "display_data",
          "data": {
            "image/png": "[encoded data removed]",
            "text/plain": [
              "<Figure size 432x288 with 1 Axes>"
            ]
          },
          "metadata": {
            "tags": [],
            "needs_background": "light"
          }
        }
      ]
    },
    {
      "cell_type": "code",
      "metadata": {
        "colab": {
          "base_uri": "https://localhost:8080/",
          "height": 295
        },
        "id": "yRvANX7cHU2n",
        "outputId": "8ea451c9-4998-4b6e-9f4f-ee3eb436368b"
      },
      "source": [
        "plt.plot(history.history['accuracy'])\n",
        "plt.title('model accuracy')\n",
        "plt.ylabel('accuracy')\n",
        "plt.xlabel('epoch')\n",
        "plt.legend(['accuraccy'], loc='upper left')\n",
        "plt.show()"
      ],
      "execution_count": null,
      "outputs": [
        {
          "output_type": "display_data",
          "data": {
            "image/png": "[encoded data removed]",
            "text/plain": [
              "<Figure size 432x288 with 1 Axes>"
            ]
          },
          "metadata": {
            "tags": [],
            "needs_background": "light"
          }
        }
      ]
    },
    {
      "cell_type": "markdown",
      "metadata": {
        "id": "JYHTdEJVH0tZ"
      },
      "source": [
        "## Testing the trained model\n",
        "\n",
        "Using `model.evaluate`, you can get metrics for a test set. In this case we only have a training set and a validation set, so we can try it out with the validation set. The accuracy will be slightly lower, at maybe 96%. This is because the model hasn't previously seen this data and may not be fully generalized for all data. Still it's a pretty good score.\n",
        "You can also predict images, and compare against their actual label. The [0] image in the set is a number 7, and here you can see that neuron 7 has a 9.9e-1 (99%+) probability, so it got it right!"
      ]
    },
    {
      "cell_type": "code",
      "metadata": {
        "colab": {
          "base_uri": "https://localhost:8080/"
        },
        "id": "QBuJGqbSH6xT",
        "outputId": "dfd80ba2-7b20-4696-eba0-a9c919e6d9c7"
      },
      "source": [
        "test_eval = model.evaluate(val_images, val_labels)\n",
        "print (\"Testing data Accuracy: {:.1f}%\".format(test_eval[1]*100))"
      ],
      "execution_count": null,
      "outputs": [
        {
          "output_type": "stream",
          "text": [
            "313/313 [==============================] - 1s 2ms/step - loss: 0.1623 - accuracy: 0.9569\n",
            "Testing data Accuracy: 95.7%\n"
          ],
          "name": "stdout"
        }
      ]
    },
    {
      "cell_type": "code",
      "metadata": {
        "colab": {
          "base_uri": "https://localhost:8080/",
          "height": 265
        },
        "id": "rvNEv5BPIwPE",
        "outputId": "f23cb409-b2ea-46b7-8821-3ad7497da7fa"
      },
      "source": [
        "plt.imshow(val_images[0]);"
      ],
      "execution_count": null,
      "outputs": [
        {
          "output_type": "display_data",
          "data": {
            "image/png": "[encoded data removed]",
            "text/plain": [
              "<Figure size 432x288 with 1 Axes>"
            ]
          },
          "metadata": {
            "tags": [],
            "needs_background": "light"
          }
        }
      ]
    },
    {
      "cell_type": "code",
      "metadata": {
        "colab": {
          "base_uri": "https://localhost:8080/"
        },
        "id": "ysGu1V_PJ28-",
        "outputId": "a082c683-ae21-4006-d22f-08e02bb2bea8"
      },
      "source": [
        "print(val_labels[0])"
      ],
      "execution_count": null,
      "outputs": [
        {
          "output_type": "stream",
          "text": [
            "7\n"
          ],
          "name": "stdout"
        }
      ]
    },
    {
      "cell_type": "code",
      "metadata": {
        "colab": {
          "base_uri": "https://localhost:8080/"
        },
        "id": "tkaTLMaTIbIL",
        "outputId": "bcd5ece2-3f7e-40db-8998-5097fc5eb5d1"
      },
      "source": [
        "classifications = model.predict(val_images)\n",
        "print(classifications[0])"
      ],
      "execution_count": null,
      "outputs": [
        {
          "output_type": "stream",
          "text": [
            "[1.7654602e-06 1.0148075e-09 2.5460780e-05 1.1620212e-05 8.0620901e-12 5.2848537e-10 2.8966587e-16 9.9995971e-01 1.0392427e-07 1.2807045e-06]\n"
          ],
          "name": "stdout"
        }
      ]
    },
    {
      "cell_type": "code",
      "metadata": {
        "colab": {
          "base_uri": "https://localhost:8080/"
        },
        "id": "yjenS2EZJH6h",
        "outputId": "e2970c08-45b2-48c9-bcec-e8867727cefd"
      },
      "source": [
        "# Returns the indices of the maximum values along an axis.\n",
        "np.argmax(classifications[0])"
      ],
      "execution_count": null,
      "outputs": [
        {
          "output_type": "execute_result",
          "data": {
            "text/plain": [
              "7"
            ]
          },
          "metadata": {
            "tags": []
          },
          "execution_count": 46
        }
      ]
    },
    {
      "cell_type": "markdown",
      "metadata": {
        "id": "wT3DM9IRjy6J"
      },
      "source": [
        "## Inspecting Errors"
      ]
    },
    {
      "cell_type": "code",
      "metadata": {
        "colab": {
          "base_uri": "https://localhost:8080/"
        },
        "id": "ZNzmTmJmATNQ",
        "outputId": "e2717432-845e-4164-fcd2-1bb04308a14b"
      },
      "source": [
        "predict_errors = []\n",
        "for i in range(len(val_labels)):\n",
        "  predicted_label = np.argmax(classifications[i])\n",
        "  if predicted_label != val_labels[i]:\n",
        "    predict_errors.append(i)\n",
        "\n",
        "print(1-(len(predict_errors)/len(val_labels)))"
      ],
      "execution_count": null,
      "outputs": [
        {
          "output_type": "stream",
          "text": [
            "0.9569\n"
          ],
          "name": "stdout"
        }
      ]
    },
    {
      "cell_type": "code",
      "metadata": {
        "colab": {
          "base_uri": "https://localhost:8080/"
        },
        "id": "Sq2oMvHyFLH_",
        "outputId": "aa48f627-adab-4349-9721-9d7fc9678e05"
      },
      "source": [
        "predict_errors[:10]"
      ],
      "execution_count": null,
      "outputs": [
        {
          "output_type": "execute_result",
          "data": {
            "text/plain": [
              "[8, 61, 64, 245, 247, 259, 320, 321, 340, 362]"
            ]
          },
          "metadata": {
            "tags": []
          },
          "execution_count": 48
        }
      ]
    },
    {
      "cell_type": "code",
      "metadata": {
        "colab": {
          "base_uri": "https://localhost:8080/",
          "height": 298
        },
        "id": "K6eEPtN5AdCX",
        "outputId": "5f5d9c38-3f0b-4b8e-be9f-da054412812c"
      },
      "source": [
        "i = predict_errors[5]\n",
        "predicted_label = np.argmax(classifications[i])\n",
        "print(\"    Real label of image {} is: {}\".format(i, val_labels[i]))\n",
        "print(\" Predict label of image {} is: {}\".format(i, predicted_label))\n",
        "plt.imshow(val_images[i]);"
      ],
      "execution_count": null,
      "outputs": [
        {
          "output_type": "stream",
          "text": [
            "    Real label of image 259 is: 6\n",
            " Predict label of image 259 is: 0\n"
          ],
          "name": "stdout"
        },
        {
          "output_type": "display_data",
          "data": {
            "image/png": "[encoded data removed]",
            "text/plain": [
              "<Figure size 432x288 with 1 Axes>"
            ]
          },
          "metadata": {
            "tags": [],
            "needs_background": "light"
          }
        }
      ]
    },
    {
      "cell_type": "markdown",
      "metadata": {
        "id": "N_D_yEaAKHlr"
      },
      "source": [
        "## Modify to inspect learned values\n",
        "\n",
        "This code is identical, except that the layers are named prior to adding to the sequential. This allows us to inspect their learned parameters later."
      ]
    },
    {
      "cell_type": "code",
      "metadata": {
        "colab": {
          "base_uri": "https://localhost:8080/"
        },
        "id": "DCwgerwjKaLz",
        "outputId": "02de89e4-200c-4440-d5ee-e8e508467d4e"
      },
      "source": [
        "layer_1 = tf.keras.layers.Dense(20, activation=tf.nn.relu)\n",
        "layer_2 = tf.keras.layers.Dense(10, activation=tf.nn.softmax)\n",
        "\n",
        "model = tf.keras.models.Sequential([tf.keras.layers.Flatten(input_shape=(28,28)),\n",
        "                                    layer_1,\n",
        "                                    layer_2])\n",
        "\n",
        "model.compile(optimizer='adam',\n",
        "              loss='sparse_categorical_crossentropy',\n",
        "              metrics=['accuracy'])\n",
        "\n",
        "model.fit(training_images, \n",
        "          training_labels, \n",
        "          epochs=20,\n",
        "          verbose=0\n",
        "          )\n",
        "\n",
        "test_eval = model.evaluate(val_images, val_labels)\n",
        "print (\"Testing data Accuracy: {:.1f}%\".format(test_eval[1]*100))"
      ],
      "execution_count": null,
      "outputs": [
        {
          "output_type": "stream",
          "text": [
            "313/313 [==============================] - 1s 2ms/step - loss: 0.1399 - accuracy: 0.9619\n",
            "Testing data Accuracy: 96.2%\n"
          ],
          "name": "stdout"
        }
      ]
    },
    {
      "cell_type": "code",
      "metadata": {
        "colab": {
          "base_uri": "https://localhost:8080/"
        },
        "id": "oNUJdZ6gKwf0",
        "outputId": "5b905d56-a66b-4797-9e62-f534c5244550"
      },
      "source": [
        "classifications = model.predict(val_images)\n",
        "print(classifications[0])\n",
        "print(np.argmax(classifications[0]))\n",
        "print(val_labels[0])"
      ],
      "execution_count": null,
      "outputs": [
        {
          "output_type": "stream",
          "text": [
            "[1.4771619e-07 5.6308975e-11 2.2284262e-07 6.1500049e-04 1.8340124e-10 3.6535695e-08 9.7987958e-16 9.9925548e-01 3.4773664e-05 9.4327050e-05]\n",
            "7\n",
            "7\n"
          ],
          "name": "stdout"
        }
      ]
    },
    {
      "cell_type": "markdown",
      "metadata": {
        "id": "Kr4qEvowLSai"
      },
      "source": [
        "Inspect Layer 1"
      ]
    },
    {
      "cell_type": "code",
      "metadata": {
        "colab": {
          "base_uri": "https://localhost:8080/"
        },
        "id": "2qbgKY71Latz",
        "outputId": "559b6798-4234-4fec-c9bf-10588d7327a2"
      },
      "source": [
        "print(\"Layer 1 Ws ==>\", layer_1.get_weights()[0].size)\n",
        "print(\"Layer 1 bs ==>\", layer_1.get_weights()[1].size)"
      ],
      "execution_count": null,
      "outputs": [
        {
          "output_type": "stream",
          "text": [
            "Layer 1 Ws ==> 15680\n",
            "Layer 1 bs ==> 20\n"
          ],
          "name": "stdout"
        }
      ]
    },
    {
      "cell_type": "markdown",
      "metadata": {
        "id": "0IOf5K5_LqLw"
      },
      "source": [
        "The `get_weights()[0]` contains the weights (Ws). Why we have 15,680 w's on layer 1? Recall that there are 20 neurons in the first layer and, that the images are 28x28 pixels, which is 784. So, if you multiply 784 x 20 you get 15,680.\n",
        "\n",
        "This layer has 20 neurons, and each neuron learns a W parameter for each pixel. So instead of y=Mx+c, we have \n",
        "y=M1X1+M2X2+M3X3+....+M784X784+C in every neuron! Every pixel has a weight in every neuron. Those weights are multiplied by the pixel value, summed up, and given a bias.\n",
        "\n",
        "The `get_weights()[1]` contains the biases (bs), one for each of the 20 neurons in this layer.\n"
      ]
    },
    {
      "cell_type": "markdown",
      "metadata": {
        "id": "AtzjbvbeNxts"
      },
      "source": [
        "Inspect Layer 2"
      ]
    },
    {
      "cell_type": "code",
      "metadata": {
        "colab": {
          "base_uri": "https://localhost:8080/"
        },
        "id": "_FCiM_CEOPep",
        "outputId": "1f472d26-2b34-4ae5-d7d3-d883457db4c2"
      },
      "source": [
        "print(\"Layer 2 Ws ==>\", layer_2.get_weights()[0].size)\n",
        "print(\"Layer 2 bs ==>\", layer_2.get_weights()[1].size)"
      ],
      "execution_count": null,
      "outputs": [
        {
          "output_type": "stream",
          "text": [
            "Layer 2 Ws ==> 200\n",
            "Layer 2 bs ==> 10\n"
          ],
          "name": "stdout"
        }
      ]
    },
    {
      "cell_type": "markdown",
      "metadata": {
        "id": "YbvQq_3vOlVf"
      },
      "source": [
        "Layer 2 has 200 Ws. This is because are 10 neurons in this layer, but there are 20 neurons in the previous layer. So, each neuron in this layer will learn a weight for the incoming value from the previous layer. So, for example, the if the first neuron in this layer is N21, and the neurons output from the previous layers are N11-N120, then this neuron will have 20 weights (W1-W20) and it will calculate its output to be:\n",
        "\n",
        "`W1N11+W2N12+W3N13+...+W20N120+Bias`\n",
        "\n",
        "So each of these weights will be learned as will the bias, for every neuron.\n",
        "\n",
        "Note that N11 refers to Layer 1 Neuron 1."
      ]
    },
    {
      "cell_type": "markdown",
      "metadata": {
        "id": "dnPuvtrWPJ0f"
      },
      "source": [
        "...and as expected there are 10 elements in the second array, representing the 10 biases for the 10 neurons.\n",
        "Hopefully this helps you see how the element of a simple neuron containing y=mx+c can be expanded greatly into a deep neural network, and that DNN can learn the parameters that match the 784 pixels of an image to their output!"
      ]
    }
  ]
}